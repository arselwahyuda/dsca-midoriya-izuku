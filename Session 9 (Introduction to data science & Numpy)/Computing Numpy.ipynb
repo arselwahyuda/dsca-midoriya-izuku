{
 "cells": [
  {
   "cell_type": "code",
   "execution_count": 1,
   "id": "a433856a-b9ab-4471-b926-69f10170907a",
   "metadata": {},
   "outputs": [],
   "source": [
    "import numpy as np"
   ]
  },
  {
   "cell_type": "code",
   "execution_count": 2,
   "id": "f20b47a3-e989-4717-9008-f600a456b958",
   "metadata": {},
   "outputs": [],
   "source": [
    "array2d = np.array([[1, 2, 4], [2, 4, 8], [3, 6, 18], [4, 16, 32]])\n",
    "array3d = np.array([[[.1, .4], [.2, .5], [.3, .6]], [[.7, 1.], [.8, 1.1], [.9, 1.2]]])"
   ]
  },
  {
   "cell_type": "code",
   "execution_count": 3,
   "id": "1a0cb243-48e1-4d32-91f0-f68463dea486",
   "metadata": {},
   "outputs": [
    {
     "name": "stdout",
     "output_type": "stream",
     "text": [
      "[[ 1  2  4]\n",
      " [ 2  4  8]\n",
      " [ 3  6 18]\n",
      " [ 4 16 32]]\n",
      "[[[0.1 0.4]\n",
      "  [0.2 0.5]\n",
      "  [0.3 0.6]]\n",
      "\n",
      " [[0.7 1. ]\n",
      "  [0.8 1.1]\n",
      "  [0.9 1.2]]]\n"
     ]
    }
   ],
   "source": [
    "array2d = np.array([[1, 2, 4], [2, 4, 8], [3, 6, 18], [4, 16, 32]])\n",
    "array3d = np.array([[[.1, .4], [.2, .5], [.3, .6]], [[.7, 1.], [.8, 1.1], [.9, 1.2]]])\n",
    "\n",
    "print(array2d)\n",
    "print(array3d)"
   ]
  },
  {
   "cell_type": "code",
   "execution_count": 4,
   "id": "2ae9d43d-63bf-4550-b673-f4b304013742",
   "metadata": {},
   "outputs": [
    {
     "name": "stdout",
     "output_type": "stream",
     "text": [
      "Old Shape: (4, 3)\n",
      "[[ 1  2  4]\n",
      " [ 2  4  8]\n",
      " [ 3  6 18]\n",
      " [ 4 16 32]]\n",
      "new shape: (2, 6)\n",
      "[[ 1  2  4  2  4  8]\n",
      " [ 3  6 18  4 16 32]]\n"
     ]
    }
   ],
   "source": [
    "print(\"Old Shape:\", array2d.shape)\n",
    "print(array2d)\n",
    "array2d_new = np.reshape(array2d, (2, 6))\n",
    "print(\"new shape:\", array2d_new.shape)\n",
    "print(array2d_new)"
   ]
  },
  {
   "cell_type": "code",
   "execution_count": 5,
   "id": "d8638e13-e5e0-496c-adef-31ce7127a8fd",
   "metadata": {},
   "outputs": [
    {
     "name": "stdout",
     "output_type": "stream",
     "text": [
      "old shape: (2, 3, 2)\n",
      "[[[0.1 0.4]\n",
      "  [0.2 0.5]\n",
      "  [0.3 0.6]]\n",
      "\n",
      " [[0.7 1. ]\n",
      "  [0.8 1.1]\n",
      "  [0.9 1.2]]]\n",
      "new shape: (4, 3)\n",
      "[[0.1 0.4 0.2]\n",
      " [0.5 0.3 0.6]\n",
      " [0.7 1.  0.8]\n",
      " [1.1 0.9 1.2]]\n"
     ]
    }
   ],
   "source": [
    "print(\"old shape:\", array3d.shape)\n",
    "print(array3d)\n",
    "array3d_new = np.reshape(array3d, (4, 3))\n",
    "print(\"new shape:\", array3d_new.shape)\n",
    "print(array3d_new)"
   ]
  },
  {
   "cell_type": "code",
   "execution_count": 6,
   "id": "27527612-8c8a-48cb-8935-c0f1e5334e98",
   "metadata": {},
   "outputs": [
    {
     "data": {
      "text/plain": [
       "array([[0.1, 0.4, 0.2],\n",
       "       [0.5, 0.3, 0.6],\n",
       "       [0.7, 1. , 0.8],\n",
       "       [1.1, 0.9, 1.2]])"
      ]
     },
     "execution_count": 6,
     "metadata": {},
     "output_type": "execute_result"
    }
   ],
   "source": [
    "array3d.reshape((4, 3))"
   ]
  },
  {
   "cell_type": "code",
   "execution_count": 7,
   "id": "16762ae6-e49a-48c5-bb6d-9b21c675f640",
   "metadata": {},
   "outputs": [
    {
     "data": {
      "text/plain": [
       "array([[ 1,  2,  3,  4],\n",
       "       [ 2,  4,  6, 16],\n",
       "       [ 4,  8, 18, 32]])"
      ]
     },
     "execution_count": 7,
     "metadata": {},
     "output_type": "execute_result"
    }
   ],
   "source": [
    "#numpy_transpose #untuk mengubah ukuran reshape\n",
    "\n",
    "np.transpose(array2d)"
   ]
  },
  {
   "cell_type": "code",
   "execution_count": 8,
   "id": "3e98d8d2-8c31-4d31-9ac3-c17b22c6ea35",
   "metadata": {},
   "outputs": [
    {
     "data": {
      "text/plain": [
       "array([[ 1,  2,  3,  4],\n",
       "       [ 2,  4,  6, 16],\n",
       "       [ 4,  8, 18, 32]])"
      ]
     },
     "execution_count": 8,
     "metadata": {},
     "output_type": "execute_result"
    }
   ],
   "source": [
    "np.transpose(array2d, axes=(1, 0))"
   ]
  },
  {
   "cell_type": "code",
   "execution_count": 11,
   "id": "e494890f-c949-4ce0-9c7b-9bba64fb6103",
   "metadata": {},
   "outputs": [
    {
     "name": "stdout",
     "output_type": "stream",
     "text": [
      "2 3 2\n"
     ]
    }
   ],
   "source": [
    "ax0, ax1, ax2 = array3d.shape\n",
    "print(ax0, ax1, ax2)"
   ]
  },
  {
   "cell_type": "code",
   "execution_count": 9,
   "id": "9f8853f0-7c12-4e25-b03b-00c01b810374",
   "metadata": {},
   "outputs": [
    {
     "data": {
      "text/plain": [
       "array([[[0.1, 0.7],\n",
       "        [0.2, 0.8],\n",
       "        [0.3, 0.9]],\n",
       "\n",
       "       [[0.4, 1. ],\n",
       "        [0.5, 1.1],\n",
       "        [0.6, 1.2]]])"
      ]
     },
     "execution_count": 9,
     "metadata": {},
     "output_type": "execute_result"
    }
   ],
   "source": [
    "np.transpose(array3d)"
   ]
  },
  {
   "cell_type": "code",
   "execution_count": 10,
   "id": "68f630dd-5d0e-4682-b712-492ec71836ee",
   "metadata": {},
   "outputs": [
    {
     "data": {
      "text/plain": [
       "array([[[0.1, 0.2, 0.3],\n",
       "        [0.4, 0.5, 0.6]],\n",
       "\n",
       "       [[0.7, 0.8, 0.9],\n",
       "        [1. , 1.1, 1.2]]])"
      ]
     },
     "execution_count": 10,
     "metadata": {},
     "output_type": "execute_result"
    }
   ],
   "source": [
    "np.transpose(array3d, axes=(0, 2, 1))"
   ]
  },
  {
   "cell_type": "code",
   "execution_count": 12,
   "id": "281eb324-c46f-440c-9467-9d7c70472b04",
   "metadata": {},
   "outputs": [
    {
     "name": "stdout",
     "output_type": "stream",
     "text": [
      "[[[1]\n",
      "  [1]\n",
      "  [7]]] (1, 3, 1)\n",
      "[[10]] (1, 1)\n",
      "[[[1 2]]\n",
      "\n",
      " [[1 2]]] (2, 1, 2)\n"
     ]
    }
   ],
   "source": [
    "#Numpy.squeeze\n",
    "\n",
    "rng = np.random.default_rng(11)\n",
    "\n",
    "array_131 = rng.integers(10, size=(1, 3, 1))\n",
    "array_212 = np.array([[[1, 2]], [[1, 2]]])\n",
    "array_11 = np.array([[10]])\n",
    "print(array_131, array_131.shape)\n",
    "print(array_11, array_11.shape)\n",
    "print(array_212, array_212.shape)"
   ]
  },
  {
   "cell_type": "code",
   "execution_count": null,
   "id": "7dfcd50a-ef3f-4f20-a1f1-78e39a5e10e8",
   "metadata": {},
   "outputs": [],
   "source": [
    "array_3 ="
   ]
  }
 ],
 "metadata": {
  "kernelspec": {
   "display_name": "Python 3 (ipykernel)",
   "language": "python",
   "name": "python3"
  },
  "language_info": {
   "codemirror_mode": {
    "name": "ipython",
    "version": 3
   },
   "file_extension": ".py",
   "mimetype": "text/x-python",
   "name": "python",
   "nbconvert_exporter": "python",
   "pygments_lexer": "ipython3",
   "version": "3.9.7"
  }
 },
 "nbformat": 4,
 "nbformat_minor": 5
}
