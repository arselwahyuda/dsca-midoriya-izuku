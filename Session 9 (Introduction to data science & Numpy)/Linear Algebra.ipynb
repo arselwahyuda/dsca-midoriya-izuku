{
 "cells": [
  {
   "cell_type": "code",
   "execution_count": 1,
   "id": "cf409d07-6a61-4632-9788-13cf239f2e71",
   "metadata": {},
   "outputs": [],
   "source": [
    "#Intro to Numpy: Numerical Python"
   ]
  },
  {
   "cell_type": "code",
   "execution_count": 2,
   "id": "3a24cd2c-0a19-406c-8a72-6414a731c224",
   "metadata": {},
   "outputs": [
    {
     "name": "stdout",
     "output_type": "stream",
     "text": [
      "1.21.2\n"
     ]
    }
   ],
   "source": [
    "import numpy as np\n",
    "print(np.__version__)"
   ]
  },
  {
   "cell_type": "code",
   "execution_count": 5,
   "id": "e45eb244-ebb1-4c6b-be67-ab370c9cc131",
   "metadata": {},
   "outputs": [
    {
     "name": "stdout",
     "output_type": "stream",
     "text": [
      "[[1, 2, 3, 4], [5, 6, 7, 8], [9, 10, 11, 12]]\n"
     ]
    }
   ],
   "source": [
    "list_of_list = [[1, 2, 3, 4],\n",
    "                [5, 6, 7, 8],\n",
    "                [9, 10, 11, 12]]\n",
    "print(list_of_list)"
   ]
  },
  {
   "cell_type": "code",
   "execution_count": 8,
   "id": "fbd4677c-6c99-422c-8d36-2d13056cfdec",
   "metadata": {},
   "outputs": [
    {
     "data": {
      "text/plain": [
       "[[1, 2, 3, 4],\n",
       " [5, 6, 7, 8],\n",
       " [9, 10, 11, 12],\n",
       " [1, 2, 3, 4],\n",
       " [5, 6, 7, 8],\n",
       " [9, 10, 11, 12]]"
      ]
     },
     "execution_count": 8,
     "metadata": {},
     "output_type": "execute_result"
    }
   ],
   "source": [
    "list_of_list * 2"
   ]
  },
  {
   "cell_type": "code",
   "execution_count": 10,
   "id": "92d13d4f-fac2-4618-bff5-66addc39acbf",
   "metadata": {},
   "outputs": [
    {
     "name": "stdout",
     "output_type": "stream",
     "text": [
      "[[2, 4, 6, 8], [10, 12, 14, 16], [18, 20, 22, 24]]\n"
     ]
    }
   ],
   "source": [
    "matrix_x_scalar = []\n",
    "for row in list_of_list:\n",
    "    temp = []\n",
    "    for item in row:\n",
    "        temp.append(2 * item)\n",
    "    matrix_x_scalar.append(temp)\n",
    "\n",
    "print(matrix_x_scalar)"
   ]
  },
  {
   "cell_type": "code",
   "execution_count": null,
   "id": "ee5d7113-425a-43cf-982d-0e0bd7004146",
   "metadata": {},
   "outputs": [],
   "source": [
    "#np.array([1, 2, 3])"
   ]
  },
  {
   "cell_type": "code",
   "execution_count": 12,
   "id": "f0fa07d6-2af6-4022-bec3-9f8bab5b115a",
   "metadata": {},
   "outputs": [
    {
     "name": "stdout",
     "output_type": "stream",
     "text": [
      "[1 2 3] <class 'numpy.ndarray'> int32\n",
      "[0.1 0.2 0.3 0.4] <class 'numpy.ndarray'> float64\n"
     ]
    }
   ],
   "source": [
    "int_array = np.array([1, 2, 3])\n",
    "float_array = np.array([.1, .2, .3, .4])\n",
    "\n",
    "print(int_array, type(int_array), int_array.dtype)\n",
    "print(float_array, type(int_array), float_array.dtype)"
   ]
  },
  {
   "cell_type": "code",
   "execution_count": 13,
   "id": "bbb30042-e656-405c-9056-cd8ad185b29c",
   "metadata": {},
   "outputs": [
    {
     "name": "stdout",
     "output_type": "stream",
     "text": [
      "[0 0 0]\n",
      "[1. 3. 4.]\n"
     ]
    }
   ],
   "source": [
    "print(np.array([.1, .2, .4], dtype=\"int\"))\n",
    "print(np.array([1, 3, 4], dtype=\"float\"))"
   ]
  },
  {
   "cell_type": "code",
   "execution_count": 14,
   "id": "8d9dd2e2-1bfb-407e-8ac8-461d5c3bb381",
   "metadata": {},
   "outputs": [
    {
     "name": "stdout",
     "output_type": "stream",
     "text": [
      "1 1\n",
      "(3,) (4,)\n",
      "3 4\n"
     ]
    }
   ],
   "source": [
    "print(int_array.ndim, float_array.ndim)\n",
    "print(int_array.shape, float_array.shape)\n",
    "print(int_array.size, float_array.size)"
   ]
  },
  {
   "cell_type": "code",
   "execution_count": 15,
   "id": "0b8773d5-96a2-4a3d-9f70-bd87af0aab3d",
   "metadata": {},
   "outputs": [
    {
     "name": "stdout",
     "output_type": "stream",
     "text": [
      "[[1 2]\n",
      " [3 4]]\n",
      "[[5 5]]\n",
      "[[2]\n",
      " [4]]\n"
     ]
    }
   ],
   "source": [
    "array_2x2 = np.array([[1, 2], [3, 4]])\n",
    "array_1x2 = np.array([[5, 5]])\n",
    "array_2x1 = np.array([[2], [4]])\n",
    "\n",
    "print(array_2x2)\n",
    "print(array_1x2)\n",
    "print(array_2x1)"
   ]
  },
  {
   "cell_type": "code",
   "execution_count": 16,
   "id": "7c578398-e660-46a7-a50e-64190b5f5e58",
   "metadata": {},
   "outputs": [
    {
     "name": "stdout",
     "output_type": "stream",
     "text": [
      "[[1, 2], [3, 4]]\n"
     ]
    }
   ],
   "source": [
    "print([[1, 2], [3, 4]])"
   ]
  },
  {
   "cell_type": "code",
   "execution_count": 17,
   "id": "8a73327f-5410-40fa-8223-ddacf37fca83",
   "metadata": {},
   "outputs": [
    {
     "name": "stdout",
     "output_type": "stream",
     "text": [
      "2 2 2\n",
      "(2, 2) (1, 2) (2, 1)\n",
      "4 2 2\n"
     ]
    }
   ],
   "source": [
    "print(array_2x2.ndim, array_1x2.ndim, array_2x1.ndim)\n",
    "print(array_2x2.shape, array_1x2.shape, array_2x1.shape)\n",
    "print(array_2x2.size, array_1x2.size, array_2x1.size)"
   ]
  },
  {
   "cell_type": "code",
   "execution_count": 19,
   "id": "9da7735f-16a7-49b3-a879-968a0161d7e8",
   "metadata": {},
   "outputs": [
    {
     "name": "stdout",
     "output_type": "stream",
     "text": [
      "[[1 2]\n",
      " [3 4]] <class 'numpy.matrix'>\n"
     ]
    }
   ],
   "source": [
    "#No longer recommeded\n",
    "m_2x2 = np.matrix ([[1, 2], [3, 4]])\n",
    "print(m_2x2, type(m_2x2))"
   ]
  },
  {
   "cell_type": "code",
   "execution_count": null,
   "id": "a1ef16f8-8011-44a2-aabb-944a99659aa6",
   "metadata": {},
   "outputs": [],
   "source": [
    "#Discourage\n",
    "np.array ([[1, 2], [3]])"
   ]
  },
  {
   "cell_type": "code",
   "execution_count": 20,
   "id": "659a4768-e382-44c0-b5bd-b2f0cfc44d29",
   "metadata": {},
   "outputs": [
    {
     "name": "stdout",
     "output_type": "stream",
     "text": [
      "[[[1 2 1]\n",
      "  [3 4 3]]\n",
      "\n",
      " [[5 4 5]\n",
      "  [6 5 6]]]\n",
      "[[[[ 1  2  1]\n",
      "   [ 3  4  3]]\n",
      "\n",
      "  [[ 5  6  5]\n",
      "   [ 7  8  7]]]\n",
      "\n",
      "\n",
      " [[[12 13 12]\n",
      "   [11 12 11]]\n",
      "\n",
      "  [[13 14 13]\n",
      "   [15 16 15]]]]\n"
     ]
    }
   ],
   "source": [
    "#Array N-Dimensi\n",
    "\n",
    "array_3d = np.array([[[1, 2, 1], [3, 4, 3]], [[5, 4, 5], [6, 5, 6]]])\n",
    "array_4d = np.array([[[[1, 2, 1], [3, 4, 3]], [[5, 6, 5], [7, 8, 7]]], [[[12, 13, 12], [11, 12, 11]], [[13, 14, 13], [15, 16, 15]]]])\n",
    "\n",
    "print(array_3d)\n",
    "print(array_4d)"
   ]
  },
  {
   "cell_type": "code",
   "execution_count": null,
   "id": "a591bcc4-6fd4-4095-96ae-faaac1d68210",
   "metadata": {},
   "outputs": [],
   "source": [
    "#Quiz 2 Cek on Deepnote"
   ]
  },
  {
   "cell_type": "code",
   "execution_count": 22,
   "id": "d568d2b7-be09-4b26-b0fc-ce00b10f12a5",
   "metadata": {},
   "outputs": [
    {
     "data": {
      "text/plain": [
       "array([0, 1, 2, 3, 4, 5, 6, 7, 8, 9])"
      ]
     },
     "execution_count": 22,
     "metadata": {},
     "output_type": "execute_result"
    }
   ],
   "source": [
    "#Penciptaan Array\n",
    "\n",
    "np.arange(10)"
   ]
  },
  {
   "cell_type": "code",
   "execution_count": 25,
   "id": "ecdb7020-3c36-4878-9e82-710f8dbbbc92",
   "metadata": {},
   "outputs": [
    {
     "data": {
      "text/plain": [
       "[]"
      ]
     },
     "execution_count": 25,
     "metadata": {},
     "output_type": "execute_result"
    }
   ],
   "source": [
    "# providing dtype\n",
    "\n",
    "np.arange(1, 10, dtype=float)\n",
    "np.arange(0, 11, 2)\n",
    "np.array(list(range(0, 11, 2)))\n",
    "np.arange(10, 0, -1)\n",
    "np.arange(1, 10. -1)\n",
    "list(range(1, 10, -1))"
   ]
  },
  {
   "cell_type": "code",
   "execution_count": 27,
   "id": "af59c1db-3b2b-4cbe-b5b0-57ad3bfca20a",
   "metadata": {},
   "outputs": [
    {
     "data": {
      "text/plain": [
       "array([0.        , 0.02040816, 0.04081633, 0.06122449, 0.08163265,\n",
       "       0.10204082, 0.12244898, 0.14285714, 0.16326531, 0.18367347,\n",
       "       0.20408163, 0.2244898 , 0.24489796, 0.26530612, 0.28571429,\n",
       "       0.30612245, 0.32653061, 0.34693878, 0.36734694, 0.3877551 ,\n",
       "       0.40816327, 0.42857143, 0.44897959, 0.46938776, 0.48979592,\n",
       "       0.51020408, 0.53061224, 0.55102041, 0.57142857, 0.59183673,\n",
       "       0.6122449 , 0.63265306, 0.65306122, 0.67346939, 0.69387755,\n",
       "       0.71428571, 0.73469388, 0.75510204, 0.7755102 , 0.79591837,\n",
       "       0.81632653, 0.83673469, 0.85714286, 0.87755102, 0.89795918,\n",
       "       0.91836735, 0.93877551, 0.95918367, 0.97959184, 1.        ])"
      ]
     },
     "execution_count": 27,
     "metadata": {},
     "output_type": "execute_result"
    }
   ],
   "source": [
    "np.linspace(0,1)"
   ]
  },
  {
   "cell_type": "code",
   "execution_count": 30,
   "id": "55961d9b-ba04-453d-821a-102e5b407051",
   "metadata": {},
   "outputs": [
    {
     "data": {
      "text/plain": [
       "array([1.  , 1.45, 1.9 , 2.35, 2.8 , 3.25, 3.7 , 4.15, 4.6 , 5.05, 5.5 ,\n",
       "       5.95, 6.4 , 6.85, 7.3 , 7.75, 8.2 , 8.65, 9.1 , 9.55])"
      ]
     },
     "execution_count": 30,
     "metadata": {},
     "output_type": "execute_result"
    }
   ],
   "source": [
    "np.linspace(1, 10, 20, endpoint=False)"
   ]
  },
  {
   "cell_type": "code",
   "execution_count": 29,
   "id": "c544d86b-62f4-4717-aa58-7bc28ae5540b",
   "metadata": {},
   "outputs": [
    {
     "data": {
      "text/plain": [
       "array([  0.        ,   2.04081633,   4.08163265,   6.12244898,\n",
       "         8.16326531,  10.20408163,  12.24489796,  14.28571429,\n",
       "        16.32653061,  18.36734694,  20.40816327,  22.44897959,\n",
       "        24.48979592,  26.53061224,  28.57142857,  30.6122449 ,\n",
       "        32.65306122,  34.69387755,  36.73469388,  38.7755102 ,\n",
       "        40.81632653,  42.85714286,  44.89795918,  46.93877551,\n",
       "        48.97959184,  51.02040816,  53.06122449,  55.10204082,\n",
       "        57.14285714,  59.18367347,  61.2244898 ,  63.26530612,\n",
       "        65.30612245,  67.34693878,  69.3877551 ,  71.42857143,\n",
       "        73.46938776,  75.51020408,  77.55102041,  79.59183673,\n",
       "        81.63265306,  83.67346939,  85.71428571,  87.75510204,\n",
       "        89.79591837,  91.83673469,  93.87755102,  95.91836735,\n",
       "        97.95918367, 100.        ])"
      ]
     },
     "execution_count": 29,
     "metadata": {},
     "output_type": "execute_result"
    }
   ],
   "source": [
    "np.linspace(0, 100, 50)"
   ]
  },
  {
   "cell_type": "code",
   "execution_count": null,
   "id": "87c7aa3c-1c86-4240-b673-a90de61226e8",
   "metadata": {},
   "outputs": [],
   "source": [
    "# numpy.eye"
   ]
  },
  {
   "cell_type": "code",
   "execution_count": 31,
   "id": "281bebf5-81bd-4607-9643-9150810a4e53",
   "metadata": {},
   "outputs": [
    {
     "name": "stdout",
     "output_type": "stream",
     "text": [
      "[[1. 0. 0. 0. 0.]\n",
      " [0. 1. 0. 0. 0.]\n",
      " [0. 0. 1. 0. 0.]\n",
      " [0. 0. 0. 1. 0.]\n",
      " [0. 0. 0. 0. 1.]]\n",
      "[[1. 0. 0. 0. 0. 0.]\n",
      " [0. 1. 0. 0. 0. 0.]\n",
      " [0. 0. 1. 0. 0. 0.]\n",
      " [0. 0. 0. 1. 0. 0.]]\n"
     ]
    }
   ],
   "source": [
    "print(np.eye(5))\n",
    "print(np.eye(4, 6))"
   ]
  },
  {
   "cell_type": "code",
   "execution_count": 32,
   "id": "acdaf48a-936d-4930-b8a5-1c163294a9b4",
   "metadata": {},
   "outputs": [
    {
     "name": "stdout",
     "output_type": "stream",
     "text": [
      "[0. 0. 0. 0. 0. 0. 0. 0. 0. 0.]\n"
     ]
    }
   ],
   "source": [
    "print(np.zeros(10))"
   ]
  },
  {
   "cell_type": "code",
   "execution_count": 33,
   "id": "b16ccc8c-2f94-4ef7-acb8-b91aaefa8108",
   "metadata": {},
   "outputs": [
    {
     "name": "stdout",
     "output_type": "stream",
     "text": [
      "[[0. 0. 0.]\n",
      " [0. 0. 0.]\n",
      " [0. 0. 0.]]\n"
     ]
    }
   ],
   "source": [
    "print(np.zeros((3, 3)))"
   ]
  },
  {
   "cell_type": "code",
   "execution_count": 34,
   "id": "9b220517-f9a1-4252-841c-e0b498b1ca10",
   "metadata": {},
   "outputs": [
    {
     "name": "stdout",
     "output_type": "stream",
     "text": [
      "[[[0. 0.]\n",
      "  [0. 0.]\n",
      "  [0. 0.]]\n",
      "\n",
      " [[0. 0.]\n",
      "  [0. 0.]\n",
      "  [0. 0.]]]\n"
     ]
    }
   ],
   "source": [
    "print(np.zeros((2, 3, 2)))"
   ]
  },
  {
   "cell_type": "code",
   "execution_count": 35,
   "id": "91214721-5d9e-48a0-ad05-f1fbe12e1c84",
   "metadata": {},
   "outputs": [
    {
     "name": "stdout",
     "output_type": "stream",
     "text": [
      "[[[0. 0. 0. 0.]\n",
      "  [0. 0. 0. 0.]]\n",
      "\n",
      " [[0. 0. 0. 0.]\n",
      "  [0. 0. 0. 0.]]\n",
      "\n",
      " [[0. 0. 0. 0.]\n",
      "  [0. 0. 0. 0.]]]\n"
     ]
    }
   ],
   "source": [
    "print(np.zeros((3, 2, 4)))"
   ]
  },
  {
   "cell_type": "code",
   "execution_count": 36,
   "id": "834cffe3-01dd-4989-bb91-8c53bb912c8d",
   "metadata": {},
   "outputs": [],
   "source": [
    "#Press Shift+Tab in () to see documentation"
   ]
  },
  {
   "cell_type": "code",
   "execution_count": 37,
   "id": "3bbb68e1-91d2-47f1-af6c-66e2763f61af",
   "metadata": {},
   "outputs": [
    {
     "data": {
      "text/plain": [
       "array([1., 1., 1., 1., 1., 1., 1., 1., 1., 1.])"
      ]
     },
     "execution_count": 37,
     "metadata": {},
     "output_type": "execute_result"
    }
   ],
   "source": [
    "np.ones(10)"
   ]
  },
  {
   "cell_type": "code",
   "execution_count": 38,
   "id": "43783688-b385-4f2e-a5a3-2fb6bcb33658",
   "metadata": {},
   "outputs": [
    {
     "name": "stdout",
     "output_type": "stream",
     "text": [
      "[[1. 1. 1.]\n",
      " [1. 1. 1.]\n",
      " [1. 1. 1.]]\n"
     ]
    }
   ],
   "source": [
    "print(np.ones((3, 3)))"
   ]
  },
  {
   "cell_type": "code",
   "execution_count": 39,
   "id": "71225851-4373-42be-95de-fcf6d7d4af7e",
   "metadata": {},
   "outputs": [
    {
     "name": "stdout",
     "output_type": "stream",
     "text": [
      "[[[1. 1.]\n",
      "  [1. 1.]\n",
      "  [1. 1.]]\n",
      "\n",
      " [[1. 1.]\n",
      "  [1. 1.]\n",
      "  [1. 1.]]]\n"
     ]
    }
   ],
   "source": [
    "print(np.ones((2, 3, 2)))"
   ]
  },
  {
   "cell_type": "code",
   "execution_count": 40,
   "id": "b2870469-fed9-470a-9bf8-4deed2cb0b76",
   "metadata": {},
   "outputs": [
    {
     "name": "stdout",
     "output_type": "stream",
     "text": [
      "[[[1. 1. 1. 1.]\n",
      "  [1. 1. 1. 1.]]\n",
      "\n",
      " [[1. 1. 1. 1.]\n",
      "  [1. 1. 1. 1.]]\n",
      "\n",
      " [[1. 1. 1. 1.]\n",
      "  [1. 1. 1. 1.]]]\n"
     ]
    }
   ],
   "source": [
    "print(np.ones((3, 2, 4)))"
   ]
  },
  {
   "cell_type": "code",
   "execution_count": 41,
   "id": "e757674d-cbc2-458f-ace9-9827d54547d2",
   "metadata": {},
   "outputs": [
    {
     "name": "stdout",
     "output_type": "stream",
     "text": [
      "Generator(PCG64) <class 'numpy.random._generator.Generator'>\n"
     ]
    }
   ],
   "source": [
    "#numpy.random\n",
    "\n",
    "rng = np.random.default_rng()\n",
    "\n",
    "print(rng, type(rng))\n"
   ]
  },
  {
   "cell_type": "code",
   "execution_count": 42,
   "id": "76105d43-6260-4eb6-bbd3-2b513a9c20d8",
   "metadata": {},
   "outputs": [
    {
     "name": "stdout",
     "output_type": "stream",
     "text": [
      "[ 0.66808053  0.13881723 -0.49269074  2.31192599  1.72353705]\n"
     ]
    }
   ],
   "source": [
    "print(rng.standard_normal(size=5))"
   ]
  },
  {
   "cell_type": "code",
   "execution_count": 43,
   "id": "5415d40e-21af-4e8c-a832-b923bcec7bdd",
   "metadata": {},
   "outputs": [
    {
     "name": "stdout",
     "output_type": "stream",
     "text": [
      "[[ 0.97094908 -0.72284951 -0.00794131]\n",
      " [-0.28328978 -0.01920112  1.69020125]\n",
      " [-0.04728731  0.58865221  1.37955004]]\n"
     ]
    }
   ],
   "source": [
    "print(rng.standard_normal(size=(3, 3)))"
   ]
  },
  {
   "cell_type": "code",
   "execution_count": 44,
   "id": "7f65a6a0-7c0c-4af4-9675-b2bfd19fb377",
   "metadata": {},
   "outputs": [
    {
     "name": "stdout",
     "output_type": "stream",
     "text": [
      "[8 9 7 9 6 8 5 7 7 9]\n"
     ]
    }
   ],
   "source": [
    "print(rng.integers(5, 10, size=10))"
   ]
  },
  {
   "cell_type": "code",
   "execution_count": 45,
   "id": "d7d7a01b-efae-4d7d-b51d-891f25db7b33",
   "metadata": {},
   "outputs": [
    {
     "name": "stdout",
     "output_type": "stream",
     "text": [
      "[[0.60636124 0.85181627 0.80452031 0.69485838 0.64531713]\n",
      " [0.60648302 0.54843039 0.71159022 0.27309541 0.43810825]]\n"
     ]
    }
   ],
   "source": [
    "print(rng.uniform(size=(2, 5)))"
   ]
  },
  {
   "cell_type": "code",
   "execution_count": 46,
   "id": "f00accdd-fbb8-4d93-af88-bf6a472b39b5",
   "metadata": {},
   "outputs": [
    {
     "ename": "ValueError",
     "evalue": "high - low < 0",
     "output_type": "error",
     "traceback": [
      "\u001b[1;31m---------------------------------------------------------------------------\u001b[0m",
      "\u001b[1;31mValueError\u001b[0m                                Traceback (most recent call last)",
      "\u001b[1;32m~\\AppData\\Local\\Temp/ipykernel_12892/3370236929.py\u001b[0m in \u001b[0;36m<module>\u001b[1;34m\u001b[0m\n\u001b[1;32m----> 1\u001b[1;33m \u001b[0mprint\u001b[0m\u001b[1;33m(\u001b[0m\u001b[0mrng\u001b[0m\u001b[1;33m.\u001b[0m\u001b[0muniform\u001b[0m\u001b[1;33m(\u001b[0m\u001b[1;36m10\u001b[0m\u001b[1;33m,\u001b[0m \u001b[0msize\u001b[0m\u001b[1;33m=\u001b[0m\u001b[1;33m(\u001b[0m\u001b[1;36m1\u001b[0m\u001b[1;33m,\u001b[0m \u001b[1;36m6\u001b[0m\u001b[1;33m)\u001b[0m\u001b[1;33m)\u001b[0m\u001b[1;33m)\u001b[0m\u001b[1;33m\u001b[0m\u001b[1;33m\u001b[0m\u001b[0m\n\u001b[0m",
      "\u001b[1;32m_generator.pyx\u001b[0m in \u001b[0;36mnumpy.random._generator.Generator.uniform\u001b[1;34m()\u001b[0m\n",
      "\u001b[1;32m_common.pyx\u001b[0m in \u001b[0;36mnumpy.random._common.cont\u001b[1;34m()\u001b[0m\n",
      "\u001b[1;32m_common.pyx\u001b[0m in \u001b[0;36mnumpy.random._common.check_constraint\u001b[1;34m()\u001b[0m\n",
      "\u001b[1;31mValueError\u001b[0m: high - low < 0"
     ]
    }
   ],
   "source": [
    "print(rng.uniform(10, size=(1, 6)))"
   ]
  },
  {
   "cell_type": "code",
   "execution_count": 47,
   "id": "0a6fa814-3bb7-44c8-bcbb-c6d3413fe2ff",
   "metadata": {},
   "outputs": [
    {
     "name": "stdout",
     "output_type": "stream",
     "text": [
      "Generator(PCG64) <class 'numpy.random._generator.Generator'>\n"
     ]
    }
   ],
   "source": [
    "#default_rng\n",
    "\n",
    "rng_with_seed = np.random.default_rng(111)\n",
    "\n",
    "print(rng_with_seed, type(rng_with_seed))"
   ]
  },
  {
   "cell_type": "code",
   "execution_count": 48,
   "id": "54e3452d-361c-44ad-905b-c5f15ab9225f",
   "metadata": {},
   "outputs": [
    {
     "name": "stdout",
     "output_type": "stream",
     "text": [
      "[8 9 9 5 9 7 5 6 6 8]\n"
     ]
    }
   ],
   "source": [
    "print(rng.integers(5, 10, size=10))"
   ]
  },
  {
   "cell_type": "code",
   "execution_count": 55,
   "id": "84c34330-534e-4c82-bbaf-a1deb961e2ed",
   "metadata": {},
   "outputs": [
    {
     "name": "stdout",
     "output_type": "stream",
     "text": [
      "[5 5 8 7 7 8 8 5 7 5]\n"
     ]
    }
   ],
   "source": [
    "rng_with_seed = np.random.default_rng(11)\n",
    "print(rng_with_seed.integers(5, 10, size=10))"
   ]
  },
  {
   "cell_type": "code",
   "execution_count": 54,
   "id": "e0edab81-3a67-4946-b041-f970d45463e9",
   "metadata": {},
   "outputs": [
    {
     "name": "stdout",
     "output_type": "stream",
     "text": [
      "[[7 7 8 9 5 5 9 9 6 6]\n",
      " [9 7 6 9 6 7 8 7 5 5]\n",
      " [9 8 9 7 9 6 7 8 5 6]\n",
      " [5 7 9 5 6 7 9 6 7 6]\n",
      " [5 8 5 6 7 7 5 9 8 9]]\n"
     ]
    }
   ],
   "source": [
    "rng_with_seed = np.random.default_rng(1)\n",
    "print(rng_with_seed.integers(5, 10, size=(5, 10)))"
   ]
  },
  {
   "cell_type": "code",
   "execution_count": 51,
   "id": "26bfbb33-624d-4795-9e29-445e48f43a70",
   "metadata": {},
   "outputs": [
    {
     "name": "stdout",
     "output_type": "stream",
     "text": [
      "array: [1 2 3]\n",
      "3\n",
      "2\n",
      "[1 2]\n"
     ]
    }
   ],
   "source": [
    "#Indexing, Slicing, dan Perulangan\n",
    "\n",
    "print(\"array:\", int_array)\n",
    "print(int_array[2])\n",
    "print(int_array[-2])\n",
    "print(int_array[:2])"
   ]
  },
  {
   "cell_type": "code",
   "execution_count": 52,
   "id": "7183a397-0958-459e-aaa1-c4adc2c38922",
   "metadata": {},
   "outputs": [
    {
     "name": "stdout",
     "output_type": "stream",
     "text": [
      "array 2D: [[1 2]\n",
      " [3 4]]\n",
      "2\n",
      "[1 3]\n",
      "[3 4]\n"
     ]
    }
   ],
   "source": [
    "print(\"array 2D:\", array_2x2)\n",
    "print(array_2x2[0, 1])\n",
    "print(array_2x2[:, 0])\n",
    "print(array_2x2[1])"
   ]
  },
  {
   "cell_type": "code",
   "execution_count": 53,
   "id": "3b8085b7-79c8-4356-bf8d-70fb458eab68",
   "metadata": {},
   "outputs": [
    {
     "name": "stdout",
     "output_type": "stream",
     "text": [
      "[[[[ 1  2  1]\n",
      "   [ 3  4  3]]\n",
      "\n",
      "  [[ 5  6  5]\n",
      "   [ 7  8  7]]]\n",
      "\n",
      "\n",
      " [[[12 13 12]\n",
      "   [11 12 11]]\n",
      "\n",
      "  [[13 14 13]\n",
      "   [15 16 15]]]] (2, 2, 2, 3)\n",
      "[[[1 2 1]\n",
      "  [3 4 3]]\n",
      "\n",
      " [[5 6 5]\n",
      "  [7 8 7]]]\n",
      "[[1 2 1]\n",
      " [3 4 3]]\n",
      "[[11 12 11]\n",
      " [15 16 15]]\n",
      "[[[ 1  3]\n",
      "  [ 5  7]]\n",
      "\n",
      " [[12 11]\n",
      "  [13 15]]]\n"
     ]
    }
   ],
   "source": [
    "print(array_4d, array_4d.shape)\n",
    "print(array_4d[0])\n",
    "print(array_4d[0, 0])\n",
    "print(array_4d[1, :, 1, :])\n",
    "print(array_4d[:, :, :, 0])"
   ]
  }
 ],
 "metadata": {
  "kernelspec": {
   "display_name": "Python 3 (ipykernel)",
   "language": "python",
   "name": "python3"
  },
  "language_info": {
   "codemirror_mode": {
    "name": "ipython",
    "version": 3
   },
   "file_extension": ".py",
   "mimetype": "text/x-python",
   "name": "python",
   "nbconvert_exporter": "python",
   "pygments_lexer": "ipython3",
   "version": "3.9.7"
  }
 },
 "nbformat": 4,
 "nbformat_minor": 5
}
