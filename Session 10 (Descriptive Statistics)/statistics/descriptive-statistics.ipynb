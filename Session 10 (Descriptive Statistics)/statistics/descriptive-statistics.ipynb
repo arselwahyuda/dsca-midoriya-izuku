{
 "cells": [
  {
   "cell_type": "markdown",
   "source": "# Statistika Deskriptif\n\nStatistika deskriptif merupakan salah satu cara menganalisis data yang bertujuan untuk mendeskripsikan atau meringkas informasi dari data. Bentuk deskriptif dari suatu data kemudian dibagi menjadi 2:\n* Deskripsi (ukuran) pemusatan data atau tendensi sentral (*measure of central tendency*)\n* Deskripsi (ukuran) sebaran data (*measure of spread*)\n\nPada bagian ini kita akan membahas metode statistika pada 2 kategori tersebut.",
   "metadata": {
    "slideshow": {
     "slide_type": "slide"
    },
    "tags": [],
    "cell_id": "00000-ed3fe2c3-da9b-4e57-b824-c259b763cb64",
    "deepnote_cell_type": "markdown"
   }
  },
  {
   "cell_type": "markdown",
   "source": "## Data\n\nMari kita mulai dengan data.",
   "metadata": {
    "slideshow": {
     "slide_type": "slide"
    },
    "tags": [],
    "cell_id": "00001-7f56252a-473a-444f-9128-250367e1dd5d",
    "deepnote_cell_type": "markdown"
   }
  },
  {
   "cell_type": "markdown",
   "source": "### Observasi, Variabel, dan Tabel Data",
   "metadata": {
    "slideshow": {
     "slide_type": "slide"
    },
    "tags": [],
    "cell_id": "00002-6f0f29de-145c-4bd8-b309-901c020f17bb",
    "deepnote_cell_type": "markdown"
   }
  },
  {
   "cell_type": "markdown",
   "source": "| `loan_amount` | `interest_rate` | `term` | `grade` | `state` | `total_income` | `homeownership` |\n| ------------- | --------------- | ------ | ------- | ------- | -------------- | --------------- |\n| 7500 | 7.34 | 36 | A | MD | 70000 | rent |\n| 25000 | 9.43 | 60 | B | OH | 254000 | mortage |\n| 14500 | 6.08 | 36 | A | MO | 80000 | mortage |\n| 300 | 7.96 | 36 | A | CA | 34000 | rent|\n\nBaris pertama merepresentasikan sebuah pinjaman sebesar \\$7500 dengan bunga 7.34\\% dengan peminjam berasal dari Maryland (MD) yang memiliki penghasilan sebesar  \\$7000. Organisasi data seperti ini sangat umum digunakan karena bisa menampung semua observasi dan variabel-variabelnya beserta data baru nantinya.",
   "metadata": {
    "slideshow": {
     "slide_type": "subslide"
    },
    "tags": [],
    "cell_id": "00003-8ad6d88b-823c-445d-ba1b-da3d4f4bb4bf",
    "deepnote_cell_type": "markdown"
   }
  },
  {
   "cell_type": "markdown",
   "source": "Perhatikan tabel *table-sample-loan50*. Setiap baris pada data tersebut dikenal dengan istilah resminya sebagai sebuah **_case_** atau **_observational unit_**, atau observasi untuk lebih gampang. Untuk setiap kolom yang merepresentasikan karakter dari setiap observasi disebut dengan **variabel**. Setiap unit observasi dengan beberapa variabel tersebut kemudian diorganisir ke dalam suatu **tabel data**.",
   "metadata": {
    "slideshow": {
     "slide_type": "notes"
    },
    "tags": [],
    "cell_id": "00004-e045de33-a7fe-468a-9a2f-9cb5c7eb724c",
    "deepnote_cell_type": "markdown"
   }
  },
  {
   "cell_type": "markdown",
   "source": "| variabel | deskripsi |\n| -------- | --------- |\n| `loan_amount`| Jumlah pinjaman (dalam dolar US) |\n| `interest_rate` | Bunga pinjaman (dalam persentase tahunan)\n| `term` | Jangka pinjaman (dalam satuan bulan)\n| `grade`| Kelas pinjaman dari kelas A sampai G yang merepresentasikan kualitas pinjaman dan kemungkinan berhasil dilunasi\n| `state` | Negara bagian US tempat asal peminjam\n| `total_income` | Pendapatan total peminjam (dalam dolar US)\n| `homeownership` | Indikator apakah peminjam memilki tangunggan atau sewa lainnya",
   "metadata": {
    "slideshow": {
     "slide_type": "subslide"
    },
    "tags": [],
    "cell_id": "00005-98861c19-526b-4b01-984e-8414f8028e57",
    "deepnote_cell_type": "markdown"
   }
  },
  {
   "cell_type": "markdown",
   "source": "### Jenis Variabel\n\nVariabel-variabel `loan_amount`, `interest_rate`, dan `term`,  berbeda dengan variabel seperti  `state` dan `grade`. Meski begitu, ada sedikit perbedaan antar 3 variabel pertama, begitu juga antar 2 variabel terakhir.\n\n<div align=\"middle\">\n<img src=\"../../assets/images/variables.png\" width=\"60%\">\n</div>",
   "metadata": {
    "slideshow": {
     "slide_type": "slide"
    },
    "tags": [],
    "cell_id": "00007-f3c9671e-c695-43ba-a607-ca877ea6bdb9",
    "deepnote_cell_type": "markdown"
   }
  },
  {
   "cell_type": "markdown",
   "source": "3 variabel pertama dikategorikan sebagai variabel **numerik (numerical)** karena nilainya yang berupa nilai numerik.\n* `interest_rate` → bernilai desimal atau kontinu (*continuous variable*)\n* `term` → bernilai diskrit (*discrete variable*)\n\n2 variabel terakhir dikategorikan sebagai variabel **kategoris (categorical)** karena nilainya yang berupa kumpulan kategori atau kelas.\n* `state` → kategori/kelompok yang tidak memiliki urutan yang disebut dengan jenis kategori **nominal**.\n* `grade` → kategori/kelompok yang memiliki urutan yang disebut dengan jenis kategori **ordinal**.",
   "metadata": {
    "slideshow": {
     "slide_type": "subslide"
    },
    "tags": [],
    "cell_id": "00008-29736d0e-b4c9-4cf6-8fe0-60c7d6168b76",
    "deepnote_cell_type": "markdown"
   }
  },
  {
   "cell_type": "markdown",
   "source": "> **Kuis:**\n>\n> Misalkan dilakukan sebuah eksperimen untuk menguji efektivitas obat COVID-19 baru yang memiliki beberapa variabel. Variabel `group` merepresentasikan grup dari masing-masing pasien: `treatment` atau `control`. Variabel `ct` merepresentasikan *cycle threshold* pada pasien setelah mengonsumsi vaksin tersebut setelah 7 hari. Klasifikasikan masing-masing variabel sebagai *numerical* atau *categorical*!",
   "metadata": {
    "slideshow": {
     "slide_type": "slide"
    },
    "tags": [],
    "cell_id": "00009-a4b067fc-1aa6-4682-afca-6253ec9f1e90",
    "deepnote_cell_type": "markdown"
   }
  },
  {
   "cell_type": "markdown",
   "source": "## Ukuran Pemusatan Data\n\nAnalisis pertama yang bisa dilakukan pada data adalah mendeskripsikan dan meringkas data. Ringkasan data biasanya menjawab pertanyaan di mana tiap unit data berkumpul atau berpusat. Beberapa ringkasan data yang bisa didapat adalah seperti rata-rata (*mean*), nilai tengah (*median*), modus (*mode*), dan kuantil (*quantile*).",
   "metadata": {
    "slideshow": {
     "slide_type": "slide"
    },
    "tags": [],
    "cell_id": "00010-563d2045-a1d8-44fb-b586-06b042bc2d56",
    "deepnote_cell_type": "markdown"
   }
  },
  {
   "cell_type": "markdown",
   "source": "### Rata-Rata (*Mean*)\n\nRata-rata adalah jumlah dari seluruh data dibagi dengan jumlah observasi dalam data. Kita bisa definisikan fungsi Python untuk menghitung *mean* seperti di bawah ini:\n\n```python\ndef mean(x):\n    return sum(x) / len(x)\n```",
   "metadata": {
    "slideshow": {
     "slide_type": "slide"
    },
    "tags": [],
    "cell_id": "00011-8ef60269-c0ba-480d-bd8c-613c49066350",
    "deepnote_cell_type": "markdown"
   }
  },
  {
   "cell_type": "markdown",
   "source": "> **Kuis:**\n>\n> Menggunakan fungsi di atas, hitunglah rata-rata jumlah teman dari list `num_friends` di bawah ini.",
   "metadata": {
    "slideshow": {
     "slide_type": "slide"
    },
    "tags": [],
    "cell_id": "00012-81184ac9-e5c5-406a-9e8f-52b72f9d0424",
    "deepnote_cell_type": "markdown"
   }
  },
  {
   "cell_type": "code",
   "metadata": {
    "tags": [],
    "cell_id": "00012-d1bb295a-7391-493d-8b55-5c87df663ed6",
    "deepnote_to_be_reexecuted": false,
    "source_hash": "add9005a",
    "execution_start": 1635750069727,
    "execution_millis": 0,
    "output_cleared": true,
    "deepnote_cell_type": "code"
   },
   "source": "num_friends = [100.0, 49, 41, 40, 25, 21, 21, 19, 19, 18, 18, 16, 15, 15, 15, 15,\n               14, 14, 13, 13, 13, 13, 12, 12 , 11, 10, 10, 10, 10 ,10, 10, 10, 10,\n               10, 10, 10, 10, 10, 10, 10, 9, 9, 9, 9, 9, 9, 9, 9, 9, 9, 9, 9, 9, 9,\n               9, 9, 9, 9, 8, 8, 8, 8, 8, 8, 8, 8, 8, 8, 8, 8, 8, 7, 7, 7, 7, 7, 7, 7,\n               7, 7, 7, 7, 7, 7, 7, 7, 6, 6, 6, 6, 6, 6, 6, 6, 6, 6, 6, 6, 6, 6, 6, 6,\n               6, 6, 6, 6, 6, 6, 5, 5, 5, 5, 5, 5, 5, 5, 5, 5, 5, 5, 5, 5, 5, 5, 5, 4,\n               4, 4, 4, 4, 4, 4, 4, 4, 4, 4, 4, 4, 4, 4, 4, 4, 4, 4, 4, 3, 3, 3, 3, 3,\n               3, 3, 3, 3, 3, 3, 3, 3, 3, 3, 3, 3, 3, 3, 3, 2, 2, 2, 2, 2, 2, 2, 2, 2,\n               2, 2, 2, 2, 2, 2, 2, 2, 1, 1, 1, 1, 1, 1, 1, 1, 1, 1, 1, 1, 1, 1, 1, 1,\n               1, 1, 1, 1, 1, 1]",
   "execution_count": null,
   "outputs": []
  },
  {
   "cell_type": "code",
   "metadata": {
    "tags": [],
    "cell_id": "00013-c7ed435c-2d35-432e-b407-43ce9ed8e0fc",
    "output_cleared": true,
    "deepnote_cell_type": "code"
   },
   "source": "# KETIK DI SINI",
   "execution_count": null,
   "outputs": []
  },
  {
   "cell_type": "markdown",
   "source": "Selain itu, kita bisa menggunakan pustaka seperti NumPy, SciPy, ataupun Pandas yang menyediakan fungsi bawaan untuk menghitung rata-rata dengan lebih efisien.",
   "metadata": {
    "slideshow": {
     "slide_type": "subslide"
    },
    "tags": [],
    "cell_id": "00013-b405ff06-715f-4e1d-9439-2e89e34b2ed7",
    "deepnote_cell_type": "markdown"
   }
  },
  {
   "cell_type": "code",
   "metadata": {
    "cell_id": "00014-8d3584dc-c4b7-42f5-b0ae-466ea799963a",
    "deepnote_to_be_reexecuted": false,
    "source_hash": "c2602aa8",
    "execution_start": 1635749979725,
    "execution_millis": 43,
    "output_cleared": true,
    "deepnote_cell_type": "code"
   },
   "source": "import numpy as np",
   "execution_count": null,
   "outputs": []
  },
  {
   "cell_type": "code",
   "metadata": {
    "cell_id": "00015-b7a01ef8-0de8-4fff-918d-34b0cb2a6489",
    "deepnote_to_be_reexecuted": false,
    "source_hash": "267ad05a",
    "execution_start": 1635750101356,
    "execution_millis": 4,
    "output_cleared": true,
    "deepnote_cell_type": "code"
   },
   "source": "np.mean(num_friends)",
   "execution_count": null,
   "outputs": []
  },
  {
   "cell_type": "markdown",
   "source": "Karena rata-rata melibatkan jumlahan tiap nilai dari data, maka rata-rata **sensitif** terhadap besar kecil nilai data. Sebagai contoh, jika kita ubah elemen pertama `num_friends` dengan nilai yang lebih besar atau kecil, maka nilai rata-ratanya akan berubah.",
   "metadata": {
    "slideshow": {
     "slide_type": "subslide"
    },
    "tags": [],
    "cell_id": "00016-87f7c3dc-c773-4a67-9d28-fd3c3e4ea669",
    "deepnote_cell_type": "markdown"
   }
  },
  {
   "cell_type": "code",
   "metadata": {
    "cell_id": "00017-9f9a9655-9b10-41eb-9ef5-75c3353b564a",
    "deepnote_to_be_reexecuted": false,
    "source_hash": "121043a7",
    "execution_start": 1635750101356,
    "execution_millis": 1,
    "output_cleared": true,
    "deepnote_cell_type": "code"
   },
   "source": "num_friends[0] = 200\nnp.mean(num_friends)",
   "execution_count": null,
   "outputs": []
  },
  {
   "cell_type": "code",
   "metadata": {
    "cell_id": "00018-29b79be3-1fba-4d9a-a0bb-c204907d0d88",
    "deepnote_to_be_reexecuted": false,
    "source_hash": "dba04da2",
    "execution_start": 1635750101357,
    "execution_millis": 3,
    "output_cleared": true,
    "deepnote_cell_type": "code"
   },
   "source": "num_friends[0] = 90\nnp.mean(num_friends)",
   "execution_count": null,
   "outputs": []
  },
  {
   "cell_type": "markdown",
   "source": "> *Mean* sangat sensitif terhadap pencilan atau *outlier*. Jika elemen pertama diubah menjadi `200`, maka rata-ratanya akan membesar menjadi `7.82`. Jika ternyata pencilan dalam data tersebut kemungkinan tidak merepresentasikan kebanyakan nilai lain di dalamnya (apapun konteksnya), maka rata-rata akan menjadi **ukuran yang menyesatkan**.",
   "metadata": {
    "slideshow": {
     "slide_type": "subslide"
    },
    "tags": [],
    "cell_id": "00019-7af5ade1-15aa-4435-b887-1ee4cd9228f6",
    "deepnote_cell_type": "markdown"
   }
  },
  {
   "cell_type": "markdown",
   "source": "### Nilai Tengah (*Median*)\n\nMedian merupakan nilai paling tengah (jika data berjumlah **gasal**) atau rata-rata dari 2 nilai tengah (jika data berjumlah **genap**). Untuk menentukan *median*, syarat pertama adalah data harus dalam keadaan **terurut**.\n\n> Berbeda dengan *mean*, *median* tidak bergantung pada nilai setiap observasi. Sebagai contoh, pada contoh data `x` dengan 5 observasi, jika nilai terbesar dan terkecil masing-masing diperbesar dan diperkecil secara berturut-turut, nilai *median* akan tetap sama.",
   "metadata": {
    "slideshow": {
     "slide_type": "slide"
    },
    "tags": [],
    "cell_id": "00020-3f60f1fd-0d2b-44c7-b027-4a2a28966642",
    "deepnote_cell_type": "markdown"
   }
  },
  {
   "cell_type": "markdown",
   "source": "NumPy juga menyediakan fungsi bawaan untuk menghitung *median* dari suatu data.",
   "metadata": {
    "slideshow": {
     "slide_type": "subslide"
    },
    "tags": [],
    "cell_id": "00021-637e02eb-baf2-4329-8cca-58e7244f6452",
    "deepnote_cell_type": "markdown"
   }
  },
  {
   "cell_type": "code",
   "metadata": {
    "cell_id": "00022-8612ea43-76f7-4acb-a6ad-33ec7b22ad5f",
    "deepnote_to_be_reexecuted": false,
    "source_hash": "523758fb",
    "execution_start": 1635750101376,
    "execution_millis": 3,
    "output_cleared": true,
    "deepnote_cell_type": "code"
   },
   "source": "np.median(num_friends)",
   "execution_count": null,
   "outputs": []
  },
  {
   "cell_type": "code",
   "metadata": {
    "cell_id": "00023-98487210-8cca-4927-9eb7-809f101868b3",
    "deepnote_to_be_reexecuted": false,
    "source_hash": "5753d5a7",
    "execution_start": 1635750101376,
    "execution_millis": 3,
    "output_cleared": true,
    "deepnote_cell_type": "code"
   },
   "source": "num_friends[0] = 100\nnp.median(num_friends)",
   "execution_count": null,
   "outputs": []
  },
  {
   "cell_type": "code",
   "metadata": {
    "cell_id": "00024-af33bcef-8ffd-41eb-9607-b4a2eb9d65df",
    "deepnote_to_be_reexecuted": false,
    "source_hash": "2244fb06",
    "execution_start": 1635750101377,
    "execution_millis": 29,
    "output_cleared": true,
    "deepnote_cell_type": "code"
   },
   "source": "num_friends[0] = 1.\nnp.median(num_friends)",
   "execution_count": null,
   "outputs": []
  },
  {
   "cell_type": "markdown",
   "source": "> **Kuis:**\n>\n> Buatlah fungsi dengan Python murni (tanpa pustaka apapun) untuk menghitung *median*!",
   "metadata": {
    "slideshow": {
     "slide_type": "slide"
    },
    "tags": [],
    "cell_id": "00025-2588ea55-e87a-4f4b-88ed-77f327c1ad51",
    "deepnote_cell_type": "markdown"
   }
  },
  {
   "cell_type": "markdown",
   "source": "### Modus (*Mode*)\n\nModus atau *mode* adalah nilai dengan frekuensi kemunculan paling tinggi. Umumnya, *mode* digunakan pada data kategoris, baik ordinal atau nominal. Kita bisa menganggap *mode* adalah salah satu opsi atau nilai yang paling populer atau banyak dipilih.\n\nSayangnya, NumPy tidak memiliki fungsi bawaan untuk mencari modus dari sebuah data. Oleh karena itu, kita bisa membuat fungsi dalam Python murni untuk menentukan modus dari data.",
   "metadata": {
    "slideshow": {
     "slide_type": "slide"
    },
    "tags": [],
    "cell_id": "00026-a9d2fa97-08f7-403e-9776-32ca2d8b03bd",
    "deepnote_cell_type": "markdown"
   }
  },
  {
   "cell_type": "code",
   "metadata": {
    "slideshow": {
     "slide_type": "subslide"
    },
    "tags": [],
    "cell_id": "00027-af0e5981-e136-43a6-9683-da6a23e997f1",
    "deepnote_to_be_reexecuted": false,
    "source_hash": "ec48c307",
    "execution_start": 1635750101404,
    "execution_millis": 0,
    "output_cleared": true,
    "deepnote_cell_type": "code"
   },
   "source": "def mode(x):\n    \"\"\"Return a list of most-frequent values in x, might be more than one.\"\"\"\n    counts = {\n        value: x.count(value)\n        for value in set(x)\n    }\n    max_count = max(counts.values())\n    return [\n        (v, c) for v, c in counts.items()\n        if c == max_count\n    ]",
   "execution_count": null,
   "outputs": []
  },
  {
   "cell_type": "code",
   "metadata": {
    "cell_id": "00028-71cdc8b5-63ef-4f98-a7ac-e63ddb809eb1",
    "deepnote_to_be_reexecuted": false,
    "source_hash": "d520b89e",
    "execution_start": 1635750101405,
    "execution_millis": 2,
    "output_cleared": true,
    "deepnote_cell_type": "code"
   },
   "source": "mode(num_friends)",
   "execution_count": null,
   "outputs": []
  },
  {
   "cell_type": "markdown",
   "source": "## Ukuran Persebaran Data\n\nJenis ukuran kedua yang bisa digunakan untuk menggambarkan data adalah persebaran data. Mengukur persebaran data ini penting karena kita bisa melihat apakah ukuran pemusatan data sebelumnya cukup relevan dan mewakili keseluruhan data. Sebagai contoh, jika persebaran suatu data besar, maka rata-rata data tersebut tidak cukup menggambarkan kondisi data sebenarnya.",
   "metadata": {
    "slideshow": {
     "slide_type": "slide"
    },
    "tags": [],
    "cell_id": "00029-3ad564c6-33af-4bc2-8d95-66f6d5b185c4",
    "deepnote_cell_type": "markdown"
   }
  },
  {
   "cell_type": "markdown",
   "source": "### Kuantil (*Quantile*)\n\nSecara umum, *quantile* merepresentasikan sebuah **porsi** yang membagi keseluruhan jumlah observasi, di mana nilai-nilai di dalamnya kurang dari sebuah **nilai tertentu**, menjadi sama banyak. Sebagai contoh, *median* adalah kuantil $0.5$ kuantil karena membagi keseluruhan data menjadi 2 bagian yang sama banyaknya yang 50% data berada di bawah titik tersebut.\n\n*Quantile* bisa membagi data menjadi berapapun porsi dalam data. Misalkan, $0.1$ *quantile* merepresentasikan sebuah titik observasi yang sebanyak 10% dari data kurang dari nilai titik tersebut. Oleh karena itu, data perlu diurutkan terlebih dahulu, sama seperti *median*.",
   "metadata": {
    "slideshow": {
     "slide_type": "slide"
    },
    "tags": [],
    "cell_id": "00030-fd10fa7c-3260-4440-a97b-1e182038716f",
    "deepnote_cell_type": "markdown"
   }
  },
  {
   "cell_type": "markdown",
   "source": "Berdasarkan porsi nya, *quantile* ada beberapa jenis:\n* **Kuartil (*quartiles*)** - membagi data menjadi 4 porsi (masing-masing 25%)\n* **Kuintil (*quintiles*)** - membagi data menjadi 5 porsi (masing-masing 20%)\n* **Desil (*deciles*)** - membagi data menjadi 10 porsi (masing-masing 10%)\n* **Persentil (*percentiles*)** - membagi data menjadi 100 porsi (masing-masing 1%)\n\n| *Quantile* | *Quartile* | *Percentile* |\n| ----- | ----- | ----- |\n| 0 | 0 | 0 |\n| .25 | 1 | 25 |\n| .5 | 2 | 50 |\n| .75 | 3 | 75 |\n| 1. | 4 | 100 |",
   "metadata": {
    "slideshow": {
     "slide_type": "subslide"
    },
    "tags": [],
    "cell_id": "00031-c27c29bc-22a7-40d0-9b67-43e881da76f2",
    "deepnote_cell_type": "markdown"
   }
  },
  {
   "cell_type": "markdown",
   "source": "NumPy menyediakan fungsi bawaan `numpy.quantile` untuk menentukan titik observasi di mana `q` kuantil dari data kurang dari titik tersebut. NumPy juga menyediakan fungsi tersendiri untuk menghitung beberapa jenis kuantil tersebut, seperti `numpy.percentile`.\n\n> Jika nilai `q` pada `numpy.quantile` berada pada interval 0 sampai 1, maka `numpy.percentile` berada pada interval 0 sampai 100.",
   "metadata": {
    "slideshow": {
     "slide_type": "subslide"
    },
    "tags": [],
    "cell_id": "00032-84f01e73-45bd-4877-b2e7-950f049654a2",
    "deepnote_cell_type": "markdown"
   }
  },
  {
   "cell_type": "code",
   "metadata": {
    "slideshow": {
     "slide_type": "subslide"
    },
    "tags": [],
    "cell_id": "00033-7f1a75b6-b3e3-416c-bfbc-6dd3c5e0cf9b",
    "deepnote_to_be_reexecuted": false,
    "source_hash": "f92c8cd2",
    "execution_start": 1635750101405,
    "execution_millis": 16,
    "output_cleared": true,
    "deepnote_cell_type": "code"
   },
   "source": "np.quantile(num_friends, .5) == np.median(num_friends)",
   "execution_count": null,
   "outputs": []
  },
  {
   "cell_type": "code",
   "metadata": {
    "cell_id": "00034-1dae1e87-cd7a-4a1a-b4db-c12e6c970ac8",
    "deepnote_to_be_reexecuted": false,
    "source_hash": "cc6478d",
    "execution_start": 1635750101419,
    "execution_millis": 3,
    "output_cleared": true,
    "deepnote_cell_type": "code"
   },
   "source": "print(np.quantile(num_friends, .25))\nprint(np.percentile(num_friends, 25))",
   "execution_count": null,
   "outputs": []
  },
  {
   "cell_type": "code",
   "metadata": {
    "cell_id": "00035-d91eee40-8dc2-4fc0-a3c6-8f7342467d75",
    "deepnote_to_be_reexecuted": false,
    "source_hash": "bc1375a3",
    "execution_start": 1635750101420,
    "execution_millis": 2,
    "output_cleared": true,
    "deepnote_cell_type": "code"
   },
   "source": "print(np.quantile(num_friends, [.25, .5, .75]))",
   "execution_count": null,
   "outputs": []
  },
  {
   "cell_type": "code",
   "metadata": {
    "cell_id": "00036-f502b82c-c945-4db8-a69d-de4d4de807ba",
    "deepnote_to_be_reexecuted": false,
    "source_hash": "8cae1331",
    "execution_start": 1635750101420,
    "execution_millis": 22,
    "output_cleared": true,
    "deepnote_cell_type": "code"
   },
   "source": "print(np.percentile(num_friends, [25, 50, 75]))",
   "execution_count": null,
   "outputs": []
  },
  {
   "cell_type": "markdown",
   "source": "> **Kuis:**\n>\n> Buatlah sebuah fungsi yang menentukan kuantil dari sebuah data menggunakan Python murni tanpa bantuan pustaka apapuan!",
   "metadata": {
    "slideshow": {
     "slide_type": "slide"
    },
    "tags": [],
    "cell_id": "00037-c4b20509-e6c8-4eb5-8169-30859ef2d659",
    "deepnote_cell_type": "markdown"
   }
  },
  {
   "cell_type": "code",
   "metadata": {
    "tags": [],
    "cell_id": "00039-9f6ade59-f510-4f77-9fb3-c3b60a19fc9a",
    "output_cleared": true,
    "deepnote_cell_type": "code"
   },
   "source": "# KETIK DI SINI",
   "execution_count": null,
   "outputs": []
  },
  {
   "cell_type": "markdown",
   "source": "### Jangkauan (*Range*)\n\nUkuran pertama yang paling sederhana adalah **jangkauan** atau *range*, yang merupakan jangkauan dari nilai terbesar dan terkecil dalam data.\n\n```python\ndef data_range(x):\n    return max(x) - min(x)\n```\n\nSelain menggunakan fungsi di atas, kita bisa menggunakan \"*peak to peak*\" dari NumPy, yaitu `numpy.ptp`.",
   "metadata": {
    "slideshow": {
     "slide_type": "slide"
    },
    "tags": [],
    "cell_id": "00038-7c911d50-1a2c-426a-b9ed-1cc35017cd44",
    "deepnote_cell_type": "markdown"
   }
  },
  {
   "cell_type": "code",
   "metadata": {
    "slideshow": {
     "slide_type": "subslide"
    },
    "tags": [],
    "cell_id": "00039-a04a030f-5958-4fba-b7ac-34f2354432a4",
    "deepnote_to_be_reexecuted": false,
    "source_hash": "164d02cc",
    "execution_start": 1635750101438,
    "execution_millis": 1,
    "output_cleared": true,
    "deepnote_cell_type": "code"
   },
   "source": "def data_range(x):\n    return max(x) - min(x)",
   "execution_count": null,
   "outputs": []
  },
  {
   "cell_type": "code",
   "metadata": {
    "cell_id": "00040-35b6e06b-a9ed-47bf-bcdc-5d45f86fba02",
    "deepnote_to_be_reexecuted": false,
    "source_hash": "69e024e0",
    "execution_start": 1635750101439,
    "execution_millis": 4,
    "output_cleared": true,
    "deepnote_cell_type": "code"
   },
   "source": "data_range(num_friends) == np.ptp(num_friends)",
   "execution_count": null,
   "outputs": []
  },
  {
   "cell_type": "code",
   "metadata": {
    "cell_id": "00041-8769c718-4472-4a23-84c1-bc0e33bd6c1c",
    "deepnote_to_be_reexecuted": false,
    "source_hash": "a0afb1bc",
    "execution_start": 1635750101440,
    "execution_millis": 29,
    "output_cleared": true,
    "deepnote_cell_type": "code"
   },
   "source": "print(data_range(num_friends))\nprint(np.ptp(num_friends))",
   "execution_count": null,
   "outputs": []
  },
  {
   "cell_type": "markdown",
   "source": "Jika jangkauan data sama dengan **0**, yang berarti nilai `max == min`, yang terjadi ketika semua elemen dalam data adalah sama. Ini berarti, tidak ada dispersi sama sekali dalam data. Sebaliknya, jika nilai jangkauan suatu data besar, maka nilai maksimum jauh lebih besar dibanding nilai minimum dan lebih tersebar.",
   "metadata": {
    "slideshow": {
     "slide_type": "subslide"
    },
    "tags": [],
    "cell_id": "00042-def9ac28-c453-4cab-904d-b9ffeaafb1cd",
    "deepnote_cell_type": "markdown"
   }
  },
  {
   "cell_type": "markdown",
   "source": "Sama dengan *median*, nilai *range* tidak begitu terpengaruh dari besar kecilnya elemen-elemen dalam data. Misalkan, data dengan rentang 0 sampai 100 dengan jarak antar elemen yang sama ($0, 1, 2, ..., 99, 100$) memiliki jangkauan yang sama dengan data dalam rentang 0 sampai 100 tapi semua elemen lainnya bernilai 50 ($0, 50, 50, 50, ..., 50, 100$). Meski begitu, data pertama terlihat lebih menyebar dibandingkan data kedua.",
   "metadata": {
    "slideshow": {
     "slide_type": "subslide"
    },
    "tags": [],
    "cell_id": "00043-a5a9c1fd-031f-4f83-83fa-7c508895b5fe",
    "deepnote_cell_type": "markdown"
   }
  },
  {
   "cell_type": "markdown",
   "source": "### Varian (*Variance*)\n\n*Variance* mengukur **rata-rata kuadrat jarak antara setiap observasi dalam data terhadap rata-rata data**. Semakin besar nilai *variance*, yang berarti tipikal jarak setiap observasi terhadap rata-ratanya juga besar, maka data semakin tersebar.\n\n> Jarak antara suatu observasi terhadap rata-ratanya disebut sebagai **deviasi**.",
   "metadata": {
    "slideshow": {
     "slide_type": "slide"
    },
    "tags": [],
    "cell_id": "00044-b3eaa097-ebd2-4445-89d0-a2c8735dc057",
    "deepnote_cell_type": "markdown"
   }
  },
  {
   "cell_type": "markdown",
   "source": "Perhitungan varian sedikit berbeda pada data sampel dan populasi. Perbedaannya terletak pada pembaginya yang menggunakan `n-1` untuk sampel dan `n` populasi. Secara singkat, hal ini dipercaya (secara matematis) membuat hasil varian lebih dapat merepresentasikan kondisi pada populasi.\n\nSecara matematis, kita bisa menghitung varian dengan menggunakan persamaan berikut.\n\n$$\n\\text{variance} = s^2 = \\frac{\\sum^{n}_{i=1}{(x_i - \\bar{x})^2}}{n-1}\n$$\n\nNumPy menyediakan fungsi `numpy.var` untuk menghitung varian dengan menyediakan `ddof=1`. `ddof` atau *delta degree of freedom* adalah jumlah observasi pada kalkulasi statistik yang dibebaskan (tidak digunakan) untuk meningkatkan variansi. Oleh karena varian sample menggunakan `n-1`, maka ada `1` observasi yang dibebaskan, sehingga `ddof=1`.",
   "metadata": {
    "slideshow": {
     "slide_type": "subslide"
    },
    "tags": [],
    "cell_id": "00045-abd8a714-3cb0-470f-bf51-d5b8fa9de2bd",
    "deepnote_cell_type": "markdown"
   }
  },
  {
   "cell_type": "code",
   "metadata": {
    "slideshow": {
     "slide_type": "subslide"
    },
    "tags": [],
    "cell_id": "00046-161a5e4b-5733-4078-a2d8-f7a31fabc581",
    "deepnote_to_be_reexecuted": false,
    "source_hash": "dfc642aa",
    "execution_start": 1635750101468,
    "execution_millis": 2,
    "output_cleared": true,
    "deepnote_cell_type": "code"
   },
   "source": "np.var(num_friends, ddof=1)",
   "execution_count": null,
   "outputs": []
  },
  {
   "cell_type": "code",
   "metadata": {
    "cell_id": "00047-00c3821e-6dde-48c9-b247-912c476fa478",
    "deepnote_to_be_reexecuted": false,
    "source_hash": "87b43f21",
    "execution_start": 1635750101468,
    "execution_millis": 2,
    "output_cleared": true,
    "deepnote_cell_type": "code"
   },
   "source": "np.var(num_friends)",
   "execution_count": null,
   "outputs": []
  },
  {
   "cell_type": "markdown",
   "source": "> **Kuis:**\n>\n> Buatlah fungsi `sum_of_squares`, `deviation_mean`, dan `variance` untuk menghitung *variance* menggunakan Python murni tanpa bantuan pustaka apapun! (Gunakan `sum_of_squares` dan `deviation_mean` dalam fungsi `variance`)",
   "metadata": {
    "slideshow": {
     "slide_type": "slide"
    },
    "tags": [],
    "cell_id": "00048-dacebbce-bbd1-4a58-9ce0-26594d2b0f37",
    "deepnote_cell_type": "markdown"
   }
  },
  {
   "cell_type": "code",
   "metadata": {
    "cell_id": "00049-33b640ae-62e1-4f3f-be7a-5aea3386bb19",
    "deepnote_to_be_reexecuted": false,
    "source_hash": "6d6797c3",
    "execution_start": 1635750101487,
    "execution_millis": 0,
    "output_cleared": true,
    "deepnote_cell_type": "code"
   },
   "source": "# KETIK DI SINI\n...",
   "execution_count": null,
   "outputs": []
  },
  {
   "cell_type": "markdown",
   "source": "### Standar Deviasi (*Standard Deviation*)\n\nNilai *variance* yang merupakan kuadrat dari nilai sebenarnya pada data mungkin lebih sulit untuk diinterpretasikan. Oleh karena itu, terkadang kita lebih memilih untuk melihat nilai standar deviasi atau *standard deviation* yang merupakan akar kuadrat dari *variance*.\n\nPersamaan matematik untuk menghitung standar deviasi adalah sebagai berikut.\n\n$$\n\\text{standard deviation} = s = \\sqrt{\\frac{\\sum^{n}_{i=1}{(x_i - \\bar{x})^2}}{n-1}}\n$$",
   "metadata": {
    "slideshow": {
     "slide_type": "slide"
    },
    "tags": [],
    "cell_id": "00050-96ae7225-58e0-440a-b717-5ead17d7aa51",
    "deepnote_cell_type": "markdown"
   }
  },
  {
   "cell_type": "markdown",
   "source": "Dengan python,\n\n```python\ndef standard_deviation(x):\n    return variance(x)**(1/2)\n```\n\nPerhatikan bahwa `variance` pada fungsi `standard_deviation` di atas adalah fungsi yang kita buat sebelumnya.\n\nNumPy juga menyediakan fungsi untuk menghitung standar deviasi dengan `numpy.std` dengan memasukkan `ddof` yang sama seperti `numpy.var`.",
   "metadata": {
    "slideshow": {
     "slide_type": "subslide"
    },
    "tags": [],
    "cell_id": "00051-fbcd6f91-8b9c-424c-8934-18c2dc375b85",
    "deepnote_cell_type": "markdown"
   }
  },
  {
   "cell_type": "code",
   "metadata": {
    "cell_id": "00052-26fcacdf-f867-4000-ad6d-8bc2b9eec1f9",
    "deepnote_to_be_reexecuted": false,
    "source_hash": "6db030f8",
    "execution_start": 1635750101488,
    "execution_millis": 2,
    "output_cleared": true,
    "deepnote_cell_type": "code"
   },
   "source": "np.std(num_friends, ddof=1)",
   "execution_count": null,
   "outputs": []
  },
  {
   "cell_type": "markdown",
   "source": "> Perhatikan bahwa karena standar deviasi dan varian menggunakan *mean* dan bergantung pada setiap nilai dalam data, maka standar deviasi dan varian memiliki sensitivitas yang sama dengan *mean* terhadap pencilan atau *outlier*.",
   "metadata": {
    "slideshow": {
     "slide_type": "slide"
    },
    "tags": [],
    "cell_id": "00053-3ee2f020-99de-4961-a9ae-6b8b5e0da312",
    "deepnote_cell_type": "markdown"
   }
  },
  {
   "cell_type": "markdown",
   "source": "### Jangkauan Interkuartil (*Interquartile Range*)\n\nAlternatif lain yang tidak sensitif terhadap pencilan daripada standar deviasi adalah **jangkauan interkuartil** atau *interquartile range*. Jangkauan interkuartil menghitung selisih antara *percentile* ke-75 dengan *percentile* ke-25 atau selisih antara Q3 dengan Q1 dalam bentuk kuartil.",
   "metadata": {
    "slideshow": {
     "slide_type": "slide"
    },
    "tags": [],
    "cell_id": "00054-02f289f3-5dc2-4570-ba46-be185ae8d97d",
    "deepnote_cell_type": "markdown"
   }
  },
  {
   "cell_type": "markdown",
   "source": "Kita bisa memanfaatkan `numpy.quantile` untuk menentukan Q1 dan Q3 yang kemudian dikurangkan untuk mendapatkan jangkauan interkuartil.",
   "metadata": {
    "slideshow": {
     "slide_type": "subslide"
    },
    "tags": [],
    "cell_id": "00055-c479bd91-a179-4faa-9370-4f7eebc97f6a",
    "deepnote_cell_type": "markdown"
   }
  },
  {
   "cell_type": "code",
   "metadata": {
    "cell_id": "00056-194b29f0-cb5c-4f34-98e9-c8032e8e677d",
    "deepnote_to_be_reexecuted": false,
    "source_hash": "b6d8b380",
    "execution_start": 1635750101488,
    "execution_millis": 2,
    "output_cleared": true,
    "deepnote_cell_type": "code"
   },
   "source": "q1, q3 = np.quantile(num_friends, [.25, .75])\nIQR = q3 - q1\n\nprint(q1)\nprint(q3)\nprint(IQR)",
   "execution_count": null,
   "outputs": []
  },
  {
   "cell_type": "markdown",
   "source": "### Kovarian (*Covariance*) dan Korelasi (*Correlation*)\n\nKita terkadang ingin membandingkan bagaimana suatu statistik pada satu variabel berhubungan dengan statistik pada variabel yang lain. \n\nUntuk mengukur hal tersebut, kita bisa menggunakan kovarian atau *covariance* yang mengukur bagaimana dua variabel bervariasi satu dengan yang lainnya. *Covariance* berbeda dengan *variance*. *Variance* mengukur bagaimana deviasi satu variabel terhadap rata-ratanya, sedangkan *covariance* mengukur bagaimana deviasi satu variabel bervariasi terhadap deviasi variabel lainnya.",
   "metadata": {
    "slideshow": {
     "slide_type": "slide"
    },
    "tags": [],
    "cell_id": "00057-47115bb5-9098-4f47-a784-e6d6a384be90",
    "deepnote_cell_type": "markdown"
   }
  },
  {
   "cell_type": "markdown",
   "source": "Untuk menghitung *covariance*, kita gunakan persamaan matematika berikut.\n\n$$\n\\text{covariance} = Cov(X, Y) = \\frac{\\sum^{n}_{i=1}{(x_i - \\bar{x}) \\cdot (y_i - \\bar{y})}}{n-1}\n$$\n\nPerhatikan bahwa jika $x$ dan $y$ lebih besar atau lebih kecil dibanding rata-ratanya, maka hasil perkalian deviasinya adalah positif. Nilai kovarian yang besar mengindikasikan bahwa $x$ cenderung bernilai besar (kecil) ketika $y$ juga bernilai besar (kecil).\n\n> Perhatikan bahwa jika $X = Y$, maka nilai `covariance` sama dengan nilai `variance` dari $X$ atau $Y$.",
   "metadata": {
    "slideshow": {
     "slide_type": "subslide"
    },
    "tags": [],
    "cell_id": "00058-5c6cb5f2-edee-4781-b2f9-af88cb657114",
    "deepnote_cell_type": "markdown"
   }
  },
  {
   "cell_type": "markdown",
   "source": "Kita bisa menggunakan `numpy.cov` dari NumPy yang akan menghasillkan matriks kovarian dari 1 variabel atau lebih.",
   "metadata": {
    "slideshow": {
     "slide_type": "subslide"
    },
    "tags": [],
    "cell_id": "00059-e17a5305-c62d-4bab-a49a-fc027a4ae05c",
    "deepnote_cell_type": "markdown"
   }
  },
  {
   "cell_type": "code",
   "metadata": {
    "cell_id": "00060-0537ba7c-0325-4f48-aeb9-0f23dd23b459",
    "deepnote_to_be_reexecuted": false,
    "source_hash": "8814a45f",
    "execution_start": 1635750101536,
    "execution_millis": 0,
    "output_cleared": true,
    "deepnote_cell_type": "code"
   },
   "source": "some_friends = num_friends[::-1]",
   "execution_count": null,
   "outputs": []
  },
  {
   "cell_type": "code",
   "metadata": {
    "cell_id": "00061-adcdbb59-fdf5-46d4-83e2-573dad4f80df",
    "deepnote_to_be_reexecuted": false,
    "source_hash": "bb1ea755",
    "execution_start": 1635750101536,
    "execution_millis": 3,
    "output_cleared": true,
    "deepnote_cell_type": "code"
   },
   "source": "np.cov(num_friends, some_friends)",
   "execution_count": null,
   "outputs": []
  },
  {
   "cell_type": "markdown",
   "source": "> **Kuis:**\n>\n> Buatlah fungsi `covariance` untuk menghitung *covariance* menggunakan Pyhton murni tanpa bantuan pustaka lain.",
   "metadata": {
    "slideshow": {
     "slide_type": "slide"
    },
    "tags": [],
    "cell_id": "00062-06fa6f66-cb37-4cb8-a1a4-8108fb72ad8c",
    "deepnote_cell_type": "markdown"
   }
  },
  {
   "cell_type": "markdown",
   "source": "Karena sifatnya yang mirip dengan varian, di mana satuan hasilnya merupakan hasil perkalian dari 2 unit, maka sedikit sulit untuk menginterpretasikannya. Oleh karena itu, kita bisa menggunakan korelasi atau *correlation* yang menggunakan produk perkalian standar deviasi kedua variabel sebagai pembagi dari *covariance*.\n\nPersamaan matematik untuk menghitung korelasi adalah sebagai berikut.\n\n$$\n\\text{correlation} = corr(X, Y) = \\frac{Cov(X, Y)}{s_X \\cdot s_Y}\n$$\n\nHasil korelasi dengan persamaan di atas juga dikenal sebagai *pearson correlation*, di mana rentang nilainya berada di antara -1 sampai 1.",
   "metadata": {
    "slideshow": {
     "slide_type": "slide"
    },
    "tags": [],
    "cell_id": "00063-d4c31451-fcbc-41c9-98a2-f3f18be82cc4",
    "deepnote_cell_type": "markdown"
   }
  },
  {
   "cell_type": "markdown",
   "source": "> Jika korelasi antara  2 variabel bernilai -1, maka kedua variabel tersebut disebut **berkorelasi negatif** yang artinya jika satu variabel semakin besar (kecil), maka variabel lainnya akan semakin kecil (besar). Sebaliknya, jika bernilai 1, maka kedua variabel teresebut disebut **berkorelasi positif** yang artinya jika satu variabel semakin besar (kecil), maka variabel lainnya akan semakin besar (kecil).",
   "metadata": {
    "slideshow": {
     "slide_type": "subslide"
    },
    "tags": [],
    "cell_id": "00064-304d26d9-3d3a-4011-b63f-8876b99f239c",
    "deepnote_cell_type": "markdown"
   }
  },
  {
   "cell_type": "code",
   "metadata": {
    "cell_id": "00065-7ba977d7-3526-4191-928c-42c65e68e799",
    "deepnote_to_be_reexecuted": false,
    "source_hash": "ee126f09",
    "execution_start": 1635750101537,
    "execution_millis": 2,
    "output_cleared": true,
    "deepnote_cell_type": "code"
   },
   "source": "np.corrcoef(some_friends, num_friends)",
   "execution_count": null,
   "outputs": []
  },
  {
   "cell_type": "markdown",
   "source": "> **Kuis:**\n>\n> Buatlah fungsi `correlation` untuk menghitung korelasi menggunakan Python murni tanpa bantuan pustaka apapun.",
   "metadata": {
    "slideshow": {
     "slide_type": "slide"
    },
    "tags": [],
    "cell_id": "00066-fb0f3892-e743-477e-a904-e983da6bbc31",
    "deepnote_cell_type": "markdown"
   }
  },
  {
   "cell_type": "code",
   "metadata": {
    "tags": [],
    "cell_id": "00069-b4c9cb82-10d0-4151-aab8-7dba1f5ad1e2",
    "output_cleared": true,
    "deepnote_cell_type": "code"
   },
   "source": "# KETIK DI SINI",
   "execution_count": null,
   "outputs": []
  },
  {
   "cell_type": "markdown",
   "source": "<a style='text-decoration:none;line-height:16px;display:flex;color:#5B5B62;padding:10px;justify-content:end;' href='https://deepnote.com?utm_source=created-in-deepnote-cell&projectId=e560aa28-8a2a-4b7a-b4c7-f886a9ab2cae' target=\"_blank\">\n<img alt='Created in deepnote.com' style='display:inline;max-height:16px;margin:0px;margin-right:7.5px;' src='data:image/svg+xml;base64,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' > </img>\nCreated in <span style='font-weight:600;margin-left:4px;'>Deepnote</span></a>",
   "metadata": {
    "tags": [],
    "created_in_deepnote_cell": true,
    "deepnote_cell_type": "markdown"
   }
  }
 ],
 "nbformat": 4,
 "nbformat_minor": 5,
 "metadata": {
  "kernelspec": {
   "display_name": "Python 3 (ipykernel)",
   "language": "python",
   "name": "python3"
  },
  "language_info": {
   "codemirror_mode": {
    "name": "ipython",
    "version": 3
   },
   "file_extension": ".py",
   "mimetype": "text/x-python",
   "name": "python",
   "nbconvert_exporter": "python",
   "pygments_lexer": "ipython3",
   "version": "3.9.5"
  },
  "deepnote_notebook_id": "bac5b7c5-29ba-404f-9147-c12960b4a085",
  "deepnote": {},
  "deepnote_execution_queue": []
 }
}