{
 "cells": [
  {
   "cell_type": "markdown",
   "source": "<h1 style=\"text-align: center\">Statistika Inferensial</h1>",
   "metadata": {
    "slideshow": {
     "slide_type": "slide"
    },
    "tags": [],
    "cell_id": "00000-567e6cc4-1f6e-4dbc-89e0-c054d142eba1",
    "deepnote_cell_type": "markdown"
   }
  },
  {
   "cell_type": "markdown",
   "source": "Ketika kita mengamati data, kemudian menghitung beberapa statistik deskriptif seperti rata-rata, proporsi, standar deviasi, dan lainnya, kita mungkin penasaran, **apakah statistik tersebut juga berlaku untuk seluruh data populasi** ataukah **statistik tersebut hanya disebabkan oleh keacakan data dan tidak mencerminkan populasi sebenarnya?**.\n\nStatistika inferensial membahas tentang pemahaman dan pengukuran estimasi ketidakpastian parameter suatu populasi. Mulai dari pengujian hipotesis, selang kepercayaan, estimasi titik, dan lainnya.\n\n<div align=\"middle\">\n<img src=\"../../assets/images/inferential-stats.png\">\n</div>",
   "metadata": {
    "cell_id": "00001-1ba19a9f-ecdb-4424-809b-01400727de41",
    "deepnote_cell_type": "markdown"
   }
  },
  {
   "cell_type": "code",
   "metadata": {
    "slideshow": {
     "slide_type": "skip"
    },
    "tags": [],
    "cell_id": "00002-e7d19e65-020d-4626-a43c-45d0aa34e998",
    "deepnote_to_be_reexecuted": false,
    "source_hash": "cd2e96eb",
    "execution_start": 1635750488180,
    "execution_millis": 278,
    "output_cleared": true,
    "deepnote_cell_type": "code"
   },
   "source": "import matplotlib.pyplot as plt\n\nplt.style.use(\"seaborn-dark\")",
   "execution_count": null,
   "outputs": []
  },
  {
   "cell_type": "markdown",
   "source": "## Distribusi Probabilitas\n\nDistribusi probabilitas adalah hasil dari semua kejadian beserta dengan probabilitas masing-masing hasil yang mungkin terjadi. Dengan mengetahui distribusi probabilitas, kita bisa membuat estimasi dari semua kejadian yang mungkin terjadi dan menggunakannya untuk mengestimasi karakteristik distribusi pada populasi yang sebenarnya.\n\nPada pelemparan dadu bersisi 6, distribusi probabilitasnya adalah sebagai berikut.\n\n| Hasil | Probabilitas |\n| --- | :---: |\n| 1 | $\\frac{1}{6}$ |\n| 2 | $\\frac{1}{6}$ |\n| 3 | $\\frac{1}{6}$ |\n| 4 | $\\frac{1}{6}$ |\n| 5 | $\\frac{1}{6}$ |\n| 6 | $\\frac{1}{6}$ |",
   "metadata": {
    "slideshow": {
     "slide_type": "slide"
    },
    "tags": [],
    "cell_id": "00003-5312f8be-f199-47c4-a7d3-4200fec5e7e9",
    "deepnote_cell_type": "markdown"
   }
  },
  {
   "cell_type": "markdown",
   "source": "Suatu distribusi probabilitas harus memenuhi 3 aturan berikut:\n1. *Outcome* harus saling lepas (*disjoint*)\n2. Masing-masing probabilitas berada dalam interval 0 dan 1\n3. Total probabilitas semua *outcome* sama dengan 1",
   "metadata": {
    "slideshow": {
     "slide_type": "subslide"
    },
    "tags": [],
    "cell_id": "00004-f4652f3a-60f2-47ec-a052-488178a9b21d",
    "deepnote_cell_type": "markdown"
   }
  },
  {
   "cell_type": "markdown",
   "source": "> **Kuis**\n>\n> Misal didefinisikan tim sales dalam list berikut.\n> ```python\n> salesteam = [\"Brian\", \"Paul\", \"Martha\", \"Agnes\"]\n> ```\n>\n> Jika kita akan memilih satu di antara tim sales untuk menghadiri satu rapat pada setiap hari. Bagaimanakah distribusi probabilitasnya?",
   "metadata": {
    "slideshow": {
     "slide_type": "slide"
    },
    "tags": [],
    "cell_id": "00005-6c3a48d0-3791-4238-8a91-6ee05e710ab5",
    "deepnote_cell_type": "markdown"
   }
  },
  {
   "cell_type": "markdown",
   "source": "Berdasarkan variabel acak, distribusi probabilitas dibedakan menjadi **distribusi probabilitas diskrit** dan **distribusi probabilitas kontinu**. Setiap jenis distribusi probabilitas, baik diskrit atau kontinu, memiliki properti yang disebut dengan **fungsi kepadatan probabilitas** yang merepresentasikan probabilitas suatu variabel acak $X$ bernilai (menghasilkan) $x$.\n\nSecara matematika, fungsi kepadatan probabilitas dinotasikan dengan $P(X=x)$. Misalkan, probabilitas kemunculan angka 2 pada pelemparan dadu dapat dinotasikan sebagai\n\n$$\nP(X = 2) \\; = \\; \\frac{1}{6}\n$$",
   "metadata": {
    "slideshow": {
     "slide_type": "subslide"
    },
    "tags": [],
    "cell_id": "00006-56e2304d-d52e-453b-928b-12e0b5ddd8ba",
    "deepnote_cell_type": "markdown"
   }
  },
  {
   "cell_type": "markdown",
   "source": "### Distribusi Probabilitas Diskrit\n\nKedua contoh sebelumnya, pelemparan dadu dan penugasan tim sales, adalah contoh dari distribusi probabilitas diskrit. Distribusi probabilitas diskrit adalah distribusi probabilitas dari sebuah variabel acak diskrit, yaitu variabel acak dengan nilai pada domain bilangan asli atau apapun yang dapat dihitung.",
   "metadata": {
    "slideshow": {
     "slide_type": "slide"
    },
    "tags": [],
    "cell_id": "00007-a7577c20-2063-4815-bae7-ba217343f253",
    "deepnote_cell_type": "markdown"
   }
  },
  {
   "cell_type": "markdown",
   "source": "Misalkan sebuah restoran mengoptimasi desain jumlah kursi dalam satu meja makan berdasarkan daftar antrean pelanggan yang datang pada hari sebelumnya. Setiap grup pelanggan tersebut akan dipilih secara acak.\n\n`group_size` pada contoh data berikut menggambarkan jumlah grup pelanggan yang datang. Untuk setiap jumlah pelanggan dalam satu grup, mulai dari 2 sampai 6 orang, kita bisa membuat sebuah distribusi probabilitas setiap jumlah pelanggan yang dipilih menggunakan pandas (`value_counts`).\n\n<div align=\"middle\">\n    <img src=\"../../assets/images/restaurant_groups.png\" width=\"30%\">\n</div>",
   "metadata": {
    "slideshow": {
     "slide_type": "subslide"
    },
    "tags": [],
    "cell_id": "00008-09d52c7d-3d1d-4253-bbc5-1a111ae9c5df",
    "deepnote_cell_type": "markdown"
   }
  },
  {
   "cell_type": "code",
   "metadata": {
    "slideshow": {
     "slide_type": "skip"
    },
    "tags": [],
    "cell_id": "00009-3db06efc-1cb6-4714-a242-c5a9f7914596",
    "deepnote_to_be_reexecuted": false,
    "source_hash": "d1d6db7f",
    "execution_start": 1635750645541,
    "execution_millis": 4,
    "output_cleared": true,
    "deepnote_cell_type": "code"
   },
   "source": "import pandas as pd\n\nrestaurant_groups = pd.read_csv(\"../../data/restaurants.csv\")\nrestaurant_groups.group_size.value_counts() / restaurant_groups.group_size.value_counts().sum()",
   "execution_count": null,
   "outputs": []
  },
  {
   "cell_type": "markdown",
   "source": "#### Distribusi Diskrit Uniform\n\nMisalkan kita punya 2 jenis dadu, dadu adil bersisi 6 dan dadu tak adil bersisi 6 dengan konfigurasi berikut.\n\n<img src=\"../../assets/images/fair-die.png\" style=\"float: left\" width=\"50%\">\n<img src=\"../../assets/images/unfair-die.png\" style=\"float: right\" width=\"50%\">\n\nDistribusi probabilitas kedua jenis dadu di atas termasuk distribusi diskrit karena hasilnya merupakan variabel acak diskrit. Distribusi probabilitas diskrit pada ilustrasi sebelah kiri secara speisla disebut dengan **distribusi (diskrit) uniform**.",
   "metadata": {
    "slideshow": {
     "slide_type": "slide"
    },
    "tags": [],
    "cell_id": "00010-7ddcc36a-0f86-48d9-b52b-89315e85c33b",
    "deepnote_cell_type": "markdown"
   }
  },
  {
   "cell_type": "markdown",
   "source": "**Distribusi diskrit uniform** adalah distribusi probabilitas yang semua probabilitas dari setiap variabel acaknya adalah sama. Contohnya adalah seperti pelemparan dadu bersisi 6 yang adil di atas.\n\nSecara matematik, fungsi distribusi probabilitas untuk distribusi diskrit uniform untuk suatu variabel acak $X$ adalah\n\n$$\nP(X=x) = \\frac{1}{n}, \\; n = \\text{jumlah semua hasil yang mungkin terjadi}\n$$\n\natau\n\n$$\nP(X=x) = \\frac{1}{b - a + 1}, \\; a, b = \\text{parameter distribusi diskirt uniform } (a < b)\n$$",
   "metadata": {
    "slideshow": {
     "slide_type": "subslide"
    },
    "tags": [],
    "cell_id": "00011-7d8fde1b-7a09-4590-aa12-3e688e1bdfd4",
    "deepnote_cell_type": "markdown"
   }
  },
  {
   "cell_type": "code",
   "metadata": {
    "slideshow": {
     "slide_type": "skip"
    },
    "tags": [],
    "cell_id": "00012-cfa228ed-6b11-4095-b5d4-0682b45227bd",
    "deepnote_to_be_reexecuted": false,
    "source_hash": "f77547bc",
    "execution_start": 1635750645542,
    "execution_millis": 0,
    "output_cleared": true,
    "deepnote_cell_type": "code"
   },
   "source": "# scipy.stats.uniform.pdf",
   "execution_count": null,
   "outputs": []
  },
  {
   "cell_type": "markdown",
   "source": "Misalkan, kita ingin menghitung probabilitas angka yang muncul pada dadu kurang dari 2. Pernyataan tersebut bisa ekuivalen dengan probabilitas angka yang muncul adalah 1 atau 2. Karena kedua *event* tersebut besifat *mutually exclusive*, kita bisa dapatkan probabilitasnya dengan aturan penjumlahan pada probabilitas.\n\n$$\nP(X \\leq 2) = P(X=1) + P(X=2) = \\frac{1}{6} + \\frac{1}{6} = \\frac{1}{3}\n$$",
   "metadata": {
    "slideshow": {
     "slide_type": "subslide"
    },
    "tags": [],
    "cell_id": "00013-1ef7ce83-48fe-4546-928d-8c77aaf15a3e",
    "deepnote_cell_type": "markdown"
   }
  },
  {
   "cell_type": "markdown",
   "source": "Dalam distribusi probabilitas, $P(X \\leq 2)$, dapat dihitung menggunakan **fungsi kepadatan kumulatif** atau *cumulative distribution function* (CDF). Secara umum,\n\n$$\nP(X \\leq x) = \\frac{x - a + 1}{b - a + 1}\n$$",
   "metadata": {
    "slideshow": {
     "slide_type": "subslide"
    },
    "tags": [],
    "cell_id": "00014-697d6a97-6708-420e-97e5-a405dc3f6cc8",
    "deepnote_cell_type": "markdown"
   }
  },
  {
   "cell_type": "code",
   "metadata": {
    "slideshow": {
     "slide_type": "skip"
    },
    "tags": [],
    "cell_id": "00015-f60ecc59-3659-4ebc-82bb-66df7e8462c0",
    "deepnote_to_be_reexecuted": false,
    "source_hash": "a2838bf1",
    "execution_start": 1635750645543,
    "execution_millis": 0,
    "output_cleared": true,
    "deepnote_cell_type": "code"
   },
   "source": "# scipy.stats.uniform.cdf",
   "execution_count": null,
   "outputs": []
  },
  {
   "cell_type": "markdown",
   "source": "<div align=\"middle\">\n<img src=\"../../assets/images/dist-unfair-die.png\" width=\"50%\">\n</div>\n\n> **Kuis:**\n>\n> Hitung $P(X \\leq 2)$ untuk dadu dengan distribusi probabilitas seperti pada grafik di atas.",
   "metadata": {
    "slideshow": {
     "slide_type": "slide"
    },
    "tags": [],
    "cell_id": "00016-fcd06676-391c-4317-9302-20fb07c8144a",
    "deepnote_cell_type": "markdown"
   }
  },
  {
   "cell_type": "markdown",
   "source": "#### Distribusi Bernoulli\n\nDistribusi bernoulli merupakan distribusi probabilitas diskrit dari sebuah variabel acak dengan hanya 2 kemungkinan hasil, **sukses** atau **gagal** dengan probabilitas $p$ dan $1-p$ secara berturut-turut, dalam satu percobaan. Analogi yang mungkin adalah kita bisa anggap distribusi bernoulli sebagai distribusi probabilitas pada suatu percobaan pelemparan koin yang bias, dengan probabilitas $p$ akan menghasilkan bagian *head* dan $1-p$ untuk *tail*.\n\nFungsi kepadatan probabilitas:\n\n$$\n\\text{PMF} = P(X=x) =\n\\begin{cases}\n    \\hfill p &, \\: x=1 \\\\\n    \\hfill 1-p &, \\: x=0 \\\\\n\\end{cases}\n$$\n\nuntuk $ 0 \\leq p \\leq 1$. Fungsi kepadatan probabilitas di atas bisa disederhanakan menjadi $P(X=x) = p^x \\cdot (1-p)^{1-x},\\, \\text{dengan } x \\in \\{0, 1\\}$.",
   "metadata": {
    "slideshow": {
     "slide_type": "slide"
    },
    "tags": [],
    "cell_id": "00017-7dfb610c-a026-41fd-9b07-e774d0648750",
    "deepnote_cell_type": "markdown"
   }
  },
  {
   "cell_type": "markdown",
   "source": "Kita bisa menggunakan `scipy.stats.bernoulli.rvs` untuk membangkitkan bilangan acak berdistribusi bernoulli, menghitung *pmf* menggunakan `scipy.stats.bernoulli.pmf`, serta menghitung *cdf* menggunakan `scipy.stats.bernoulli.cdf`.",
   "metadata": {
    "slideshow": {
     "slide_type": "subslide"
    },
    "tags": [],
    "cell_id": "00018-60c99be3-d483-46e9-a2c6-b37bf08ac454",
    "deepnote_cell_type": "markdown"
   }
  },
  {
   "cell_type": "code",
   "metadata": {
    "slideshow": {
     "slide_type": "notes"
    },
    "tags": [],
    "cell_id": "00019-c5069c43-194c-4153-a0f6-cfb2f0171190",
    "deepnote_to_be_reexecuted": false,
    "source_hash": "928fcc22",
    "execution_start": 1635750645544,
    "execution_millis": 500,
    "output_cleared": true,
    "deepnote_cell_type": "code"
   },
   "source": "import numpy as np\nfrom scipy.stats import bernoulli, binom\n\nnp.random.seed(11)\n\ndef perform_bernoulli_trials(n: int, p: float):\n    \"\"\"Perform n Bernoulli trials with success probability p\n    and return number of successes.\"\"\"\n    # Initialize number of successes: n_success\n    n_success = 0\n\n    # Perform trials\n    for i in range(n):\n        # Choose random number between zero and one: random_number\n        random_number = np.random.random(1)\n\n        # If less than p, it's a success so add one to n_success\n        if random_number < p:\n            n_success += 1\n\n    return n_success\n\nperform_bernoulli_trials(5, .5)/5, binom.pmf(n=5, k=1, p=.05)",
   "execution_count": null,
   "outputs": []
  },
  {
   "cell_type": "markdown",
   "source": "#### Distribusi Binomial\n\n<img src=\"../../assets/images/binomial.png\" width=\"20%\" style=\"float: right;margin: 0 0 0 50px\">\n\nSecara umum, distribusi binomial adalah distribusi probabilitas yang menggambarkan jumlah sukses suatu kejadian dalam sekumpuluan percobaan yang independen. Distribusi binomial bisa dibilang sebagai generalisasi dari distribusi bernoulli. Distribusi binomial juga berdasarkan variabel acak diskrit dengan 2 kemungkinan hasil (*binary outcomes*).\n\nParameter yang digunakan dalam distribusi binomial hampir sama dengan bernoulli, yaitu $p$ yang merupakan probabilitas sukses suatu kejadian. Parameter lain yang membedakan distribusi binomial dengan bernoulli adalah $n$ yang merupakan jumlah percobaan **independen** yang dilakukan.",
   "metadata": {
    "slideshow": {
     "slide_type": "slide"
    },
    "tags": [],
    "cell_id": "00020-e598d397-7999-4f79-b223-4c3d9d8e1468",
    "deepnote_cell_type": "markdown"
   }
  },
  {
   "cell_type": "markdown",
   "source": "Sebagai contoh, misalkan kita melakukan percobaan pelemparan koin sebanyak 2 kali, nilai dari variabel acak yang mungkin terjadi dapat dibangkitkan menggunakan `scipy.stats.binom.rvs`.\n\n```python\nbinom.rvs(n=2, 0.5, size=1)    # p = 0.5\n```\n\n* $n$: jumlah percobaan\n* $p$: probabilitas sukses/berhasil\n* `size`: frekuensi sejumlah percobaan yang dilakukan",
   "metadata": {
    "slideshow": {
     "slide_type": "subslide"
    },
    "tags": [],
    "cell_id": "00021-bba67890-8ea1-40c5-949b-c4e4fdcf7c12",
    "deepnote_cell_type": "markdown"
   }
  },
  {
   "cell_type": "markdown",
   "source": "Kita bisa menggunakan `scipy.stats.binom.pmf` dan `scipy.stats.binom.cdf` untuk menghitung fungsi kepadatan probabilitas dan fungsi kepadatan kumulatif dari distribusi binomial secara berturut-turut. Secara matematik, kita juga bisa menggunakna persamaan berikut\n\n*Probability Mass Function*\n\n$$\nf(x) = P(X=x) = \\binom{n}{x} \\cdot p^x \\cdot (1-p)^{n-x} = \\frac{n!}{x! (n-x)!} p^x \\cdot (1-p)^{n-x}\n$$\n\n*Cumulative Density Function*\n\n$$\nF(x) = P(X \\leq x) = \\sum_{i=0}^{\\lfloor x \\rfloor}{p^i \\cdot (1-p)^{n-i}}\n$$",
   "metadata": {
    "slideshow": {
     "slide_type": "subslide"
    },
    "tags": [],
    "cell_id": "00022-7e2485d7-a5f9-401b-9d3b-ca40319789d9",
    "deepnote_cell_type": "markdown"
   }
  },
  {
   "cell_type": "code",
   "metadata": {
    "slideshow": {
     "slide_type": "skip"
    },
    "tags": [],
    "cell_id": "00023-c6722eec-20e9-4f47-9e6b-3fd62ca85cdf",
    "deepnote_to_be_reexecuted": false,
    "source_hash": "f03f155c",
    "execution_start": 1635750646047,
    "execution_millis": 1,
    "output_cleared": true,
    "deepnote_cell_type": "code"
   },
   "source": "# scipy.stats.binom.rvs\n# scipy.stats.binom.pmf\n# scipy.stats.binom.cdf",
   "execution_count": null,
   "outputs": []
  },
  {
   "cell_type": "markdown",
   "source": "> **Kuis:**\n>\n> Sebuah bank menerbitkan 100 produk hipotek. Ada kemungkinan dari 100 produk tersebut akan terjadi wanprestasi atau gagal bayar. Misalkan ada kemungkinan 5 dari 100 produk mengalami gagal bayar. Jika diasumsikan bank akan rugi ketika terdapat 10 atau lebih hipotek yang mengalami wanprestasi, hitung probabilitas bank tersebut akan mengalami kerugian!",
   "metadata": {
    "slideshow": {
     "slide_type": "slide"
    },
    "tags": [],
    "cell_id": "00024-f91fe0e5-ef81-439f-8d52-140a03aa48a0",
    "deepnote_cell_type": "markdown"
   }
  },
  {
   "cell_type": "code",
   "metadata": {
    "cell_id": "00025-852b4f14-9ca7-45fd-bad7-dbb283305470",
    "deepnote_to_be_reexecuted": false,
    "source_hash": "9801247",
    "execution_start": 1635750646071,
    "output_cleared": true,
    "deepnote_cell_type": "code"
   },
   "source": "# KETIK DI SINI",
   "execution_count": null,
   "outputs": []
  },
  {
   "cell_type": "markdown",
   "source": "#### Distribusi Poisson\n\nProses Poisson (*poisson process*) memodelkan peristiwa yang sebenarnya terjadi dalam tingkat tertentu (*rate*), tapi secara acak. Salah satu karakteristiknya adalah setiap peristiwa yang terjadi saling independen satu dengan yang lainnya.\n\nSebagai contoh, tercatat bahwa rata-rata 8 kali adopsi hewan per minggu, tapi angka ini mungkin bervariasi setiap minggunya. Jumlah adopsi dari minggu ke minggu mungkin berbeda dan setiap adopsi yang terjadi saling independen.",
   "metadata": {
    "slideshow": {
     "slide_type": "slide"
    },
    "tags": [],
    "cell_id": "00026-98ea80a6-0cff-49c5-a13b-a0259491076e",
    "deepnote_cell_type": "markdown"
   }
  },
  {
   "cell_type": "markdown",
   "source": "Beberapa contoh dari **proses poisson**.\n\n* Jumlah kelahiran bayi dalam sebuah rumah sakit setiap hari\n* Jumlah adopsi hewan pada suatu penampungan hewan tiap minggu\n* Jumlah orang yang datang pada suatu restoran dalam tiap jam\n* Jumlah gempa bumi yang terjadi di Jawa setiap tahun",
   "metadata": {
    "slideshow": {
     "slide_type": "subslide"
    },
    "tags": [],
    "cell_id": "00027-658757ba-551d-4265-af9f-6033d93d0ef2",
    "deepnote_cell_type": "markdown"
   }
  },
  {
   "cell_type": "markdown",
   "source": "Distribusi probabilitas poisson menggambarkan probabilitas sejumlah peristiwa terjadi dalam rentang waktu tertentu. Contohnya:\n* Probabilitas $> 5$ hewan diadopsi dari sebuah penampungan hewan setiap minggu.\n* Probabilitas $12$ orang mendatangi sebuah restoran setiap jam\n\n<div align=\"middle\">\n    <img src=\"../../assets/images/poisson-failures.png\" widht=\"50%\">\n</div>",
   "metadata": {
    "slideshow": {
     "slide_type": "subslide"
    },
    "tags": [],
    "cell_id": "00028-40e9ebcb-70c8-4361-b9ef-a62647677e7c",
    "deepnote_cell_type": "markdown"
   }
  },
  {
   "cell_type": "markdown",
   "source": "> **Kuis:**\n>\n> Sebutkan contoh lain dari sebuah peristiwa yang probabilitas kejadiannya mengikuti distribusi poisson!",
   "metadata": {
    "slideshow": {
     "slide_type": "slide"
    },
    "tags": [],
    "cell_id": "00029-0a5f7474-8087-47ef-a02b-83a1a36995c5",
    "deepnote_cell_type": "markdown"
   }
  },
  {
   "cell_type": "markdown",
   "source": "Probabilitas poisson dideskripsikan dengan parameter *lambda* ($\\lambda$) yang merepresentasikan tingkat atau rata-rata peristiwa tersebut terjadi dalam rentang waktu tertentu. Contoh:\n* Rata-rata adopsi hewan per minggu $= 8$\n\n<div align=\"middle\">\n    <img src=\"../../assets/images/poisson-mean-8.png\" width=\"50%\">\n</div>\n\nSeperti pada gambar di atas, besar kemungkinan terjadi 8 (sesuai rata-rata) adopsi per minggu, tapi bisa juga terjadi 3 adopsi, meskipun probabilitasnya lebih kecil.",
   "metadata": {
    "slideshow": {
     "slide_type": "slide"
    },
    "tags": [],
    "cell_id": "00030-62490269-e8b6-4037-8792-05713f9bb832",
    "deepnote_cell_type": "markdown"
   }
  },
  {
   "cell_type": "markdown",
   "source": "*Probability Mass Function*\n\n$$\nf(k) = P(X=k) = \\frac{\\lambda^k \\cdot e^{-\\lambda}}{k!}\n$$\n\n*Cumulative Distribution Function*\n\n$$\nF(k)\n$$",
   "metadata": {
    "slideshow": {
     "slide_type": "skip"
    },
    "tags": [],
    "cell_id": "00031-735fef3f-6167-48ec-a20e-657ff5ba6bf2",
    "deepnote_cell_type": "markdown"
   }
  },
  {
   "cell_type": "code",
   "metadata": {
    "slideshow": {
     "slide_type": "skip"
    },
    "tags": [],
    "cell_id": "00032-5e5d09c3-a6cc-44c8-bc2a-4bbba3a66293",
    "deepnote_to_be_reexecuted": false,
    "source_hash": "3f6cb40b",
    "execution_start": 1635750646072,
    "output_cleared": true,
    "deepnote_cell_type": "code"
   },
   "source": "# scipy.stats.poisson.rvs\n# scipy.stats.poisson.pmf\n# scipy.stats.poisson.cdf\n\n# numpy.rng.poisson",
   "execution_count": null,
   "outputs": []
  },
  {
   "cell_type": "code",
   "metadata": {
    "slideshow": {
     "slide_type": "skip"
    },
    "tags": [],
    "cell_id": "00033-36dd6163-bb84-420f-b3dc-3ee9426df062",
    "deepnote_to_be_reexecuted": false,
    "source_hash": "43c2f80c",
    "execution_start": 1635750646072,
    "output_cleared": true,
    "deepnote_cell_type": "code"
   },
   "source": "# binomial vs poisson",
   "execution_count": null,
   "outputs": []
  },
  {
   "cell_type": "markdown",
   "source": "### Distribusi Probabilitas Kontinu\n\nUntuk variabel acak kontinu, yaitu variabel yang nilainya berada pada domain bilangan real, digunakan diterapkan distribusi probabilitas kontinu.\n\n<div align=\"middle\">\n    <img src=\"../../assets/images/waiting-bus.png\" width=\"50%\">\n</div>\n\nMisalkan kita sedang menunggu kedatangan bus yang jadwal kedatangannya setiap 12 menit, seperti yang diilustrasikan pada gambar di atas. Kita bisa menunggu selama 0 menit ketika kita datang ke terminal tepat saat bus datang atau juga selama 12 menit penuh ketika kita datang tepat saat bus meninggalkan terminal.",
   "metadata": {
    "slideshow": {
     "slide_type": "slide"
    },
    "tags": [],
    "cell_id": "00034-42f4c9fd-aac2-4331-9327-2e40fdd6fbc8",
    "deepnote_cell_type": "markdown"
   }
  },
  {
   "cell_type": "markdown",
   "source": "Salah satu ciri khas dari distribusi probabilitas kontinu adalah kemungkinan hasil yang tak hingga yang merupakan efek dari variabel acak kontinu. Sebagai contoh, kita bisa menunggu bus datang selama 1 menit, 1.3 menit, 1.35 menit, dan seterusnya. Kita bisa buat distribusi probabilitas waktu tunggu seperti grafik berikut.\n\n<div align=\"middle\">\n    <img src=\"../../assets/images/dist-cont-uniform.png\" width=\"50%\">\n</div>",
   "metadata": {
    "slideshow": {
     "slide_type": "subslide"
    },
    "tags": [],
    "cell_id": "00035-c881ea18-37c8-4bb1-9c01-c7375ff50ae5",
    "deepnote_cell_type": "markdown"
   }
  },
  {
   "cell_type": "markdown",
   "source": "#### Distribusi Kontinu Uniform\n\nSama dengan distribusi diskrit uniform, karena probabilitas waktu tunggu untuk setiap satuan waktu selalu sama, maka contoh sebelumnya termasuk ke dalam distribusi kontinu uniform. Khusus contoh tersebut, kita langsung tahu bahwa $P(X=1.5) = \\frac{1}{12}$. Secara umum, fungsi kepadatan probabilitas (PDF) dari distribusi kontinu uniform adalah\n\n$$\nP(X=x) = \\frac{1}{b - a}, \\, \\text{dengan a, b adalah parameter ($a < b$)}\n$$\n\nKita bisa menggunakan fungsi yang sama dengan distribusi diskrit uniform pada scipy, `scipy.stats.uniform.pdf`, untuk menghitung fungsi kepadatan probabilitas.",
   "metadata": {
    "slideshow": {
     "slide_type": "slide"
    },
    "tags": [],
    "cell_id": "00036-d2474db0-8d1c-471a-9445-e5ebe3a24c0b",
    "deepnote_cell_type": "markdown"
   }
  },
  {
   "cell_type": "markdown",
   "source": "Untuk menghitung probabilitas waktu tunggu di bawah 7 menit, kita bisa menggunakan fungsi kepadatan kumulatif (CDF) untuk distribusi kontinu uniform berikut\n\n$$\nF(x) = P(X \\leq x) =\n\\begin{cases}\n0 \\hfill & \\text{for $x < a$} \\\\\n\\frac{x-a}{b-a} & \\text{for $a \\leq x \\leq b$} \\\\\n1 \\hfill & \\text{for $x > b$} \\\\\n\\end{cases}\n$$\n\nKita masih bisa menggunakan fungsi `scipy.stats.uniform.cdf` untuk menghitung fungsi kepadatan kumulatif distribusi uniform.",
   "metadata": {
    "slideshow": {
     "slide_type": "subslide"
    },
    "tags": [],
    "cell_id": "00037-362e191e-373d-4bf5-9a8b-067d666116bc",
    "deepnote_cell_type": "markdown"
   }
  },
  {
   "cell_type": "code",
   "metadata": {
    "slideshow": {
     "slide_type": "skip"
    },
    "tags": [],
    "cell_id": "00038-aa4999ab-7d3f-45db-977b-67d2292d5486",
    "deepnote_to_be_reexecuted": false,
    "source_hash": "5d57d294",
    "execution_start": 1635750646075,
    "output_cleared": true,
    "deepnote_cell_type": "code"
   },
   "source": "# scipy.stats.uniform.rvs\n# scipy.stats.uniform.cdf\n# scipy.stats.unifor.pdf",
   "execution_count": null,
   "outputs": []
  },
  {
   "cell_type": "markdown",
   "source": "> **Kuis:**\n>\n> Sebagai data scientist baru dalam sebuah perusahaan, tugas pertama kita adalah menyiapkan *pipeline* data untuk model yang akan digunakan untuk melatih model. Kita tidak tahu dengan pasti kapan model akan dilatih ulang, tapi kita diberitahu bahwa model tersebut akan dijalankan setiap 30 menit. Karena proses penyiapan data yang memakan waktu, kita ingin tahu berapa lama waktu yang seharusnya diperlukan sebelum model dijalankan agar data yang disiapkan optimal.\n> 1. Hitung probabilitas *pipeline* data berjalan selama kurang dari 5 menit sebelum model dijalankan!\n> 2. Hitung probabilitas *pipeline* berjalan selama lebih dari 5 menit sebelum model dijalankan!\n> 3. Hitung probabilitas *pipeline* berjalan selama 10 sampai 20 menit sebelum model dijalankan!",
   "metadata": {
    "slideshow": {
     "slide_type": "slide"
    },
    "tags": [],
    "cell_id": "00039-cfaa8d60-8061-4e35-9580-088dbfdfc4c6",
    "deepnote_cell_type": "markdown"
   }
  },
  {
   "cell_type": "markdown",
   "source": "#### Distribusi Normal\n\nSalah satu distribusi kontinu yang paling banyak aplikasinya adalah distribusi normal. Distribusi normal banyak digunakan baik dalam metode statistik atau sebagi asumsi yang harus dipenuhi. Bentuk distribusi normal seperti di bawah ini.\n\n<div align=\"middle\">\n    <img src=\"../../assets/images/dist-normal.png\" width=\"50%\">\n</div>\n\nBentuk distribusi normal seperti gambar di atas sering juga disebut dengan \"kurva lonceng\" (*bell curve*) karena bentuk kurva yang menyerupai lonceng.",
   "metadata": {
    "slideshow": {
     "slide_type": "slide"
    },
    "tags": [],
    "cell_id": "00040-c1ffbc32-d02c-41cb-bf9f-4b6607dec5ac",
    "deepnote_cell_type": "markdown"
   }
  },
  {
   "cell_type": "markdown",
   "source": "Properti distribusi normal:\n* Kurva distribusi simetris\n* Luas area di bawah kurva selalu sama dengan 1\n* Probabilitas \"tidak pernah sama dengan\" 0\n* Parameter yang mendeskripsikan distribusi berupa rata-rata dan standar deviasi\n\n<div align=\"middle\">\n<img src=\"../../assets/images/dist-normal-symmetry.png\" style=\"float: left\" width=\"30%\">\n<img src=\"../../assets/images/dist-normal-area.png\" style=\"float: left\" width=\"30%\">\n<img src=\"../../assets/images/dist-normal-nozero.png\" width=\"30%\">\n</div>",
   "metadata": {
    "slideshow": {
     "slide_type": "subslide"
    },
    "tags": [],
    "cell_id": "00041-41038b77-d668-437c-be92-fb5d14d59d5e",
    "deepnote_cell_type": "markdown"
   }
  },
  {
   "cell_type": "markdown",
   "source": "Sebagai contoh, distribusi data tinggi perempuan yang dihimpun oleh NHANES berdistribusi normal dengan rata-rata sekitar 160cm sampai 165cm.\n\n<div align=\"middle\">\n    <img src=\"../../assets/images/dist-normal-nhanes.png\" width=\"50%\">\n</div>",
   "metadata": {
    "slideshow": {
     "slide_type": "subslide"
    },
    "tags": [],
    "cell_id": "00042-016371c4-222e-4c37-95d3-5363307df164",
    "deepnote_cell_type": "markdown"
   }
  },
  {
   "cell_type": "markdown",
   "source": "Distribusi normal dideskripsikan oleh parameter rata-rata ($\\mu$) dan standar deviasi ($\\sigma$). Misalkan, distribusi normal dengan $\\mu = 20$ dan $\\sigma = 3$ dapat digambarkan dengan grafik di bawah ini.\n\n<div align=\"middle\">\n    <img src=\"../../assets/images/dist-normal-mean-std.png\">\n</div>",
   "metadata": {
    "slideshow": {
     "slide_type": "subslide"
    },
    "tags": [],
    "cell_id": "00043-dfd22b9c-2286-42a4-8773-7b2d8722957f",
    "deepnote_cell_type": "markdown"
   }
  },
  {
   "cell_type": "markdown",
   "source": "<div align=\"middle\">\n    <img src=\"../../assets/images/dist-normal-standard.png\">\n</div>\n\nJika sebuah distribusi normal memiliki rata-rata sama dengan 0 ($\\mu = 0$) dan standar deviasi sama dengan 1 ($\\sigma = 1$) seperti yang digambarkan di atas, distribusi normal ini juga disebut dengan **distribusi normal standar**.",
   "metadata": {
    "slideshow": {
     "slide_type": "subslide"
    },
    "tags": [],
    "cell_id": "00044-ea78debf-7e01-4f7f-a251-010c98ad82c1",
    "deepnote_cell_type": "markdown"
   }
  },
  {
   "cell_type": "code",
   "metadata": {
    "slideshow": {
     "slide_type": "skip"
    },
    "tags": [],
    "cell_id": "00045-588e2a64-f921-493c-9312-7219121ba57f",
    "deepnote_to_be_reexecuted": false,
    "source_hash": "bf2e1031",
    "execution_start": 1635750646079,
    "output_cleared": true,
    "deepnote_cell_type": "code"
   },
   "source": "# scipy.stats.norm.rvs\n# scipy.stats.norm.cdf\n# scipy.stats.norm.pdf",
   "execution_count": null,
   "outputs": []
  },
  {
   "cell_type": "markdown",
   "source": "#### Distribusi Eksponensial\n\n* Ingat bahwa proses poisson mendeskripsikan sebuah peristiwa yang terjadi dalam tingkat dan untuk rentang waktu tertentu\n* Setiap peristiwa poisson saling independen\n* Interval waktu dari satu peristiwa ke peristiwa selanjutnya bervariasi\n\n<div align=\"middle\">\n    <img src=\"../../assets/images/poisson-failures.png\" widht=\"50%\">\n</div>",
   "metadata": {
    "slideshow": {
     "slide_type": "slide"
    },
    "tags": [],
    "cell_id": "00046-66608894-e9b5-4e26-a4aa-3a4966882fc9",
    "deepnote_cell_type": "markdown"
   }
  },
  {
   "cell_type": "markdown",
   "source": "**Distribusi eksponensial** menggambarkan probabilitas waktu antar proses poisson. Dengan kata lain, distribusi eksponensial menggambarkan **waktu tunggu** antar peristiwa poisson. Contohnya:\n* Probabilitas rentang waktu antar adopsi hewan lebih dari 1 hari\n* Probabilitas kurang dari 10 menit sebelum pelanggan lain datang pada sebuah restoran\n* Probabilitas 6-8 bulan lamanya untuk gempa bumi di Jawa terjadi",
   "metadata": {
    "slideshow": {
     "slide_type": "subslide"
    },
    "tags": [],
    "cell_id": "00047-a6a4aa70-5c46-4cda-aabd-671d6da68176",
    "deepnote_cell_type": "markdown"
   }
  },
  {
   "cell_type": "markdown",
   "source": "*Probability Density Function*\n\n$$\nf(x) = P(X=x) =\n\\begin{cases}\n\\lambda e^{-\\lambda x} & x > 0, \\\\\n0 & x \\leq 0.\n\\end{cases}\n$$\n\n*Cumulative Distribution Function*\n\n$$\nF(x) = P(X \\leq x) =\n\\begin{cases}\n1 - e^{-\\lambda x} & x > 0, \\\\\n0 & x \\leq 0.\n\\end{cases}\n$$",
   "metadata": {
    "slideshow": {
     "slide_type": "subslide"
    },
    "tags": [],
    "cell_id": "00048-65c75157-c7e3-4820-b408-474eaa422c84",
    "deepnote_cell_type": "markdown"
   }
  },
  {
   "cell_type": "code",
   "metadata": {
    "slideshow": {
     "slide_type": "skip"
    },
    "tags": [],
    "cell_id": "00049-8c135a93-e653-4f8c-a49e-c4fe8663ecad",
    "deepnote_to_be_reexecuted": false,
    "source_hash": "f3b7fe30",
    "execution_start": 1635750646116,
    "output_cleared": true,
    "deepnote_cell_type": "code"
   },
   "source": "# scipy.stats.expon.rvs\n# scipy.stats.expon.pdf\n# scipy.stats.expon.cdf\n\n# np.rng.exponential",
   "execution_count": null,
   "outputs": []
  },
  {
   "cell_type": "markdown",
   "source": "> **Kuis:**\n>\n> Misalkan seorang CEO ingin mengevaluasi performa tim sales dalam merespon klien potensial. Mengingat anggota tim sales yang masih sedikit, rata-rata tim sales perlu meluangkan waktu $2.5$ jam dalam merespon.\n> 1. Berapakah peluang tim sales membutuhkan waktu lebih dari 4 jam untuk merespon klien?\n> 2. Berapakah peluang tim sales membutuhkan waktu antara 3-4 jam untuk merespon klien?",
   "metadata": {
    "slideshow": {
     "slide_type": "slide"
    },
    "tags": [],
    "cell_id": "00050-1dd4a91d-f34f-4330-9328-e33a47df5583",
    "deepnote_cell_type": "markdown"
   }
  },
  {
   "cell_type": "code",
   "source": "# KETIK DI SINI",
   "metadata": {
    "tags": [],
    "cell_id": "00051-7591747a-05df-4af7-8e0b-3ffd0513a481",
    "output_cleared": true,
    "deepnote_cell_type": "code"
   },
   "outputs": [],
   "execution_count": null
  },
  {
   "cell_type": "markdown",
   "source": "#### Distribusi t-Student\n\nDistribusi-$t$, atau yang dikenal juga sebagai *student's t distribution*, memiliki penampakan yang mirip dengan distribusi normal.\n\n<div align=\"middle\">\n    <img src=\"../../assets/images/dist-t.png\" width=\"50%\">\n</div>\n\nPerbedaan dengan distribusi normal:\n* Distribusi *t* memiliki ekor yang lebih tebal dan pendek dibanding distribusi normal\n* Ukuran dispersi lebih besar (lebih banyak ketakpastian dan jauh dari *mean*)\n* Biasanya digunakan (dibanding dist. normal) ketika jumlah sampel sedikit",
   "metadata": {
    "slideshow": {
     "slide_type": "slide"
    },
    "tags": [],
    "cell_id": "00051-89dbb7ef-829d-4441-9b41-f9a2559a7fd8",
    "deepnote_cell_type": "markdown"
   }
  },
  {
   "cell_type": "markdown",
   "source": "Biasanya, distribusi ini digunakan dalam **uji hipotesis** untuk menarik kesimpulan pada keadaan populasi sebenarnya.\n\nDistribusi $t$ dideskripsikan dengan parameter yang disebut dengan **derajat kebabasan** atau *degree of freedom* (df).\n* Semakin kecil *df*, semakin tebal ekor dan semakin besar nilai deviasi\n* Semakin besar *df*, semakin menyerupai distribusi normal\n\n<div align=\"middle\">\n    <img src=\"../../assets/images/dist-t-df.png\" width=\"50%\">\n</div>",
   "metadata": {
    "slideshow": {
     "slide_type": "subslide"
    },
    "tags": [],
    "cell_id": "00052-0a950b9f-5000-45be-9c17-b08b585b6bcc",
    "deepnote_cell_type": "markdown"
   }
  },
  {
   "cell_type": "markdown",
   "source": "> Degrees of Freedom refers to the maximum number of logically independent values, which are values that have the freedom to vary, in the data sample. ([detail here](https://www.investopedia.com/terms/d/degrees-of-freedom.asp))",
   "metadata": {
    "slideshow": {
     "slide_type": "notes"
    },
    "tags": [],
    "cell_id": "00053-a0588c06-68cb-4ebf-9cdf-2f079935b0d4",
    "deepnote_cell_type": "markdown"
   }
  },
  {
   "cell_type": "code",
   "metadata": {
    "slideshow": {
     "slide_type": "skip"
    },
    "tags": [],
    "cell_id": "00054-f2c7d7e2-7612-4516-805a-4e0517d5639e",
    "deepnote_to_be_reexecuted": false,
    "source_hash": "94d80cac",
    "execution_start": 1635750646117,
    "output_cleared": true,
    "deepnote_cell_type": "code"
   },
   "source": "# scipy.stats.t.rvs\n# scipy.stats.t.pdf\n# scipy.stats.t.cdf\n\n# np.rng.standard_t",
   "execution_count": null,
   "outputs": []
  },
  {
   "cell_type": "markdown",
   "source": "## Estimasi Titik\n\nSalah satu tujuan dari statistika inferensial adalah memahami dan mengestimasi **parameter** dari suatu populasi menggunakan estimasi yang didapat dan dihitung dari data sampel. Sebagai contoh, rata-rata yang dihitung dari data sampel (*sample mean*) merupakan sebuah estimasi titik dari rata-rata populasi sesungguhnya.\n\nParameter adalah suatu ukuran deskriptif dari sebuah populasi yang biasanya digunakan sebagai masukan fungsi kepadatan probabilitas (PDF) untuk menghasilkan kurva distribusi.\n\n| Distribusi | Parameter 1 | Parameter 2 |\n| ---------- | :---------: | :---------: |\n| Binomial | $n$ | $p$ |\n| Normal | $\\mu$ | $\\sigma$ |\n| Poisson | $\\lambda$ | |\n| Eksponensial | $\\lambda$ | |",
   "metadata": {
    "slideshow": {
     "slide_type": "slide"
    },
    "tags": [],
    "cell_id": "00055-88f0e042-72cb-4f51-a73a-24a756cc7c27",
    "deepnote_cell_type": "markdown"
   }
  },
  {
   "cell_type": "markdown",
   "source": "Misalkan hasil survey menyatakan bahwa 35% rakyat Amerika setuju Donald Trump dipertahankan. Kita bisa anggap bahwa angka $35\\%$ merupakan sebuah **estimasi titik** dari angka yang mungkin akan kita peroleh ketika kita melakukan survey ke seluruh populasi. Ukuran **proporsi** pada populasi (dinotasikan dengan $p$) biasa disebut dengan *parameter of interest* dan proporsi sampel (dinotasikan dengan $\\hat{p}$) biasa disebut dengan **estimator**.\n\n```python\nsurvey = ([\"setuju\"]*700) + ([\"tidak setuju\"]*1300)\n```\n\nKarena sulitnya mengumpulkan data untuk setiap individu dalam populasi, kita mungkin tidak akan pernah tahu berapa nilai $p$ sebenarnya, sehingga kita gunakan $\\hat{p}$ sebuah estimasi dari $p$.",
   "metadata": {
    "cell_id": "00056-442738f8-2a49-42be-8a93-8db8e97b1871",
    "deepnote_cell_type": "markdown"
   }
  },
  {
   "cell_type": "code",
   "metadata": {
    "slideshow": {
     "slide_type": "skip"
    },
    "tags": [],
    "cell_id": "00057-51f4e106-a97b-41a5-bc3e-2aa4f64d7ec5",
    "deepnote_to_be_reexecuted": false,
    "source_hash": "1305b07d",
    "execution_start": 1635750646118,
    "output_cleared": true,
    "deepnote_cell_type": "code"
   },
   "source": "rng = np.random.default_rng(111)\npop_survey = ([\"setuju\"]*750) + ([\"tidak setuju\"]*1400)\nprint(\"populasi proporsi setuju:\", pop_survey.count(\"setuju\") / len(pop_survey))\nprint(\"populasi proporsi tidak setuju:\", pop_survey.count(\"tidak setuju\") / len(pop_survey))\n\nsample_survey = rng.choice(pop_survey, replace=True, size=100).tolist()\nprint(\"sampel proporsi setuju:\", sample_survey.count(\"setuju\") / len(sample_survey))\nprint(\"sampel proporsi tidak setuju:\", sample_survey.count(\"tidak setuju\") / len(sample_survey))",
   "execution_count": null,
   "outputs": []
  },
  {
   "cell_type": "code",
   "metadata": {
    "slideshow": {
     "slide_type": "skip"
    },
    "tags": [],
    "cell_id": "00058-284059b3-d8b2-4eb7-b5eb-d3e7179cf36d",
    "deepnote_to_be_reexecuted": false,
    "source_hash": "ff7efa67",
    "execution_start": 1635750646118,
    "execution_millis": 13,
    "output_cleared": true,
    "deepnote_cell_type": "code"
   },
   "source": "# create function to bootstrap sample and replicate",
   "execution_count": null,
   "outputs": []
  },
  {
   "cell_type": "markdown",
   "source": "### Variabilitas Estimasi Titik\n\nKarena estimasi titik merupakan sebuah statistik dari data sampel, biasanya nilai estimasinya tidak persis sama dengan nilai parameter sebenarnya.\n\n```python\nrng = np.random.default_rng(111)\npop = rng.poisson(18, size=100000)\nsample = rng.choice(pop, size=100)\n```\n\nSelisih atau eror antara nilai estimasi dan parameter terdiri dari 2 aspek:\n* *Sampling error*<br>\n    Misalkan, sebuah estimasi dari satu sampel mungkin $1%$ lebih rendah, sedangkan estimasi sampel yang lain mungkin $3%$ lebih tinggi. Kita bisa mempertimbangkan **ukuran sampel** ($n$) untuk mengukur eror ini. \n* Bias<br>\n    Bias mendeksripsikan kesalahan sistematik atau kecenderungan *over-* atau *under-estimate* nilai parameter populasi. Contohnya, jika kita melakukan survey atas dukungan mereka terhadap pembangunan stadion kampus baru, kita mungkin mendapatkan bias dari redaksi pertanyaan seperti, \"Apakah Anda mendukung kampus Anda untuk mendanai pembangunan stadion baru?\".",
   "metadata": {
    "slideshow": {
     "slide_type": "slide"
    },
    "tags": [],
    "cell_id": "00059-06282cf4-ef1a-4287-b800-04f80358923e",
    "deepnote_cell_type": "markdown"
   }
  },
  {
   "cell_type": "code",
   "metadata": {
    "slideshow": {
     "slide_type": "skip"
    },
    "tags": [],
    "cell_id": "00060-91f97e3f-31c1-45f5-94d8-67d46efbbb9a",
    "deepnote_to_be_reexecuted": false,
    "source_hash": "bbc0740a",
    "execution_start": 1635750646124,
    "execution_millis": 38,
    "output_cleared": true,
    "deepnote_cell_type": "code"
   },
   "source": "rng = np.random.default_rng(111)\npop = rng.poisson(18, size=100000)\npop2 = rng.poisson(18.5, size=100000)\nsample = rng.choice(pop, size=100)\n\nprint(\"pop mean:\", pop.mean())\nprint(\"sample mean:\", sample.mean())\nprint(\"sample std:\", sample.std())\nprint(\"error in estimate:\", pop.mean() - sample.mean())\n\npop.std(), pop.std() / np.sqrt(len(sample))",
   "execution_count": null,
   "outputs": []
  },
  {
   "cell_type": "markdown",
   "source": "### Teorema Limit Pusat\n\nKadang satu simulasi pengambilan sampel tidak kurang meyakinkan apakah estimasi rata-rata populasi sudah sesuai. Oleh karena itu, kita bisa melakukan beberapa simulasi berulang kali menggunakan python.\n\nRata-rata sampel yang dihasilkan dari setiap simulasi yang dijalankan selanjutnya akan membentuk yang dinamakan dengan **_sampling distribution_**, yaitu distribusi dari ukuran statistik suatu data sampel. Kita juga bisa membuat visualisasi distribusi tersebut dalam bentuk histogram.\n\n<div align=\"middle\">\n<img src=\"../../assets/images/sampling-dist-10.png\">\n<img src=\"../../assets/images/sampling-dist-100.png\">\n</div>\n\n> *Sampling distributions are never obsered, but **we keep them in mind***.",
   "metadata": {
    "slideshow": {
     "slide_type": "slide"
    },
    "tags": [],
    "cell_id": "00061-761a7349-123e-480a-ab45-8bc4901145b1",
    "deepnote_cell_type": "markdown"
   }
  },
  {
   "cell_type": "markdown",
   "source": "Karakteristik dari distribusi sampel:\n* Ukuran pusat (*center*)<br>\n    Ukuran pusat yang dimaksud adalah rata-rata. Ingat bahwa akibat dari teorema limit pusat, maka sampel berdistribusi normal. Sehingga, pusat sampel sama dengan nilai estimasi nilai rata-rata sampel.\n* Ukuran persebaran (*spread*)<br>\n    Deviasi standar dari sampel yang dihasilkan. Biasanya, pada data sampel kita lebih sebut deviasi standar dengan istilah *standard error* yang dinotasikan dengan $SE$.\n* Bentuk distribusi<br>\n    Sudah jelas, akibat dari teorema limit pusat, maka bentuk kurva distribusi sampel yang dihasilkan menyerupai distribusi normal, yaitu simetris dan berbentuk seperti lonceng.",
   "metadata": {
    "slideshow": {
     "slide_type": "subslide"
    },
    "tags": [],
    "cell_id": "00062-69f2dd45-412b-4fda-8c93-df73b0328479",
    "deepnote_cell_type": "markdown"
   }
  },
  {
   "cell_type": "markdown",
   "source": "Jika kita tambah jumlah sampelnya, misalkan $n = 10000$, maka kita akan mendapatkan sebuah histogram yang menyerupai **distribusi normal** seperti di bawah ini.\n\n<div align=\"middle\">\n<img src=\"../../assets/images/sampling-dist-10k.png\">\n</div>\n\nTerlihat untuk $n=100$ dan $n=10000$, rata-rata sampel berkisar di angka 18 (sama dengan parameter populasi sebenarnya), kecuali untuk $n=10$ yang rata-ratanya sedikit di bawah angka 18. ***Central limit theorem*** menyatakan bahwa distribusi statistik dari suatu sampel yang diambil dari populasi secara **independen** dengan jumlah yang cukup banyak (secara relatif) akan mendekati distribusi normal.",
   "metadata": {
    "slideshow": {
     "slide_type": "subslide"
    },
    "tags": [],
    "cell_id": "00063-4a4f5812-997a-484c-a397-a75afe275be9",
    "deepnote_cell_type": "markdown"
   }
  },
  {
   "cell_type": "code",
   "metadata": {
    "slideshow": {
     "slide_type": "skip"
    },
    "tags": [],
    "cell_id": "00064-5fe754b6-61bf-44dc-9ee1-3c21e962464d",
    "deepnote_to_be_reexecuted": false,
    "source_hash": "e4b0ebef",
    "execution_start": 1635750944403,
    "execution_millis": 1,
    "output_cleared": true,
    "deepnote_cell_type": "code"
   },
   "source": "def plot_sampling_dist(size=(10, 10000, 5)):\n    rng = np.random.default_rng(111)\n    sample_means = []\n    for _ in range(size):\n        sample = rng.choice(pop, size=5, replace=True)\n        sample_means.append(sample.mean())\n\n    plt.hist(sample_means)\n    plt.axvline(np.mean(sample_means), c=\"skyblue\", linestyle=(0, (5, 5)))\n    plt.title(\"sample mean distribution with sample size of 5\")\n    plt.xlabel(\"Sample Mean\")\n    plt.ylabel(\"Frequency\")\n    plt.show()",
   "execution_count": null,
   "outputs": []
  },
  {
   "cell_type": "markdown",
   "source": "## Selang Kepercayaan\n\nSelain estimasi titik, cara untuk mengestimasi parameter dari sebuah populasi adalah dengan menggunakan **selang kepercayaan**. Jika estimasi titik adalah sebuah angka tunggal, maka dengan selang kepercayaan kita mendapatkan sebuah interval di mana parameter populasi tersebut berada di dalamnya.\n\nKenapa kita memerlukan selang kepercayaan dan tidak menggunakan titik estimasi saja?\n\n> Karena pada kenyataannya, kita lebih mempedulikan dan menghawatirkan **seberapa percaya** kita terhadap estimasi tersebut. Sehingga, kita lebih. nyaman untuk mengatakan, \"Kita percaya bahwa **95% kemungkinan** rata-rata tinggi orang indonesia berada pada **interval 150 cm sampai 185 cm**.\"",
   "metadata": {
    "slideshow": {
     "slide_type": "slide"
    },
    "tags": [],
    "cell_id": "00065-0c2f4c5c-ef70-4dd5-a109-39cd2bb961eb",
    "deepnote_cell_type": "markdown"
   }
  },
  {
   "cell_type": "markdown",
   "source": "Sebagai analogi, konsep estimasi titik layaknya mencoba menangkap ikan menggunakan tombak. Dengan analogi yang sama, selang kepercayaan layaknya mencoba menangkap ikan menggunakan jala. Jika ingin menangkap lebih banyak ikan, maka kita gunakan jala yang lebih besar.",
   "metadata": {
    "slideshow": {
     "slide_type": "notes"
    },
    "tags": [],
    "cell_id": "00066-6cce1133-a68e-4388-b28b-95025e140be6",
    "deepnote_cell_type": "markdown"
   }
  },
  {
   "cell_type": "markdown",
   "source": "<p style=\"text-align: center\"><b>Three-sigma rule of thumb</b></p>\n\n<div align=\"middle\">\n<img src=\"https://upload.wikimedia.org/wikipedia/commons/thumb/2/22/Empirical_rule_histogram.svg/900px-Empirical_rule_histogram.svg.png\" width=\"60%\">\n    <figcaption style=\"font-size: 10px\"><a href=\"https://en.wikipedia.org/wiki/68%E2%80%9395%E2%80%9399.7_rule\">Wikipedia</a></figcaption>\n</div>",
   "metadata": {
    "slideshow": {
     "slide_type": "subslide"
    },
    "tags": [],
    "cell_id": "00067-7935e67f-e0e5-46e4-ac99-ff772838da0b",
    "deepnote_cell_type": "markdown"
   }
  },
  {
   "cell_type": "markdown",
   "source": "Sebuah selang kepercayaan memiliki beberapa properti:\n* *Confidence level*<br>\n    Tingkat kepercayaan bukan merepresentasikan probabilitas, melainkan estimasi pada sampel yang dilakukan pengambilan beberapa kali 95% akan berada pada interval tersebut.\n* *Margin of error*\n    Besarnya ketakpastian dari estimasi titik dalam selang kepercayaan terhadap populasi sebenarnya.",
   "metadata": {
    "slideshow": {
     "slide_type": "subslide"
    },
    "tags": [],
    "cell_id": "00068-56fb9a23-27d1-490a-8942-fe48f7411a65",
    "deepnote_cell_type": "markdown"
   }
  },
  {
   "cell_type": "markdown",
   "source": "<div align=\"middle\">\n    <img src=\"../../assets/images/CI-example.png\" width=\"50%\">\n</div>",
   "metadata": {
    "slideshow": {
     "slide_type": "subslide"
    },
    "tags": [],
    "cell_id": "00069-51a8da1d-840f-4164-b35f-06146dd45cbf",
    "deepnote_cell_type": "markdown"
   }
  },
  {
   "cell_type": "markdown",
   "source": "*Margin of Error*\n\n$$\nMOE = \\text{z-score } \\cdot SE\n$$\n\n*Confidence Interval*\n\n$$\nCI = \\text{point estimate } \\pm MOE = \\text{point estimate } \\pm \\text{z-score } \\cdot SE\n$$\n\nPerhatikan bahwa $SE$ untuk masing-masing estimasi titik berbeda. Sebagai contoh, *standard error* untuk rata-rata dan proporsi secara berturut-turut adalah $\\frac{\\sigma}{\\sqrt{n}}$ dan $\\sqrt{\\frac{p(1-p)}{n}}$.\n\n<div align=\"middle\">\n    <img src=\"../../assets/images/ci-proportion.png\">\n</div>",
   "metadata": {
    "slideshow": {
     "slide_type": "subslide"
    },
    "tags": [],
    "cell_id": "00070-6753a327-74b1-406b-925a-a83a231cabdf",
    "deepnote_cell_type": "markdown"
   }
  },
  {
   "cell_type": "code",
   "metadata": {
    "slideshow": {
     "slide_type": "skip"
    },
    "tags": [],
    "cell_id": "00071-3735fc65-b534-4e09-b28a-877755ab0bea",
    "deepnote_to_be_reexecuted": false,
    "source_hash": "c46f84a7",
    "execution_start": 1635750944404,
    "execution_millis": 241,
    "output_cleared": true,
    "deepnote_cell_type": "code"
   },
   "source": "# CI proportion\nrng = np.random.default_rng(11)\nsample_size = 40\nz_score = 1.96\np = pop_survey.count(\"setuju\") / len(pop_survey)\nCIs = []\n\nfor _ in range(25):\n    sample_survey = rng.choice(pop_survey, size=sample_size).tolist()\n    p_hat = sample_survey.count(\"setuju\") / len(sample_survey)\n    SE = np.sqrt(p_hat*(1-p_hat) / sample_size)\n    CI = ((p_hat - z_score*SE, p_hat + z_score*SE), p_hat)\n    CIs.append(CI)\n\nfor idx, ci in enumerate(CIs):\n    if (ci[0][0] > p) or (ci[0][1] < p):\n        color=\"red\"\n    else:\n        color=\"dodgerblue\"\n    plt.plot(ci[0], [idx+1]*len(ci[0]), c=color)\n    plt.plot(ci[1], idx+1, marker=\".\", c=color)\nplt.axvline(p, linestyle=(0, (5, 5)), c=\"gray\")\nplt.axvline(p, linestyle=(0, (5, 5)), c=\"gray\")\nplt.title(\"CI for each sample proportion with 95% confidence level\")\nplt.xlabel(\"proportion\")\nplt.yticks([])\nplt.show()",
   "execution_count": null,
   "outputs": []
  },
  {
   "cell_type": "code",
   "metadata": {
    "slideshow": {
     "slide_type": "skip"
    },
    "tags": [],
    "cell_id": "00072-e433cacd-becd-4a1d-baa8-e278bc82d422",
    "deepnote_to_be_reexecuted": false,
    "source_hash": "3e59e969",
    "execution_start": 1635750944648,
    "execution_millis": 5,
    "output_cleared": true,
    "deepnote_cell_type": "code"
   },
   "source": "# CI for sample mean",
   "execution_count": null,
   "outputs": []
  },
  {
   "cell_type": "markdown",
   "source": "> **Kuis:**\n>\n> Misalkan diketahui $88.7\\%$ dari 1000 sampel acak warga Amerika menyatakan setuju terhadap penyebaran penggunaan tenaga surya.\n> 1. Tentukan selang kepercayaan dari estimasi proporsi tersebut dengan tingkat kepercayaan 95%!\n> 2. Tentukan *margin of error* dari selang kepercayaan tersebut!\n> 3. Buatlah sebuah fungsi untuk menentukan selang kepercayaan untuk rata-rata dan proporsi!",
   "metadata": {
    "slideshow": {
     "slide_type": "slide"
    },
    "tags": [],
    "cell_id": "00073-ff7c6cf2-558c-4260-a897-9aafa8a0b746",
    "deepnote_cell_type": "markdown"
   }
  },
  {
   "cell_type": "code",
   "source": "# KETIK DI SINI",
   "metadata": {
    "tags": [],
    "cell_id": "00075-458036fd-ca3a-41a8-a04d-55df351b50b8",
    "output_cleared": true,
    "deepnote_cell_type": "code"
   },
   "outputs": [],
   "execution_count": null
  },
  {
   "cell_type": "markdown",
   "source": "## Uji Hipotesis\n\nSebagai seorang data scientist, sangat penting untuk memiliki hipotesis awal saat mulai menganalisis data. Ini membantu kita untuk menentukan arah analisis yang akan ditempuh. Contoh hipotesis seperti \"*data scientist lebih menyukai Python dibandingkan R*\" atau \"*kebanyakan orang lebih cenderung berpindah dari satu halaman ke halaman lainnya dalam sebuah situs jika kita memunculkan fitur \"pop-up iklan\" kecil yang mengganggu*\".\n\nPengujian hipotesis dilakukan dengan cara mengukur seberapa **\"masuk akal\"** data sampel (observasi) yang digunakan, dengan mengasumsikan hipotesis tersebut **\"benar\"**, sehingga hipotesis juga berlaku untuk seluruh populasi.",
   "metadata": {
    "slideshow": {
     "slide_type": "slide"
    },
    "tags": [],
    "cell_id": "00074-46f81f20-24b6-41a9-bba1-8131f66d6803",
    "deepnote_cell_type": "markdown"
   }
  },
  {
   "cell_type": "markdown",
   "source": "Hipotesis yang sedang kita uji tersebut biasa disebut dengan istilah **hipotesis null** (*null hypothesis*). Sebagai contoh, mari kita lihat peta Pennsylvania dan Ohio di bawah ini. Dikarenakan kondisi geografis yang berdekatan, kita bisa anggap distribusi probabilitas dari data pemungutan suara kedua wilayah ini sama.\n\n<div align=\"middle\">\n    <img src=\"../../assets/images/pa-oh-voting.png\" width=\"50%\">\n</div>\n\nBagaimana kita bisa menguji hipotesis tersebut?",
   "metadata": {
    "slideshow": {
     "slide_type": "subslide"
    },
    "tags": [],
    "cell_id": "00075-3122f8b6-31ed-4bc6-9362-ecbc24cc72c7",
    "deepnote_cell_type": "markdown"
   }
  },
  {
   "cell_type": "markdown",
   "source": "Kita mungkin tertarik untuk melihat statistik berikut.\n\n|      | PA | OH | perbedaan PA - OH |\n| ---- | :-: | :-: | :-: |\n| mean | 45.5% | 42.5% | 1.2% |\n| median | 44.0% | 43.7% | 0.4% |\n| deviasi standar | 9.8% | 9.9% | -0.1% |\n\nTabel di atas mengindikasikan *mean* dan *median* dari kedua daerah tersebut sangat mirip, bahkan deviasi standarnya sangat mirip. Apakah cukup dengan menggunakan tabel di atas lalu kita katakan hipotesis kita benar?",
   "metadata": {
    "slideshow": {
     "slide_type": "subslide"
    },
    "tags": [],
    "cell_id": "00076-d91bf424-fa27-4f63-b53c-17f740d4749a",
    "deepnote_cell_type": "markdown"
   }
  },
  {
   "cell_type": "markdown",
   "source": "Secara lebih terstruktur, dalam uji hipotesis, kita definisikan 2 jenis hipotesis yaitu hipotesis **null** dan hipotesis **alternatif**. Kedua hipotesis ini adalah 2 hipotesis yang saling bertolak belakang. Pada contoh kasus sebelumnya, kita bisa bisa seperti berikut:\n\n$H_0$ : distribusi data voting pada negara bagian Ohio dan Pennsylvania adalah sama<br>\n$H_A$ : distribusi data voting pada negara bagian Ohio dan Pennsylvania tidak sama\n\nPada prinsipnya:\n* Hipotesis *null* ($H_0$) merepresentasikan perspektif skeptis atau perspektif \"tidak ada perbedaan\". Hipotesis ini menganggap **suatu kejadian yang terjadi hanyalah akibat dari fenomena acak (kebetulan)**.\n* Hipotesis alternatif ($H_A$ atau $H_1$) merepresentasikan perspektif atau pendapat yang lebih kuat atau baru. Kebalikan dari $H_0$, hipotesis ini menganggap **suatu kejadian memang terjadi bukan karena kebetulan (dapat dibuktikan)**.",
   "metadata": {
    "slideshow": {
     "slide_type": "subslide"
    },
    "tags": [],
    "cell_id": "00077-627a87b5-3fae-49c1-9e2d-6ebfb06c9c02",
    "deepnote_cell_type": "markdown"
   }
  },
  {
   "cell_type": "markdown",
   "source": "<div align=\"middle\">\n<img src=\"../../assets/images/null-hypothesis.png\" width=\"75%\">\n</div>",
   "metadata": {
    "slideshow": {
     "slide_type": "subslide"
    },
    "tags": [],
    "cell_id": "00078-abbf2948-a7bd-4690-ac8c-efd48d4a1318",
    "deepnote_cell_type": "markdown"
   }
  },
  {
   "cell_type": "markdown",
   "source": "Contoh kasus lain, kita akan gunakan data sampel hasil survey yang dilakukan oleh Hans Rosling tentang kesadaran publik pada vaksinasi terhadap anak umur 1 tahun yang diajukan kepada responden mahasiswa.\n\n```python\nvaccine = pd.read_csv(\"data/rosling_responses.csv\")\nvaccine_children = \n```\n\nPertanyaan yang diajukan pada survey:\n> Berapa banyak dari anak-anak berusia 1 tahun di dunia saat ini yang telah divaksinasi terhadap suatu penyakit?\n\n<div align=\"middle\">\n<img src=\"../../assets/images/hans-rosling.jpeg\" width=\"50%\">\n</div>",
   "metadata": {
    "slideshow": {
     "slide_type": "slide"
    },
    "tags": [],
    "cell_id": "00079-4059ebb2-e90a-48b6-b958-81cb6ed7122a",
    "deepnote_cell_type": "markdown"
   }
  },
  {
   "cell_type": "markdown",
   "source": "Jawaban yang benar adalah **80% dari anak-anak berusia 1 tahun**. Proporsi responden keseluruhan yang menjawab proporsi yang benar (80%) adalah $33.3\\%$. Angka yang cukup kecil mengindikasikan sebagian besar publik tidak tahu perkembangan kesehatan publik sekarang, terutama tingkat vaksinasi pada anak umur 1 tahun.\n\nSedangkan, pada data sampel kita akan lihat bahwa hanya sebesar $24\\%$ responden yang menebak dengan benar. Karena perbedaan ini, kita ingin menguji hipotesis ini:\n> Setelah kita tahu data tersebut, apakah data tersebut cukup membuktikan bahwa sebenarnya proporsi pada populasi mahasiswa yang menjawab benar berbeda dan tidak sama dengan $33.3\\%$?",
   "metadata": {
    "slideshow": {
     "slide_type": "subslide"
    },
    "tags": [],
    "cell_id": "00080-5fa31a59-f6a1-4b55-80d6-e0eac3e72270",
    "deepnote_cell_type": "markdown"
   }
  },
  {
   "cell_type": "markdown",
   "source": "Salah satu cara untuk menguji hipotesis adalah menggunakan selang kepercayaan. Sesuai dengan kasusnya, kita gunakan estimasi statistik proporsi.\n\n$H_0$: $p = 0.33$<br>\n$H_1$: $p \\neq 0.33$\n\nLangkah-langkahnya adalah:\n\n1. Hitung estimasi proporsi menggunakan 50 data sampel (haruslah $24\\%$)\n2. Hitung eror standar proporsi\n3. Hitung *margin of error* untuk tingkat kepercayaan 95% (*z-score* $= 1.96$)\n4. Tentukan selang kepercayaannya\n\nJika ternyata $p_0$ (proporsi sampel pada $H_0$) termasuk di dalam interval kepercayaan, kita akan terima $H_0$. Sebaliknya, jka $p_0$ tidak berada dalam interval kepercayaan, kita bisa tolak $H_0$.",
   "metadata": {
    "slideshow": {
     "slide_type": "subslide"
    },
    "tags": [],
    "cell_id": "00081-bc4bdea4-3794-435c-a1d0-5ab8837ded0c",
    "deepnote_cell_type": "markdown"
   }
  },
  {
   "cell_type": "code",
   "metadata": {
    "slideshow": {
     "slide_type": "skip"
    },
    "tags": [],
    "cell_id": "00082-577cf06c-e86e-4644-b8e7-16a3f4c8f17f",
    "deepnote_to_be_reexecuted": false,
    "source_hash": "c4619e20",
    "execution_start": 1635751034674,
    "execution_millis": 144,
    "output_cleared": true,
    "deepnote_cell_type": "code"
   },
   "source": "df = pd.read_csv(\"../../data/rosling_responses.csv\")\nprint(df.sample(5))\ndf_vaccination = df[df.question.str.endswith(\"vaccination\")]\n\np_hat = df_vaccination.response.value_counts(normalize=True)[\"correct\"]\nprint(\"sample proportion:\", p_hat)\n\nSE = round(np.sqrt((p_hat * (1-p_hat)) / len(df_vaccination)), 2)\nprint(\"standard error:\", SE)\n\nz_score = 1.96\nMOE = round(z_score * SE, 3)\nprint(\"margin of error:\", MOE)\n\nci_hi, ci_lo = p_hat + MOE, p_hat - MOE\nprint(\"The 95% confidence interval is between {}% and {}% with margin of error of {}%\".format(\n    ci_lo*100, ci_hi*100, MOE*100\n))",
   "execution_count": null,
   "outputs": []
  },
  {
   "cell_type": "markdown",
   "source": "> **Kuis:**\n>\n> Rosling juga menanyakan pertanyaan lain kepada mahasiswa: *Jika terdapat 2 milyar anak berusia 0-15 tahun per hari ini, berapa banyak jumlah anak-anak pada tahun 2100 menurut PBB?*\n>\n> Secara keseluruhan, terdapat $33.3%$ responden yang berhasil menjawab dengan benar (2 milyar). Dengan menggunakan data sampel `rosling_response.csv`:\n> 1. Susunlah hipotesis yang akan diuji, baik $H_0$ ataupun $H_1$!\n> 2. Berapa proporsi dari sampel yang berhasil menjawab pertanyaan tersebut dengan benar?\n> 3. Dengan menggunakan proporsi sample tersebut, tentukan selang kepercayaan pada tingkat 95% untuk proporsi tersebut!\n> 4. Kesimpulan apa yang bisa diambil?",
   "metadata": {
    "slideshow": {
     "slide_type": "slide"
    },
    "tags": [],
    "cell_id": "00083-92c80021-ecb9-4b84-86f9-074185920f78",
    "deepnote_cell_type": "markdown"
   }
  },
  {
   "cell_type": "code",
   "source": "# KETIK DI SINI",
   "metadata": {
    "tags": [],
    "cell_id": "00086-7a21d4c7-c431-4a57-a6d5-c6c0e535c3fb",
    "output_cleared": true,
    "deepnote_cell_type": "code"
   },
   "outputs": [],
   "execution_count": null
  },
  {
   "cell_type": "markdown",
   "source": "### Tipe Kesalahan pada Uji Hipotesis\n\nDalam melakukan uji hipotesis, kita bisa saja salah dalam membuat kesimpulan berdasarkan data.\n\n<div align=\"middle\">\n<img src=\"../../assets/images/hypothesis-test-error.png\" width=\"50%\">\n</div>\n\nSebagai contoh, dalam sebuah sistem pengadilan, terdakwa yang **sebenarnya tidak bersalah** bisa dijatuhi **hukuman** dan terdakwa yang **sebenarnya bersalah** bisa dinyatakan **bebas** atau tidak bersalah. Menurut tabel di atas, jika pengadilan menjatuhi hukuman pada terdakwa padahal dia sebenarnya tidak bersalah, maka pengadilan sudah membuat membuat kesalahan tipe I.\n\n> Perlu diperhatikan bahwa kesalahan tipe 1 (*type 1 error*) terjadi jika kita telah **menolak $H_0$**.",
   "metadata": {
    "slideshow": {
     "slide_type": "slide"
    },
    "tags": [],
    "cell_id": "00084-e9e30198-9d7a-4a1f-ad58-b7ec250bb338",
    "deepnote_cell_type": "markdown"
   }
  },
  {
   "cell_type": "markdown",
   "source": "Ingat bahwa selang kepercayaan pada tingkat 95% memiliki eror ketika estimasi titik yang didapat diluar $1.96$ *standard error* dari parameter populasi, yaitu sebesar 5% ($2.5\\%$ pada masing-masing ujung kurva).\n\n<div align=\"middle\">\n    <img src=\"../../assets/images/95-interval.jpeg\" width=\"50%\">\n</div>\n\nKita bisa anggap untuk selang kepercayaan 95% ekuivalen dengan **tingkat signifikansi**, yang dinotasikan dengan $\\alpha$, sebesar $0.005$.",
   "metadata": {
    "slideshow": {
     "slide_type": "subslide"
    },
    "tags": [],
    "cell_id": "00085-bb4844bf-8a32-45fc-8af7-10668f533769",
    "deepnote_cell_type": "markdown"
   }
  },
  {
   "cell_type": "markdown",
   "source": "### *p-value*\n\nUji hipotesis menggunakan selang kepercayaan tidak selalu berhasil. Kita tidak bisa menggunakan selang kepercayaan untuk menguji hipotesis kesamaan beberapa proporsi sekaligus yang membandingkan banyak selang kepercayaan secara bersamaan. Oleh karena itu, uji hipotesis statistik biasanya menggunakan *p-value*.\n\n***P-value* adalah sebuah nilai yang menguantifikasi *strengh of evidence* dari data observasi/sampel melawan hipotesis null dan mendukung hipotesis alternatif**. Nilai tersebut merepresentasikan probabilitas data sampel setidaknya mendukung hipotesis alternatif dengan **asumsi hipotesis null benar**.",
   "metadata": {
    "slideshow": {
     "slide_type": "slide"
    },
    "tags": [],
    "cell_id": "00086-838d0b9d-b924-44e1-8ca3-f58c82ef6d2f",
    "deepnote_cell_type": "markdown"
   }
  },
  {
   "cell_type": "markdown",
   "source": "Contoh:\n\nSebuah lembaga riset di Amerika melakukan survey acak kepada 1000 warga Amerika apakah mereka mendukung peningkatan penggunaan batu bara untuk produksi energi. Kita ingin menguji hipotesis apakah mayoritas warga Amerika mendukung atau bahkan menolak penggunaan batu bara tersebut. Jika ternyata hasil survey ditemukan sebanyak $37\\%$ dari responden setujua,\n* apakah angka tersebut merepresentasikan keadaan sebenarnya atau hanya kebetulan saja?\n* Berapa *p-value* dari kasus ini?\n* Kesimpulan apa yang bisa diambil dari *p-value* tersebut?",
   "metadata": {
    "slideshow": {
     "slide_type": "subslide"
    },
    "tags": [],
    "cell_id": "00087-06605cc3-690d-4e17-9e9e-a7a92de1ca22",
    "deepnote_cell_type": "markdown"
   }
  },
  {
   "cell_type": "markdown",
   "source": "Kita bisa formulasikan menjadi berikut.\n\n$H_0: p = 0.5$<br>\n$H_A: p = 0.5$\n\nUntuk sampel,\n\n$n = 1000$<br>\n$\\hat{p} = 0.37$\n\nDengan mengasumsikan $H_0$ benar, maka\n\n$$\nSE = \\sqrt{\\frac{p \\cdot (1-p)}{n}} = \\sqrt{\\frac{0.5 \\cdot (1 - 0.5)}{1000}} = 0.016\n$$\n\n> Hitung *standard error* di atas menggunakan Python.",
   "metadata": {
    "slideshow": {
     "slide_type": "subslide"
    },
    "tags": [],
    "cell_id": "00088-abeadee6-9a32-453e-aa2a-b1f93a62bba1",
    "deepnote_cell_type": "markdown"
   }
  },
  {
   "cell_type": "markdown",
   "source": "Dengan mengasumsikan hipotesis null benar, kita akan dapatkan distribusi sampel proporsi seperti berikut. Jenis distribusi ini disebut juga dengan **_null distribution_**.\n\n<img src=\"../../assets/images/null-dist.png\">",
   "metadata": {
    "slideshow": {
     "slide_type": "subslide"
    },
    "tags": [],
    "cell_id": "00089-a0bceed4-9b33-4ebe-abad-333729f0f2a9",
    "deepnote_cell_type": "markdown"
   }
  },
  {
   "cell_type": "markdown",
   "source": "Ingat bahwa *p-value* merepresentasikan probabilitas memperoleh hasil yang **setidaknya sama ekstremnya** dengan hasil yang kita amati, dalam hal ini yaitu $0.37$. Dari grafik sebelumnya terlihat bahwa proporsi sampel sangat jauh dari *standard error*, sehingga kita curigai proporsi sampel lain \"se-ekstrem\" itu sangatlah kecil.\n\nUntuk memudahkan, kita bisa normalisasi nilai $\\hat{p}$ dengan rata-rata $p$ dan deviasi standar $SE$ dengan menghitung nilai *z-score*.\n\n$$\nZ = \\frac{0.37 - 0.5}{0.016} = -8.125\n$$\n\nLalu kita gunakan `scipy.stats.norm.cdf`\n\n```python\np_value = 2 * scipy.stats.norm.cdf(-8.125)    # 4.47362412888821e-16\n```\n\nKarena *p-value* kurang dari $\\alpha$ ($\\alpha = 0.5$), ini berarti data 1000 sampel tersebut memberikan cukup bukti untuk menolak $H_0$. Sehingga, kita bisa anggap mayoritas warga Amerika menentang peningkatan penggunaan batu bata untuk produksi energi.",
   "metadata": {
    "slideshow": {
     "slide_type": "subslide"
    },
    "tags": [],
    "cell_id": "00090-cd8b19e4-29c8-4d94-879d-0e32474fff6c",
    "deepnote_cell_type": "markdown"
   }
  },
  {
   "cell_type": "code",
   "metadata": {
    "slideshow": {
     "slide_type": "skip"
    },
    "tags": [],
    "cell_id": "00091-2bea2b0e-c97f-4884-8a0b-b43b3600f9dd",
    "deepnote_to_be_reexecuted": false,
    "source_hash": "8d2b7308",
    "execution_start": 1635751034674,
    "execution_millis": 1,
    "output_cleared": true,
    "deepnote_cell_type": "code"
   },
   "source": "# statsmodels.stats.proportion.proportion_ztest -> one-sided (larger, smaller) and two-sided",
   "execution_count": null,
   "outputs": []
  },
  {
   "cell_type": "code",
   "metadata": {
    "slideshow": {
     "slide_type": "skip"
    },
    "tags": [],
    "cell_id": "00092-83a429ef-10ae-46d9-9f4a-4471c5be7807",
    "deepnote_to_be_reexecuted": false,
    "source_hash": "3a41cb64",
    "execution_start": 1635751034675,
    "execution_millis": 145,
    "output_cleared": true,
    "deepnote_cell_type": "code"
   },
   "source": "import scipy.stats\n\nprint(2*scipy.stats.norm.cdf(.37, loc=.5, scale=.016))\nprint(1-scipy.stats.norm.cdf(.63, loc=.5, scale=.016), 1-scipy.stats.norm.cdf(8.125))\nprint((.63-.5) / .016)",
   "execution_count": null,
   "outputs": []
  },
  {
   "cell_type": "markdown",
   "source": "<a style='text-decoration:none;line-height:16px;display:flex;color:#5B5B62;padding:10px;justify-content:end;' href='https://deepnote.com?utm_source=created-in-deepnote-cell&projectId=02c1c34a-e615-444a-9d35-b462281517d6' target=\"_blank\">\n<img alt='Created in deepnote.com' style='display:inline;max-height:16px;margin:0px;margin-right:7.5px;' src='data:image/svg+xml;base64,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' > </img>\nCreated in <span style='font-weight:600;margin-left:4px;'>Deepnote</span></a>",
   "metadata": {
    "tags": [],
    "created_in_deepnote_cell": true,
    "deepnote_cell_type": "markdown"
   }
  }
 ],
 "nbformat": 4,
 "nbformat_minor": 5,
 "metadata": {
  "kernelspec": {
   "display_name": "Python 3 (ipykernel)",
   "language": "python",
   "name": "python3"
  },
  "language_info": {
   "codemirror_mode": {
    "name": "ipython",
    "version": 3
   },
   "file_extension": ".py",
   "mimetype": "text/x-python",
   "name": "python",
   "nbconvert_exporter": "python",
   "pygments_lexer": "ipython3",
   "version": "3.9.5"
  },
  "deepnote_notebook_id": "c2638acd-9aa9-44aa-8ff6-ad4cef7c249d",
  "deepnote": {},
  "deepnote_execution_queue": []
 }
}