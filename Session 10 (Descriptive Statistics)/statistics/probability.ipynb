{
 "cells": [
  {
   "cell_type": "markdown",
   "source": "# Probabilitas\n\nSalah satu konsep statistika yang kita temui dalam sehari-hari adalah probabilitas (*probability*). Probabilitas adalah suatu ukuran yang menyatakan kemugkinan suatu kejadian terjadi atau tidak. Dengan kata lain, probabilitas merupakan suatu alat untuk mengukur suatu ketidakpastian.",
   "metadata": {
    "slideshow": {
     "slide_type": "slide"
    },
    "tags": [],
    "cell_id": "00000-c13fc363-21f8-433b-8d6c-fd996e49a76e",
    "deepnote_cell_type": "markdown"
   }
  },
  {
   "cell_type": "markdown",
   "source": "## Percobaan, Ruang Sampel, dan Peristiwa\n\n<img src=\"../../assets/images/koin.jpeg\" width=\"40%\">\n\nMisalkan kita melempar koin di atas. Kemungkinan hasil yang kita peroleh adalah **hewan** atau **angka** yang menghadap ke atas.\n\nPeristiwa pelemparan koin tersebut dalam statistika dikenal dengan **eksperimen/percobaan** (*experiment*), sedangkan semua kemungkinan hasil (*outcome*) dari sebuah eksperimen disebut dengan **ruang sampel** (*sample space*). **Kejadian** (*event*) adalah himpunan bagian dari ruang sampel yang kita hitung probabilitasnya.",
   "metadata": {
    "slideshow": {
     "slide_type": "slide"
    },
    "tags": [],
    "cell_id": "00001-a50c8757-15c4-4115-a1c1-07d8a86c1063",
    "deepnote_cell_type": "markdown"
   }
  },
  {
   "cell_type": "markdown",
   "source": "Misalkan kita ingin menghitung kemungkinan koin yang dilempar berakhir dengan angka yang menghadap ke atas.\n\n> **event**: koin mendarat dengan sisi angka menghadap ke atas\n\nProbabilitasnya untuk mendapatkan sisi angka dinotasikan dengan $P(A)$, dengan $A$ adalah periswtiwa koin mendarat dengan sisi angka, adalah\n\n$$\nP(A) = \\frac{\\text{Jumlah kemungkinan sesuai kondisi}}{\\text{Jumlah semua kemungkinan yang mungkin terjadi}} = \\frac{1}{2}\n$$",
   "metadata": {
    "slideshow": {
     "slide_type": "subslide"
    },
    "tags": [],
    "cell_id": "00002-b3bae5ee-a94a-4989-a484-5c7e129557c8",
    "deepnote_cell_type": "markdown"
   }
  },
  {
   "cell_type": "markdown",
   "source": "Dengan python,",
   "metadata": {
    "slideshow": {
     "slide_type": "subslide"
    },
    "tags": [],
    "cell_id": "00003-4830947c-636d-4c0b-b783-5a9cb4217745",
    "deepnote_cell_type": "markdown"
   }
  },
  {
   "cell_type": "code",
   "metadata": {
    "cell_id": "00004-29a19924-de74-47d1-b76c-b42be3a37177",
    "deepnote_to_be_reexecuted": false,
    "source_hash": "6e7b548a",
    "execution_start": 1635750380894,
    "execution_millis": 19,
    "output_cleared": true,
    "deepnote_cell_type": "code"
   },
   "source": "coin_sample_space = [\"H\", \"A\"]\n\nnum_all_possible = len(coin_sample_space)\nnum_meet_condition = coin_sample_space.count(\"A\")\n\nP_A = num_meet_condition / num_all_possible\nprint(\"probability of getting angka:\", P_A)",
   "execution_count": null,
   "outputs": []
  },
  {
   "cell_type": "markdown",
   "source": "Sekarang, misalkan kita melempar sebuah dadu 6 sisi.\n\n<img src=\"../../assets/images/dice.png\" width=\"30%\">\n\n> Berapa probabilitas dadu mendarat dengan sisi 3 menghadap atas?",
   "metadata": {
    "slideshow": {
     "slide_type": "slide"
    },
    "tags": [],
    "cell_id": "00005-cd270178-a9be-4885-b402-46f66aa7d2c7",
    "deepnote_cell_type": "markdown"
   }
  },
  {
   "cell_type": "code",
   "metadata": {
    "cell_id": "00006-3649eecd-197b-425e-93d2-00493eea3773",
    "deepnote_to_be_reexecuted": false,
    "source_hash": "7e114120",
    "execution_start": 1635750380911,
    "execution_millis": 0,
    "output_cleared": true,
    "deepnote_cell_type": "code"
   },
   "source": "dice_sample_space = list(range(1, 7))\n\nnum_all_possible = len(dice_sample_space)\nnum_meet_condition = dice_sample_space.count(3)\n\nP_3 = num_meet_condition / num_all_possible\nprint(\"probability of getting 3:\", P_3)",
   "execution_count": null,
   "outputs": []
  },
  {
   "cell_type": "markdown",
   "source": "> **Kuis:**\n>\n> 1. Jika kita melempar sebuah koin 2 kali, hitung probabilitas kita mendapati koin dengan sisi hewan secara berturut-turut pada setiap pelemparan!\n> 2. Jika kita melempar 2 buah dadu sebanyak 1 kali, hitung probabilitas jumlah kedua hasil lemparan dadu tersebut sama dengan 6!\n> 3. Misalkan dalam suatu karung terdapat 4 kelereng berwarna merah, 3 kelereng berwarna kuning, dan 5 kelereng berwarna biru. Hitung probabilitas kita mengambil 1 kelereng selain warna biru atau selain warna merah!",
   "metadata": {
    "slideshow": {
     "slide_type": "slide"
    },
    "tags": [],
    "cell_id": "00007-ee024ed7-e747-451a-8944-3b1aab55f70c",
    "deepnote_cell_type": "markdown"
   }
  },
  {
   "cell_type": "code",
   "metadata": {
    "cell_id": "00008-05c7729b-1fa9-472a-9fab-425a320f99d8",
    "deepnote_to_be_reexecuted": false,
    "source_hash": "739de6c1",
    "execution_start": 1635750380911,
    "execution_millis": 2,
    "output_cleared": true,
    "deepnote_cell_type": "code"
   },
   "source": "# KETIK DI SINI (1)\n\n# KETIK DI SINI (2)\n\n# KETIK DI SINI (3)",
   "execution_count": null,
   "outputs": []
  },
  {
   "cell_type": "markdown",
   "source": "Sekarang, misalkan kita mengambil secara acak sebuah kartu.\n\n<img src=\"../../assets/images/cards.jpeg\">\n\nKita tahu bahwa dalam sebuah dek kartu, terdapat 4 jenis kelompok yang masing-masing terdiri dari 13 kartu. Sehingga, total kartu adalah 52 (tanpa mempedulikan joker). Maka, probabilitas kartu yang kita ambil adalah As dan termasuk dalam kelompok hati adalah",
   "metadata": {
    "slideshow": {
     "slide_type": "slide"
    },
    "tags": [],
    "cell_id": "00009-2ca61a9a-a1ac-47c4-aadd-377c4f35e187",
    "deepnote_cell_type": "markdown"
   }
  },
  {
   "cell_type": "code",
   "metadata": {
    "cell_id": "00010-70a0690d-0d2a-4409-8ceb-a1ddedf9b393",
    "deepnote_to_be_reexecuted": false,
    "source_hash": "9fe486b4",
    "execution_start": 1635750380912,
    "execution_millis": 3,
    "output_cleared": true,
    "deepnote_cell_type": "code"
   },
   "source": "cards_sample_space = {\"heart\": list(range(1, 14)), \"diamond\": list(range(1, 14)),\n                      \"spades\": list(range(1, 14)), \"clubs\": list(range(1, 14))}\ntotal_cards = sum(len(cards_sample_space[suit]) for suit in cards_sample_space.keys())\nP_As_heart = 1 / total_cards\nprint(\"P(As & heart) = \", P_As_heart)",
   "execution_count": null,
   "outputs": []
  },
  {
   "cell_type": "markdown",
   "source": "## Pengambilan Sampel **Dengan** atau **Tanpa** Pengembalian\n\nMisalkan kita ingin mengundang salah satu dari tim sales untuk rapat dengan klien. Tim sales terdiri dari list berikut.\n\n```python\nsalesteam = [\"Brian\", \"Paul\", \"Martha\", \"Agnes\"]\n```\n\nProbabilitas kita memilih `Agnes` untuk datang pada rapat tersebut adalah $\\frac{1}{4}$. Kita bisa mengambil sampel dalam Python dengan pustaka `random`.",
   "metadata": {
    "slideshow": {
     "slide_type": "slide"
    },
    "tags": [],
    "cell_id": "00011-7553c29e-e223-407a-9f20-0f3eddcb130b",
    "deepnote_cell_type": "markdown"
   }
  },
  {
   "cell_type": "code",
   "metadata": {
    "cell_id": "00012-361b3893-2e84-4a96-a695-e7315b52e857",
    "deepnote_to_be_reexecuted": false,
    "source_hash": "2bfb806b",
    "execution_start": 1635750380938,
    "execution_millis": 1,
    "output_cleared": true,
    "deepnote_cell_type": "code"
   },
   "source": "import random\n\nrandom.seed(11)\n\nsalesteam = [\"Brian\", \"Paul\", \"Martha\", \"Agnes\"]",
   "execution_count": null,
   "outputs": []
  },
  {
   "cell_type": "code",
   "metadata": {
    "cell_id": "00013-6f5a5b10-bbee-46dd-a290-ec156e943b72",
    "deepnote_to_be_reexecuted": false,
    "source_hash": "572a4896",
    "execution_start": 1635750380939,
    "execution_millis": 5,
    "output_cleared": true,
    "deepnote_cell_type": "code"
   },
   "source": "random.choice(salesteam)",
   "execution_count": null,
   "outputs": []
  },
  {
   "cell_type": "markdown",
   "source": "Misalkan ada beberapa klien baru yang meminta rapat di hari yang sama. Kita tidak bisa meminta `Agnes` karena ia sudah ditugaskan ke rapat lain. Maka, pilihan sampel kita semakin sedikit. Hal ini dikenal dengan **pengambilan sampel tanpa pengembalian**.\n\nPada python, kita bisa menggunakan `random.sample` dengan menyediakan `k`. Kita bisa masukkan `k=2` untuk menugaskan 2 orang dari tim sales ke 2 rapat, 3 untuk 3 rapat, dan seterusnya.",
   "metadata": {
    "slideshow": {
     "slide_type": "subslide"
    },
    "tags": [],
    "cell_id": "00014-4f14bf9f-8e10-47c6-8ddd-a4208a84308b",
    "deepnote_cell_type": "markdown"
   }
  },
  {
   "cell_type": "code",
   "metadata": {
    "cell_id": "00015-5d32ddde-9fea-4702-9690-eb8d7aa6abf3",
    "deepnote_to_be_reexecuted": false,
    "source_hash": "afbff5b9",
    "execution_start": 1635750380940,
    "execution_millis": 4,
    "output_cleared": true,
    "deepnote_cell_type": "code"
   },
   "source": "random.seed(11)\nprint(random.sample(salesteam, k=3))",
   "execution_count": null,
   "outputs": []
  },
  {
   "cell_type": "markdown",
   "source": "Jika ternyata rapat dengan klien lain diadakan di hari yang berbeda, maka kita bisa tugaskan `Agnes` kembali. Pengambilan sampel dengan skenario seperti ini disebut dengan **pengambilan sampel dengan pengembalian**, di mana sampel yang telah terpilih ada kemungkinan untuk terpilih kembali.",
   "metadata": {
    "slideshow": {
     "slide_type": "subslide"
    },
    "tags": [],
    "cell_id": "00016-5f000409-7141-41c5-bf97-969e49fad6f1",
    "deepnote_cell_type": "markdown"
   }
  },
  {
   "cell_type": "code",
   "metadata": {
    "cell_id": "00017-19baa47b-deb0-4759-9a5b-8f5b520f41fc",
    "deepnote_to_be_reexecuted": false,
    "source_hash": "24428ad0",
    "execution_start": 1635750380942,
    "execution_millis": 4,
    "output_cleared": true,
    "deepnote_cell_type": "code"
   },
   "source": "random.seed(1)\nrandom.choices(salesteam, k=3)",
   "execution_count": null,
   "outputs": []
  },
  {
   "cell_type": "markdown",
   "source": "## Peristiwa Independen dan Dependen\n\nDua peristiwa dikatakan **dependen** satu sama lain jika dan hanya jika mengetahui informasi tentang salah satu peristiwa membuat kita mengetahui informasi peristiwa lainnya. Jika dua peristiwa tidak memenuhi pernyataan tersebut, maka dua peristiwa tersebut dikatakan **independen**.\n\nUntuk 2 peristiwa A dan B yang independen, kita bisa menghitung probabilitas peristiwa A dan B terjadi dengan persamaan\n\n$$\nP(A, B) = P(A \\cap B) = P(A) \\cdot P(B)\n$$\n\nSedangkan, untuk 2 peristiwa dependen, kita gunakan persamaan\n\n$$\nP(A, B) = P(A \\cap B) = P(A|B) \\cdot P(B) = P(B|A) \\cdot P(A)\n$$",
   "metadata": {
    "slideshow": {
     "slide_type": "slide"
    },
    "tags": [],
    "cell_id": "00018-bbb00245-03f8-4f4a-929f-fbddfff8cdf3",
    "deepnote_cell_type": "markdown"
   }
  },
  {
   "cell_type": "markdown",
   "source": "### Contoh Kasus\n\nMisalkan kita melempar sebuah dadu bersisi 6 sebanyak 2 kali. Berapa probabilitas kedua pelemparan tersebut memunculkan angka 3?",
   "metadata": {
    "slideshow": {
     "slide_type": "subslide"
    },
    "tags": [],
    "cell_id": "00019-d022283a-d6a8-42e8-b244-814625e91c29",
    "deepnote_cell_type": "markdown"
   }
  },
  {
   "cell_type": "code",
   "metadata": {
    "cell_id": "00020-e26bed6d-7f02-4bc9-86ad-1e10d44be3cd",
    "deepnote_to_be_reexecuted": false,
    "source_hash": "c5751f1e",
    "execution_start": 1635750380945,
    "execution_millis": 13,
    "output_cleared": true,
    "deepnote_cell_type": "code"
   },
   "source": "first_dice_sample_space = list(range(1, 7))\nsecond_dice_sample_space = list(range(1, 7))\ntotal_dice_sample_space = [(i, j) for i in first_dice_sample_space for j in second_dice_sample_space]\nprint(\"sample space:\\n\", total_dice_sample_space)\nprint(\"length of total sample space:\", len(total_dice_sample_space))",
   "execution_count": null,
   "outputs": []
  },
  {
   "cell_type": "code",
   "metadata": {
    "slideshow": {
     "slide_type": "subslide"
    },
    "tags": [],
    "cell_id": "00021-d692868a-03ef-4b74-828d-a6da661e6556",
    "deepnote_to_be_reexecuted": false,
    "source_hash": "43592a5",
    "execution_start": 1635750380960,
    "execution_millis": 7,
    "output_cleared": true,
    "deepnote_cell_type": "code"
   },
   "source": "num_first_roll = 1\nnum_second_roll = 1\n\np_first = num_first_roll / len(first_dice_sample_space)\np_second = num_second_roll / len(second_dice_sample_space)\np_first_second = p_first * p_second\nprint(\"P(A) = \", p_first)\nprint(\"P(B) = \", p_second)\nprint(\"P(A, B) = \", p_first_second)",
   "execution_count": null,
   "outputs": []
  },
  {
   "cell_type": "markdown",
   "source": "Misalkan kita akan mengambil sebuah kelereng dari sebuah kantong yang berisi berbagai jenis kelereng seperti gambar di bawah ini.\n\n<div align=\"middle\">\n<img src=\"../../assets/images/marbles-in-bag.png\" width=\"30%\">\n</div>\n\nMisalkan pada pengambilan pertama terambil kelereng warna hijau (A). Berapa probabilitas terambilnya kelereng warna biru pada pengambilan kedua (B)?",
   "metadata": {
    "slideshow": {
     "slide_type": "slide"
    },
    "tags": [],
    "cell_id": "00022-b2caf60f-4334-4a57-aa65-ec69d4c74172",
    "deepnote_cell_type": "markdown"
   }
  },
  {
   "cell_type": "code",
   "metadata": {
    "slideshow": {
     "slide_type": "subslide"
    },
    "tags": [],
    "cell_id": "00023-7a0fdd10-c1db-4a1a-bf79-42188d881f5c",
    "deepnote_to_be_reexecuted": false,
    "source_hash": "f2f5f0b",
    "execution_start": 1635750380970,
    "execution_millis": 4,
    "output_cleared": true,
    "deepnote_cell_type": "code"
   },
   "source": "num_green_marble = 3\nnum_blue_marble = 5\nnum_marble_sample_space = 8\n\n# first draw happen\nnum_marble_sample_space -= 1\n\np_second = num_blue_marble / num_marble_sample_space\nprint(\"P(B) = \", p_second)",
   "execution_count": null,
   "outputs": []
  },
  {
   "cell_type": "markdown",
   "source": "## Aturan Penjumlahan dan Perkalian Probabilitas\n\nProbabilitas **rule of product** atau aturan perkalian biasanya digunakan untuk menentukan irisan (*intersection*) dari beberapa peristiwa. Aturan ini biasanya melibatkan peristiwa yang independen atau dependen. Jika dua peristiwa dikatakan dependen, maka digunakan probabilitas kondisional (*conditional probability*).\n\nSedangkan, probabilitas **rule of sum** atau aturan penjumlahan biasanya digunakan untuk menghitung gabungan (*union*) dari beberapa peristiwa. Aturan ini biasanya digunakan untuk menghitung peristiwa yang saling lepas (*mutually exclusive events*).\n\n$$\nP(A \\: \\text{atau} \\: B) = P(A \\cup B) = P(A) + P(B)\n$$\n\natau\n\n$$\nP(A \\: \\text{atau} \\: B) = P(A \\cup B) = P(A) + P(B) - P(A \\cap B)\n$$",
   "metadata": {
    "slideshow": {
     "slide_type": "slide"
    },
    "tags": [],
    "cell_id": "00024-0b189d4f-c2c0-4987-947a-8621069c6a85",
    "deepnote_cell_type": "markdown"
   }
  },
  {
   "cell_type": "markdown",
   "source": "## Probabilitas Kondisional\n\nProbabilitas kondisional digunakan ketika probabilitas suatu peristiwa terjadi dipengaruhi oleh peristiwa lainnya, atau dengan kata lain peristiwa yang dependen. Probabilitasnya dapat dihitung dengan\n\n$$\nP(A|B) = \\frac{P(A, B)}{P(B)} = \\frac{P(A \\cap B)}{P(B)}\n$$",
   "metadata": {
    "slideshow": {
     "slide_type": "slide"
    },
    "tags": [],
    "cell_id": "00025-352aea0c-82b3-4697-89a1-b7fd9f05cb4b",
    "deepnote_cell_type": "markdown"
   }
  },
  {
   "cell_type": "markdown",
   "source": "> **Kuis**\n>\n> Dalam sebuah keluarga dengan 2 anak, jika diasumsikan anak memiliki kemungkinan laki-laki atau perempuan dan jenis kelamin anak kedua tidak bergantung kepada jenis kelamin anak pertama:\n> 1. Berapakah probabilitas kedua anak tersebut berjenis kelamin laki-laki?\n> 2. Berapakah probabilitas jenis kelamin anak tersebut \"satu laki-laki dan satu perempuan\"?\n> 3. Berapakah probabilitas kedua anak tersebut berenis kelamin perempuan, jika ternyata anak pertama berjenis kelamin perempuan?\n> 4. Berapakah probabilitas kedua anka tersebut berjenis kelamin perempuan, jika ternyata salah satu di antaranya berjenis kelamin perempuan?",
   "metadata": {
    "slideshow": {
     "slide_type": "slide"
    },
    "tags": [],
    "cell_id": "00026-d3a901c8-8abc-414a-a18e-0e179ed1921d",
    "deepnote_cell_type": "markdown"
   }
  },
  {
   "cell_type": "code",
   "metadata": {
    "cell_id": "00027-d003213c-5eb8-4a4d-98f2-32cf9d29ebb3",
    "deepnote_to_be_reexecuted": false,
    "source_hash": "9801247",
    "execution_start": 1635750381019,
    "execution_millis": 0,
    "output_cleared": true,
    "deepnote_cell_type": "code"
   },
   "source": "# KETIK DI SINI",
   "execution_count": null,
   "outputs": []
  },
  {
   "cell_type": "markdown",
   "source": "<a style='text-decoration:none;line-height:16px;display:flex;color:#5B5B62;padding:10px;justify-content:end;' href='https://deepnote.com?utm_source=created-in-deepnote-cell&projectId=02c1c34a-e615-444a-9d35-b462281517d6' target=\"_blank\">\n<img alt='Created in deepnote.com' style='display:inline;max-height:16px;margin:0px;margin-right:7.5px;' src='data:image/svg+xml;base64,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' > </img>\nCreated in <span style='font-weight:600;margin-left:4px;'>Deepnote</span></a>",
   "metadata": {
    "tags": [],
    "created_in_deepnote_cell": true,
    "deepnote_cell_type": "markdown"
   }
  }
 ],
 "nbformat": 4,
 "nbformat_minor": 5,
 "metadata": {
  "kernelspec": {
   "display_name": "Python 3",
   "language": "python",
   "name": "python3"
  },
  "language_info": {
   "codemirror_mode": {
    "name": "ipython",
    "version": 3
   },
   "file_extension": ".py",
   "mimetype": "text/x-python",
   "name": "python",
   "nbconvert_exporter": "python",
   "pygments_lexer": "ipython3",
   "version": "3.9.4"
  },
  "deepnote_notebook_id": "d4df9c6f-f72c-41ad-beff-b953e26e0a17",
  "deepnote": {},
  "deepnote_execution_queue": []
 }
}