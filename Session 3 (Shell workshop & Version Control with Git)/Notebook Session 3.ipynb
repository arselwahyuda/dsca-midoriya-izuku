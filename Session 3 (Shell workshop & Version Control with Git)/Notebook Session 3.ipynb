{
 "cells": [
  {
   "cell_type": "code",
   "execution_count": 2,
   "id": "4fd93553-f8dc-41d2-bbab-07cdffb9a4b0",
   "metadata": {},
   "outputs": [
    {
     "name": "stdout",
     "output_type": "stream",
     "text": [
      "Hello word, My name is Arsel Wahyuda\n"
     ]
    }
   ],
   "source": [
    "print(\"Hello word, My name is Arsel Wahyuda\")"
   ]
  },
  {
   "cell_type": "code",
   "execution_count": 10,
   "id": "211e642d-787e-44a2-b18c-d09187a882e5",
   "metadata": {},
   "outputs": [
    {
     "name": "stdout",
     "output_type": "stream",
     "text": [
      "brown\n",
      "james\n",
      "jackson\n",
      "lee\n"
     ]
    }
   ],
   "source": [
    "# Control Flow & Looping\n",
    "# Apa itu DRY: ? (search di google)\n",
    "\n",
    "names = [\"brown\", \"james\", \"jackson\", \"lee\", \"johnson\", \"michael\", \"stephany\", \"Arsel\"]\n",
    "print(names[0])\n",
    "print(names[1])\n",
    "print(names[2])\n",
    "print(names[3])"
   ]
  },
  {
   "cell_type": "code",
   "execution_count": null,
   "id": "cce1a841-70c9-4218-aa78-f584ecc6558a",
   "metadata": {},
   "outputs": [],
   "source": [
    "# Penggunaan while \n",
    "(untuk infinite loop/terulang secara terus-menerus)\n",
    "\n",
    "while condition:\n",
    "    "
   ]
  },
  {
   "cell_type": "code",
   "execution_count": 11,
   "id": "40efef45-af0c-4859-a37c-4ff6ff476465",
   "metadata": {},
   "outputs": [
    {
     "name": "stdout",
     "output_type": "stream",
     "text": [
      "starting from index: 0\n",
      "current index: 0\n",
      "names [0]: brown\n",
      "index after: 1\n",
      "current index: 1\n",
      "names [1]: james\n",
      "index after: 2\n",
      "current index: 2\n",
      "names [2]: jackson\n",
      "index after: 3\n",
      "current index: 3\n",
      "names [3]: lee\n",
      "index after: 4\n",
      "current index: 4\n",
      "names [4]: johnson\n",
      "index after: 5\n",
      "current index: 5\n",
      "names [5]: michael\n",
      "index after: 6\n",
      "current index: 6\n",
      "names [6]: stephany\n",
      "index after: 7\n",
      "current index: 7\n",
      "names [7]: Arsel\n",
      "index after: 8\n",
      "8\n"
     ]
    }
   ],
   "source": [
    "# Apa itu len?\n",
    "num_names = len(names)\n",
    "index = 0\n",
    "\n",
    "print(\"starting from index:\", index)\n",
    "\n",
    "while index < num_names:\n",
    "    print(\"current index:\", index)\n",
    "    print(\"names [{}]: {}\".format(index, names[index]))\n",
    "    index += 1\n",
    "    print(\"index after:\", index)\n",
    "    \n",
    "print(index)"
   ]
  },
  {
   "cell_type": "code",
   "execution_count": 12,
   "id": "c68308f4-5133-4f82-a414-693882572bce",
   "metadata": {},
   "outputs": [],
   "source": []
  },
  {
   "cell_type": "code",
   "execution_count": 22,
   "id": "1c2e3854-4377-42ca-a444-cd706cec9011",
   "metadata": {},
   "outputs": [
    {
     "name": "stdout",
     "output_type": "stream",
     "text": [
      "leghth of name: 5\n",
      "brown\n",
      "leghth of name: 5\n",
      "james\n",
      "leghth of name: 7\n",
      "jackson\n",
      "leghth of name: 3\n",
      "Will break out of while statement\n",
      "statement outside while\n"
     ]
    }
   ],
   "source": [
    "idx = 0\n",
    "\n",
    "while idx < len(names):\n",
    "    print(\"leghth of name:\", len(names[idx]))\n",
    "    if len(names[idx]) < 5:\n",
    "        print(\"Will break out of while statement\")\n",
    "        break\n",
    "    print(names[idx])\n",
    "    idx += 1\n",
    "\n",
    "print(\"statement outside while\")"
   ]
  },
  {
   "cell_type": "code",
   "execution_count": 35,
   "id": "2237feef-5a4d-4cb2-976b-972e63bcff31",
   "metadata": {},
   "outputs": [
    {
     "name": "stdout",
     "output_type": "stream",
     "text": [
      "brown\n",
      "james\n",
      "jackson\n",
      "found name (lee) with lenght (3) < 5\n",
      "bitlabs\n",
      "python\n",
      "Machine\n",
      "found name (data) with lenght (4) < 5\n"
     ]
    }
   ],
   "source": [
    "idx = 0 \n",
    "\n",
    "while idx < len(names):\n",
    "    if len(names[idx]) <5:\n",
    "        print(\"found name ({}) with lenght ({}) < 5\".format(names[idx], len(names[idx])))\n",
    "        idx +=1\n",
    "        continue\n",
    "    print(names[idx])\n",
    "    idx += 1"
   ]
  },
  {
   "cell_type": "code",
   "execution_count": null,
   "id": "1c1933b9-3ffd-4b0b-bf48-88a4ab2cd2c8",
   "metadata": {},
   "outputs": [],
   "source": [
    "# idx = 0\n",
    "# while idx < len(names):\n",
    "#     if names[idx][-1] in [\"a\", \"i\", \"u\", \"e\", \"o\"]:\n",
    "#         print(\"found ({}) in ({}). Done\")"
   ]
  },
  {
   "cell_type": "code",
   "execution_count": 36,
   "id": "5a11e250-018c-426b-8c1a-e49268905125",
   "metadata": {},
   "outputs": [
    {
     "name": "stdout",
     "output_type": "stream",
     "text": [
      "brown\n",
      "james\n",
      "jackson\n",
      "lee\n",
      "johnson\n",
      "michael\n",
      "stephany\n",
      "Arsel\n"
     ]
    }
   ],
   "source": [
    "# For\n",
    "names = [\"brown\", \"james\", \"jackson\", \"lee\", \"johnson\", \"michael\", \"stephany\", \"Arsel\"]\n",
    "\n",
    "for name in names:\n",
    "    print(name)"
   ]
  },
  {
   "cell_type": "code",
   "execution_count": 40,
   "id": "5e2f3e04-b476-4bb4-bf46-8b2f2718dc05",
   "metadata": {},
   "outputs": [
    {
     "name": "stdout",
     "output_type": "stream",
     "text": [
      "brown\n",
      "r\n",
      "o\n",
      "w\n",
      "n\n",
      "\n",
      "james\n",
      "a\n",
      "m\n",
      "e\n",
      "s\n",
      "\n",
      "jackson\n",
      "a\n",
      "c\n",
      "k\n",
      "s\n",
      "o\n",
      "n\n",
      "\n",
      "lee\n",
      "e\n",
      "e\n",
      "\n",
      "johnson\n",
      "o\n",
      "h\n",
      "n\n",
      "s\n",
      "o\n",
      "n\n",
      "\n",
      "michael\n",
      "i\n",
      "c\n",
      "h\n",
      "a\n",
      "e\n",
      "l\n",
      "\n",
      "stephany\n",
      "t\n",
      "e\n",
      "p\n",
      "h\n",
      "a\n",
      "n\n",
      "y\n",
      "\n",
      "Arsel\n",
      "r\n",
      "s\n",
      "e\n",
      "l\n",
      "\n"
     ]
    }
   ],
   "source": [
    "for name in names:\n",
    "    print(name)\n",
    "    for char in name[1:]:\n",
    "        print(char)\n",
    "    print()"
   ]
  },
  {
   "cell_type": "code",
   "execution_count": 42,
   "id": "50ded778-bf63-4714-9568-d36af3231492",
   "metadata": {},
   "outputs": [],
   "source": [
    "manifesto = [\n",
    "    (\"bananas\", 15), \n",
    "    (\"mattresses\", 24), \n",
    "    (\"dog kernels\", 42), \n",
    "    (\"computer\", 120), \n",
    "    (\"cheeses\", 5)\n",
    "]\n",
    "\n",
    "cargo = []\n",
    "total_weight = 0\n",
    "max_capacity = 100"
   ]
  },
  {
   "cell_type": "code",
   "execution_count": 45,
   "id": "66a48978-6ff8-4d62-85f0-04706cf9e97f",
   "metadata": {},
   "outputs": [
    {
     "name": "stdout",
     "output_type": "stream",
     "text": [
      "('bananas', 15)\n",
      "('mattresses', 24)\n",
      "('dog kernels', 42)\n",
      "('computer', 120)\n",
      "('cheeses', 5)\n"
     ]
    }
   ],
   "source": [
    "for manifest in manifesto:\n",
    "    print(manifest)"
   ]
  },
  {
   "cell_type": "code",
   "execution_count": 46,
   "id": "cb492469-41f7-45be-9d6a-4f4d86dfc3f3",
   "metadata": {},
   "outputs": [
    {
     "name": "stdout",
     "output_type": "stream",
     "text": [
      "2\n",
      "3\n"
     ]
    }
   ],
   "source": [
    "location = (2, 3)\n",
    "loc_a, loc_b = location\n",
    "print(loc_a)\n",
    "print(loc_b)"
   ]
  },
  {
   "cell_type": "code",
   "execution_count": 47,
   "id": "0d96c35b-83d6-41c0-b799-a14b8b711f1c",
   "metadata": {},
   "outputs": [
    {
     "name": "stdout",
     "output_type": "stream",
     "text": [
      "item: bananas\n",
      "weight: 15\n",
      "\n",
      "item: mattresses\n",
      "weight: 24\n",
      "\n",
      "item: dog kernels\n",
      "weight: 42\n",
      "\n",
      "item: computer\n",
      "weight: 120\n",
      "\n",
      "item: cheeses\n",
      "weight: 5\n",
      "\n"
     ]
    }
   ],
   "source": [
    "for item, weight in manifesto:\n",
    "    print(\"item:\" , item)\n",
    "    print(\"weight:\", weight)\n",
    "    print()"
   ]
  },
  {
   "cell_type": "code",
   "execution_count": 49,
   "id": "2ee3e441-ff56-4292-9d6b-30ad871f8db9",
   "metadata": {},
   "outputs": [
    {
     "name": "stdout",
     "output_type": "stream",
     "text": [
      "current weight: 81\n",
      "- Adding bananas to cargo (weight: 15)\n",
      "current weight: 96\n",
      ":: Skipping mattresses (weight: 24)\n",
      "current weight: 96\n",
      ":: Skipping dog kernels (weight: 42)\n",
      "current weight: 96\n",
      ":: Skipping computer (weight: 120)\n",
      "current weight: 96\n",
      ":: Skipping cheeses (weight: 5)\n",
      "\n",
      "Final weight: 96\n",
      "Items in cargo: ['bananas', 'mattresses', 'dog kernels', 'bananas']\n"
     ]
    }
   ],
   "source": [
    "for cargo_name, cargo_weight in manifesto:\n",
    "    print(\"current weight:\", total_weight)\n",
    "    if total_weight >= max_capacity:\n",
    "        print(\"stop loading, Total weight:\", total_weight)\n",
    "        break\n",
    "        \n",
    "    if cargo_weight + total_weight > 100:\n",
    "        print(\":: Skipping {} (weight: {})\".format(cargo_name, cargo_weight))\n",
    "        continue\n",
    "    \n",
    "    print(\"- Adding {} to cargo (weight: {})\".format(cargo_name, cargo_weight))\n",
    "    cargo.append(cargo_name)\n",
    "    total_weight += cargo_weight\n",
    "    \n",
    "print(\"\\nFinal weight:\",total_weight)\n",
    "print(\"Items in cargo:\", cargo)"
   ]
  },
  {
   "cell_type": "code",
   "execution_count": 50,
   "id": "58c52262-861a-4563-a790-c60d75047d79",
   "metadata": {},
   "outputs": [
    {
     "name": "stdout",
     "output_type": "stream",
     "text": [
      "range(5, 10) <class 'range'>\n",
      "range(0, 10) <class 'range'>\n",
      "range(0, 10, 2) <class 'range'>\n"
     ]
    }
   ],
   "source": [
    "# Range adalah function bawaan python gunakan ()\n",
    "\n",
    "five_to_nine = range(5, 10)\n",
    "to_ten = range(10)\n",
    "to_ten_with_two = range(0, 10, 2)\n",
    "\n",
    "print(five_to_nine, type(five_to_nine))\n",
    "print(to_ten, type(to_ten))\n",
    "print(to_ten_with_two, type(to_ten_with_two))"
   ]
  },
  {
   "cell_type": "code",
   "execution_count": 78,
   "id": "a7681b3f-89f6-4dca-8bcb-09725147bbbe",
   "metadata": {},
   "outputs": [
    {
     "name": "stdout",
     "output_type": "stream",
     "text": [
      "[0, 1, 2, 3, 4, 5, 6, 7, 8, 9, 10, 11, 12, 13, 14, 15, 16, 17, 18, 19, 20, 21, 22, 23, 24, 25, 26, 27, 28, 29, 30, 31, 32, 33, 34, 35, 36, 37, 38, 39, 40, 41, 42, 43, 44, 45, 46, 47, 48, 49, 50, 51, 52, 53, 54, 55, 56, 57, 58, 59, 60, 61, 62, 63, 64, 65, 66, 67, 68, 69, 70, 71, 72, 73, 74, 75, 76, 77, 78, 79, 80, 81, 82, 83, 84, 85, 86, 87, 88, 89, 90, 91, 92, 93, 94, 95, 96, 97, 98, 99] <class 'list'>\n"
     ]
    }
   ],
   "source": [
    "long_list_num = list(range(100))\n",
    "print(long_list_num, type(long_list_num))"
   ]
  },
  {
   "cell_type": "code",
   "execution_count": 54,
   "id": "d8497a0b-b601-4bb4-99ed-6256227d000f",
   "metadata": {},
   "outputs": [
    {
     "name": "stdout",
     "output_type": "stream",
     "text": [
      "0\n",
      "1\n",
      "2\n",
      "3\n",
      "4\n",
      "5\n",
      "6\n",
      "7\n"
     ]
    }
   ],
   "source": [
    "for i in range(len(names)):\n",
    "    print(i)"
   ]
  },
  {
   "cell_type": "code",
   "execution_count": 59,
   "id": "23d11523-84b6-4808-a4b8-c431b863be15",
   "metadata": {},
   "outputs": [
    {
     "name": "stdout",
     "output_type": "stream",
     "text": [
      "['johnson', 'lee', 'michael', 'stephany', 'Arsel', 'brown', 'james', 'jackson']\n",
      "['johnson', 'michael', 'lee', 'stephany', 'Arsel', 'brown', 'james', 'jackson']\n",
      "['johnson', 'michael', 'stephany', 'lee', 'Arsel', 'brown', 'james', 'jackson']\n",
      "['johnson', 'michael', 'stephany', 'Arsel', 'lee', 'brown', 'james', 'jackson']\n",
      "['johnson', 'michael', 'stephany', 'Arsel', 'brown', 'lee', 'james', 'jackson']\n",
      "['johnson', 'michael', 'stephany', 'Arsel', 'brown', 'james', 'lee', 'jackson']\n",
      "['johnson', 'michael', 'stephany', 'Arsel', 'brown', 'james', 'jackson', 'lee']\n"
     ]
    }
   ],
   "source": [
    "for i in range(len(names)):\n",
    "    if i+1 == len(names):\n",
    "        break\n",
    "    names[i], names[i+1] = names[i+1], names[i]\n",
    "    print(names)"
   ]
  },
  {
   "cell_type": "code",
   "execution_count": 60,
   "id": "ac222132-41d0-47a4-a81f-d3b499a9dba5",
   "metadata": {},
   "outputs": [
    {
     "data": {
      "text/plain": [
       "['Arsel', 'brown', 'jackson', 'james', 'johnson', 'lee', 'michael', 'stephany']"
      ]
     },
     "execution_count": 60,
     "metadata": {},
     "output_type": "execute_result"
    }
   ],
   "source": [
    "sorted(names)"
   ]
  },
  {
   "cell_type": "code",
   "execution_count": 61,
   "id": "ce0c297e-487a-4a36-9b96-0e5c5a7dda42",
   "metadata": {},
   "outputs": [
    {
     "name": "stdout",
     "output_type": "stream",
     "text": [
      "{'bananas': 15, 'mattresses': 24, 'dog kernels': 42, 'computer': 120, 'cheeses': 5}\n",
      "bananas: 15\n",
      "mattresses: 24\n",
      "dog kernels: 42\n",
      "computer: 120\n",
      "cheeses: 5\n"
     ]
    }
   ],
   "source": [
    "dict_manifesto = dict(manifesto)\n",
    "print(dict_manifesto)\n",
    "\n",
    "for key, value in dict_manifesto.items():\n",
    "    print(\"{}: {}\".format(key, value))"
   ]
  },
  {
   "cell_type": "code",
   "execution_count": 62,
   "id": "733e1193-0e80-4d32-b62e-09e15a6793f6",
   "metadata": {},
   "outputs": [
    {
     "name": "stdout",
     "output_type": "stream",
     "text": [
      "bananas 15\n",
      "mattresses 24\n",
      "dog kernels 42\n",
      "computer 120\n",
      "cheeses 5\n"
     ]
    }
   ],
   "source": [
    "for product, _ in manifesto:\n",
    "    print(product,_)"
   ]
  },
  {
   "cell_type": "code",
   "execution_count": 63,
   "id": "e78a631c-b300-483f-8b84-78447e14325d",
   "metadata": {},
   "outputs": [
    {
     "name": "stdout",
     "output_type": "stream",
     "text": [
      "['bananas', 'mattresses', 'dog kernels', 'computer', 'cheeses']\n"
     ]
    }
   ],
   "source": [
    "list_product = []\n",
    "for product, _ in manifesto:\n",
    "    list_product.append(product)\n",
    "\n",
    "print(list_product)"
   ]
  },
  {
   "cell_type": "code",
   "execution_count": 65,
   "id": "f1dac003-0442-499e-accb-1ea019b19366",
   "metadata": {},
   "outputs": [
    {
     "name": "stdout",
     "output_type": "stream",
     "text": [
      "['bananas', 'mattresses', 'dog kernels', 'computer', 'cheeses']\n",
      "True\n",
      "[15, 24, 42, 120, 5]\n"
     ]
    }
   ],
   "source": [
    "list_product_comprehension = [product for product, _ in manifesto]\n",
    "list_weight_comprehension = [weight for _, weight in manifesto]\n",
    "\n",
    "print(list_product_comprehension)\n",
    "print(list_product == list_product_comprehension)\n",
    "print(list_weight_comprehension)"
   ]
  },
  {
   "cell_type": "code",
   "execution_count": 70,
   "id": "4e107732-9097-4228-a2e8-af3bf0f12121",
   "metadata": {},
   "outputs": [],
   "source": [
    "# Moderated Python\n",
    "\n",
    "# Fungsi def untuk membuat fuction sendiri\n",
    "\n",
    "def do_nothing():\n",
    "    pass"
   ]
  },
  {
   "cell_type": "code",
   "execution_count": 72,
   "id": "37691351-4c0e-450d-91fe-896188049758",
   "metadata": {},
   "outputs": [],
   "source": [
    "do_nothing()"
   ]
  },
  {
   "cell_type": "code",
   "execution_count": 73,
   "id": "d40c2936-0c6a-4af4-a48e-9975df13a70b",
   "metadata": {},
   "outputs": [],
   "source": [
    "def make_sound():\n",
    "    print(\"HOUUUUUUU\")"
   ]
  },
  {
   "cell_type": "code",
   "execution_count": 74,
   "id": "16fe394b-86d8-4736-a465-a8493356a35a",
   "metadata": {},
   "outputs": [
    {
     "name": "stdout",
     "output_type": "stream",
     "text": [
      "HOUUUUUUU\n"
     ]
    }
   ],
   "source": [
    "make_sound()"
   ]
  },
  {
   "cell_type": "code",
   "execution_count": 75,
   "id": "8a7a7ae5-b36c-4b1d-8e83-12f14a317bfd",
   "metadata": {},
   "outputs": [],
   "source": [
    "def agree():\n",
    "    return True"
   ]
  },
  {
   "cell_type": "code",
   "execution_count": 77,
   "id": "59876e64-22f9-4f70-8a33-96f4cbf12481",
   "metadata": {},
   "outputs": [
    {
     "data": {
      "text/plain": [
       "True"
      ]
     },
     "execution_count": 77,
     "metadata": {},
     "output_type": "execute_result"
    }
   ],
   "source": [
    "agree()"
   ]
  },
  {
   "cell_type": "code",
   "execution_count": 82,
   "id": "850454a5-f441-4e8e-ad8a-f69a850a6725",
   "metadata": {},
   "outputs": [
    {
     "name": "stdout",
     "output_type": "stream",
     "text": [
      "Returning something\n"
     ]
    },
    {
     "data": {
      "text/plain": [
       "'something'"
      ]
     },
     "execution_count": 82,
     "metadata": {},
     "output_type": "execute_result"
    }
   ],
   "source": [
    "def direct_return():\n",
    "    print(\"Returning something\")\n",
    "    return \"something\"\n",
    "    print(\"Done returning something\")\n",
    "\n",
    "direct_return()"
   ]
  },
  {
   "cell_type": "code",
   "execution_count": 16,
   "id": "ae52f427-8a90-4320-be3a-323479b4fc7c",
   "metadata": {},
   "outputs": [
    {
     "name": "stdout",
     "output_type": "stream",
     "text": [
      "I've never heard of the color purple before\n"
     ]
    }
   ],
   "source": [
    "def commentary(color):\n",
    "    if color == \"red\":\n",
    "        return \"it's a tomato\"\n",
    "    if color == \"green\":\n",
    "        return \"it's a green pepper\"\n",
    "    if color == \"bees\":\n",
    "        return \"i don't know what it is, but looks like a bee\"\n",
    "    return \"I've never heard of the color \" + color +\" before\"\n",
    "\n",
    "print(commentary(\"purple\"))"
   ]
  },
  {
   "cell_type": "code",
   "execution_count": 6,
   "id": "7e26f889-b20d-4903-8e49-9ceae7956816",
   "metadata": {},
   "outputs": [
    {
     "name": "stdout",
     "output_type": "stream",
     "text": [
      "1 week(s) and 3 day(s)\n",
      "1 week(s) and 3 day(s)\n"
     ]
    }
   ],
   "source": [
    "# Buatlah sebuah fungsi readable_timedelta yang menerima satu masukan days, dan \n",
    "# mengembalikan sebuah string yang menyatakan berapa minggu dan berapa hari nilai days tersebut. \n",
    "# Sebagai contoh, penggunaan fungsi di bawah ini\n",
    "# readable_timedelta(10)\n",
    "# \"1 week(s) and 3 day(s)\"\n",
    "\n",
    "def readable_timedelta(days):\n",
    "    \"\"\"Calculate the number of weeks and days contained in given number of days\n",
    "    days: int. Given number of days\n",
    "    Function readable_timedelta(10) returns string: 1 week(s) and 3 day(s).\n",
    "    \"\"\"\n",
    "    number_of_weeks = days // 7\n",
    "    remainder_days = days % 7\n",
    "    return \"{} week(s) and {} day(s)\".format(number_of_weeks, remainder_days)\n",
    "\n",
    "\n",
    "print(readable_timedelta(10))\n",
    "\n",
    "def readable_timedelta(days):\n",
    "    number_of_weeks = days // 7\n",
    "    remainder_days = days % 7    \n",
    "    return \"{} week(s) and {} day(s)\".format(number_of_weeks, remainder_days)\n",
    "\n",
    "print(readable_timedelta(10))"
   ]
  },
  {
   "cell_type": "code",
   "execution_count": 25,
   "id": "5e5ab74a-5106-4349-b8c2-3705a05ea67e",
   "metadata": {},
   "outputs": [],
   "source": [
    "manifesto = [\n",
    "    (\"bananas\", 20),\n",
    "    (\"mattresses\", 25),\n",
    "    (\"dog kennels\", 40),\n",
    "    (\"computer\", 95),\n",
    "    (\"cheeses\", 5),\n",
    "    (\"drugs\", 5)\n",
    "]\n",
    "cargo = []\n",
    "total_weight = 0\n",
    "max_capacity = 100"
   ]
  },
  {
   "cell_type": "code",
   "execution_count": null,
   "id": "481e6c3a-59e2-4c2e-9c61-182302050863",
   "metadata": {},
   "outputs": [],
   "source": []
  },
  {
   "cell_type": "code",
   "execution_count": 26,
   "id": "30a59b04-15bc-44c6-a0ed-2091c0fac3df",
   "metadata": {},
   "outputs": [
    {
     "name": "stdout",
     "output_type": "stream",
     "text": [
      "{'bananas': 20, 'mattresses': 25, 'dog kennels': 40, 'computer': 95, 'cheeses': 5, 'drugs': 5}\n",
      "bananas: 20\n",
      "mattresses: 25\n",
      "dog kennels: 40\n",
      "computer: 95\n",
      "cheeses: 5\n",
      "drugs: 5\n",
      "purchased_product: {'computer': 3, 'cheeses': 10, 'dog kennels': 5, 'bananas': 20}\n",
      "products and corresponding weights: {'bananas': 20, 'mattresses': 25, 'dog kennels': 40, 'computer': 95, 'cheeses': 5, 'drugs': 5}\n",
      "current weight: 0\n",
      "- Adding computer to cargo (weight: 285)\n",
      "current weight: 285\n",
      "- Adding cheeses to cargo (weight: 50)\n",
      "current weight: 335\n",
      "- Adding dog kennels to cargo (weight: 200)\n",
      "current weight: 535\n",
      "- Adding bananas to cargo (weight: 400)\n",
      "\n",
      "Final weight: 935\n",
      "Items in cargo: ['computer', 'computer', 'computer', 'cheeses', 'cheeses', 'cheeses', 'cheeses', 'cheeses', 'cheeses', 'cheeses', 'cheeses', 'cheeses', 'cheeses', 'dog kennels', 'dog kennels', 'dog kennels', 'dog kennels', 'dog kennels', 'bananas', 'bananas', 'bananas', 'bananas', 'bananas', 'bananas', 'bananas', 'bananas', 'bananas', 'bananas', 'bananas', 'bananas', 'bananas', 'bananas', 'bananas', 'bananas', 'bananas', 'bananas', 'bananas', 'bananas']\n"
     ]
    }
   ],
   "source": [
    "# Kuis: Misalkan kita punyai variabel dict_manifesto yang merupakan manifesto \n",
    "# dalam bentuk dictionary dengan key adalah nama barang dan value adalah beratnya.\n",
    "\n",
    "# Definisikan dict_manifesto sebagai representasi dictionary dari manifesto.\n",
    "# Menggunakan items(), tampilkan pasangan key dan value dalam pola key: value menggunakan fungsi print.\n",
    "\n",
    "dict_manifesto = dict(manifesto)\n",
    "print(dict_manifesto)\n",
    "\n",
    "for key, value in dict_manifesto.items():\n",
    "    print(\"{}: {}\".format(key, value))\n",
    "\n",
    "purchased_product = {\"computer\": 3, \"cheeses\": 10, \"dog kennels\": 5, \"bananas\": 20}\n",
    "print(\"purchased_product:\", purchased_product)\n",
    "print(\"products and corresponding weights:\", dict_manifesto)\n",
    "\n",
    "cargo = []\n",
    "total_weight = 0\n",
    "max_capacity = 1000\n",
    "for product, quantity in purchased_product.items():\n",
    "    print(\"current weight:\", total_weight)\n",
    "    if total_weight >= max_capacity:\n",
    "        print(\"Stop loading. Total weight:\", total_weight)\n",
    "        break\n",
    "        \n",
    "    cargo_weight = quantity * dict_manifesto.get(product)\n",
    "    if cargo_weight + total_weight > max_capacity:\n",
    "        print(\":: Skipping {} (weight: {})\".format(product, cargo_weight))\n",
    "        continue\n",
    "    print(\"- Adding {} to cargo (weight: {})\".format(product, cargo_weight))\n",
    "    cargo.extend(purchased_product.get(product, 1) * [product])\n",
    "    total_weight += cargo_weight\n",
    "print(\"\\nFinal weight:\", total_weight)\n",
    "print(\"Items in cargo:\", cargo)"
   ]
  },
  {
   "cell_type": "code",
   "execution_count": null,
   "id": "b3a11cf0-8f1b-4666-abf0-280009f94f7b",
   "metadata": {},
   "outputs": [],
   "source": []
  },
  {
   "cell_type": "code",
   "execution_count": null,
   "id": "db552f1e-306e-41ad-bd72-bc191b4b44e3",
   "metadata": {},
   "outputs": [],
   "source": []
  },
  {
   "cell_type": "code",
   "execution_count": null,
   "id": "3a618210-2ff6-4658-b912-6526032a4c92",
   "metadata": {},
   "outputs": [],
   "source": []
  },
  {
   "cell_type": "code",
   "execution_count": null,
   "id": "5af5a3fd-cbaf-4b5b-9e6f-6b88233937f9",
   "metadata": {},
   "outputs": [],
   "source": []
  },
  {
   "cell_type": "code",
   "execution_count": null,
   "id": "07daf4cd-6b55-455d-a29e-44d5fce0c17d",
   "metadata": {},
   "outputs": [],
   "source": []
  },
  {
   "cell_type": "code",
   "execution_count": null,
   "id": "62f5d0e3-b515-4f76-aaca-6be3b579afae",
   "metadata": {},
   "outputs": [],
   "source": []
  },
  {
   "cell_type": "code",
   "execution_count": null,
   "id": "2c8170dc-4e37-426f-989b-46b04d0584c9",
   "metadata": {},
   "outputs": [],
   "source": []
  },
  {
   "cell_type": "code",
   "execution_count": null,
   "id": "d058daa5-5edf-4ab1-8fae-58b95494b1ca",
   "metadata": {},
   "outputs": [],
   "source": []
  },
  {
   "cell_type": "code",
   "execution_count": 5,
   "id": "e11fdda4-5a9c-4b5b-8ccd-c3e25fad0843",
   "metadata": {},
   "outputs": [
    {
     "data": {
      "text/plain": [
       "3"
      ]
     },
     "execution_count": 5,
     "metadata": {},
     "output_type": "execute_result"
    }
   ],
   "source": [
    "10 // 7\n",
    "10 % 7"
   ]
  },
  {
   "cell_type": "code",
   "execution_count": null,
   "id": "1fa8df3a-70c0-4f40-9d17-18a4f429ea13",
   "metadata": {},
   "outputs": [],
   "source": []
  },
  {
   "cell_type": "code",
   "execution_count": null,
   "id": "8fd0baac-fd1c-44b2-85d1-fb245e758fe3",
   "metadata": {},
   "outputs": [],
   "source": []
  },
  {
   "cell_type": "code",
   "execution_count": null,
   "id": "53df4a79-88d2-493f-b634-9e3111677c5b",
   "metadata": {},
   "outputs": [],
   "source": []
  },
  {
   "cell_type": "code",
   "execution_count": null,
   "id": "9517d6e6-fb13-4654-89dc-8b9ba12e6a1e",
   "metadata": {},
   "outputs": [],
   "source": []
  },
  {
   "cell_type": "code",
   "execution_count": null,
   "id": "eec71184-4061-484c-b1b2-5738b73b72e8",
   "metadata": {},
   "outputs": [],
   "source": []
  },
  {
   "cell_type": "code",
   "execution_count": null,
   "id": "7e8513ea-bbb9-4449-ae6f-9b8247677781",
   "metadata": {},
   "outputs": [],
   "source": []
  },
  {
   "cell_type": "code",
   "execution_count": null,
   "id": "c7c6c20f-541c-40a5-aa48-763e42486205",
   "metadata": {},
   "outputs": [],
   "source": []
  },
  {
   "cell_type": "code",
   "execution_count": null,
   "id": "778004ce-d749-4817-a389-d8bf3c7f7dad",
   "metadata": {},
   "outputs": [],
   "source": []
  },
  {
   "cell_type": "code",
   "execution_count": null,
   "id": "5cd6138b-c305-4e4f-9610-29b5ff062aee",
   "metadata": {},
   "outputs": [],
   "source": []
  },
  {
   "cell_type": "code",
   "execution_count": null,
   "id": "8ff45431-805d-46ae-b9e0-f516ad9e0d6f",
   "metadata": {},
   "outputs": [],
   "source": []
  },
  {
   "cell_type": "code",
   "execution_count": null,
   "id": "3925d36d-1bab-4b66-9b3c-5c7bcb6eeb0b",
   "metadata": {},
   "outputs": [],
   "source": []
  },
  {
   "cell_type": "code",
   "execution_count": null,
   "id": "755590ab-61d7-488f-a856-80ec1a5ae9ac",
   "metadata": {},
   "outputs": [],
   "source": []
  },
  {
   "cell_type": "code",
   "execution_count": null,
   "id": "1c89561f-76f2-48cc-a8e1-1710a40b5581",
   "metadata": {},
   "outputs": [],
   "source": []
  },
  {
   "cell_type": "code",
   "execution_count": null,
   "id": "e013f98f-4ad4-44a3-a6e6-b3b24a88a44d",
   "metadata": {},
   "outputs": [],
   "source": []
  },
  {
   "cell_type": "code",
   "execution_count": null,
   "id": "3dca4755-d421-4704-8514-bf9c96159936",
   "metadata": {},
   "outputs": [],
   "source": []
  },
  {
   "cell_type": "code",
   "execution_count": null,
   "id": "1ce88e85-cc6c-44a8-a0a1-352585419400",
   "metadata": {},
   "outputs": [],
   "source": []
  },
  {
   "cell_type": "code",
   "execution_count": null,
   "id": "cfcb5b84-72b5-4338-a62b-e41d0919a14e",
   "metadata": {},
   "outputs": [],
   "source": []
  },
  {
   "cell_type": "code",
   "execution_count": null,
   "id": "41ab6191-81ee-4d6d-b0de-94559e3e106d",
   "metadata": {},
   "outputs": [],
   "source": []
  },
  {
   "cell_type": "code",
   "execution_count": null,
   "id": "ea4ee37f-6dcd-4a89-b21f-864665246201",
   "metadata": {},
   "outputs": [],
   "source": []
  },
  {
   "cell_type": "code",
   "execution_count": null,
   "id": "b3e8046d-6966-41f8-b86e-7072e2d7d10e",
   "metadata": {},
   "outputs": [],
   "source": []
  },
  {
   "cell_type": "code",
   "execution_count": null,
   "id": "1ecd8149-0c8f-436d-8834-45a4687f349f",
   "metadata": {},
   "outputs": [],
   "source": []
  },
  {
   "cell_type": "code",
   "execution_count": null,
   "id": "8fc97080-78f6-4632-ab20-9c06f32daf23",
   "metadata": {},
   "outputs": [],
   "source": []
  },
  {
   "cell_type": "code",
   "execution_count": null,
   "id": "851ff65a-6e68-43ca-9bce-13ee4152832a",
   "metadata": {},
   "outputs": [],
   "source": []
  },
  {
   "cell_type": "code",
   "execution_count": null,
   "id": "1fe83066-ff5e-4290-8ed9-9dec100a8d81",
   "metadata": {},
   "outputs": [],
   "source": []
  },
  {
   "cell_type": "code",
   "execution_count": null,
   "id": "25b65461-d796-4666-b4f3-7fd48eed9c0c",
   "metadata": {},
   "outputs": [],
   "source": []
  },
  {
   "cell_type": "code",
   "execution_count": null,
   "id": "8f468648-6bdb-4c17-8afa-e503a315dd8c",
   "metadata": {},
   "outputs": [],
   "source": []
  },
  {
   "cell_type": "code",
   "execution_count": null,
   "id": "11f689a9-8caf-4fc1-b48a-82ea320014af",
   "metadata": {},
   "outputs": [],
   "source": []
  },
  {
   "cell_type": "code",
   "execution_count": null,
   "id": "8838c55e-598b-40e2-9a92-357a49e297d3",
   "metadata": {},
   "outputs": [],
   "source": []
  },
  {
   "cell_type": "code",
   "execution_count": null,
   "id": "0690b43f-2717-4d60-a194-6d5e094b7de9",
   "metadata": {},
   "outputs": [],
   "source": []
  },
  {
   "cell_type": "code",
   "execution_count": null,
   "id": "95f9342e-0378-4663-81a6-f39f6c3fface",
   "metadata": {},
   "outputs": [],
   "source": []
  },
  {
   "cell_type": "code",
   "execution_count": null,
   "id": "3433cf28-fc6a-45bf-859c-964ba80c55e0",
   "metadata": {},
   "outputs": [],
   "source": []
  },
  {
   "cell_type": "code",
   "execution_count": null,
   "id": "06e9e5e2-a82a-49b8-af91-675422236163",
   "metadata": {},
   "outputs": [],
   "source": []
  },
  {
   "cell_type": "code",
   "execution_count": null,
   "id": "232afd7b-fe62-4e45-8c2c-a9906bb3eac8",
   "metadata": {},
   "outputs": [],
   "source": []
  },
  {
   "cell_type": "code",
   "execution_count": null,
   "id": "047ebb4c-bf23-47fe-98bc-153f0cbb9030",
   "metadata": {},
   "outputs": [],
   "source": []
  },
  {
   "cell_type": "code",
   "execution_count": null,
   "id": "0ff4a56c-34da-41e3-a3b6-758b48565e1a",
   "metadata": {},
   "outputs": [],
   "source": []
  },
  {
   "cell_type": "code",
   "execution_count": null,
   "id": "70a37f6b-f8fc-43a7-9dca-1a4bf5f300ab",
   "metadata": {},
   "outputs": [],
   "source": []
  },
  {
   "cell_type": "code",
   "execution_count": null,
   "id": "c4a22091-2036-47be-b27c-202204d5cd50",
   "metadata": {},
   "outputs": [],
   "source": []
  },
  {
   "cell_type": "code",
   "execution_count": null,
   "id": "41a133ff-cb17-4b05-b27e-06153a123c13",
   "metadata": {},
   "outputs": [],
   "source": []
  },
  {
   "cell_type": "code",
   "execution_count": null,
   "id": "43cef8b1-050b-4baa-9bf5-2515c84b12d8",
   "metadata": {},
   "outputs": [],
   "source": []
  },
  {
   "cell_type": "code",
   "execution_count": null,
   "id": "e28589e8-080b-4449-a0ca-72b18cb3e158",
   "metadata": {},
   "outputs": [],
   "source": []
  },
  {
   "cell_type": "code",
   "execution_count": null,
   "id": "54fadeb7-0e69-4450-9c8c-3c37ff04bf29",
   "metadata": {},
   "outputs": [],
   "source": []
  },
  {
   "cell_type": "code",
   "execution_count": null,
   "id": "ebd24c6c-25b6-4931-81f7-14944f328a95",
   "metadata": {},
   "outputs": [],
   "source": []
  },
  {
   "cell_type": "code",
   "execution_count": null,
   "id": "b47ef65f-288c-470e-99fa-e5162986fa4f",
   "metadata": {},
   "outputs": [],
   "source": []
  },
  {
   "cell_type": "code",
   "execution_count": null,
   "id": "29922b10-1c0a-4719-b7d7-ef0c6922f88a",
   "metadata": {},
   "outputs": [],
   "source": []
  },
  {
   "cell_type": "code",
   "execution_count": null,
   "id": "83cde171-55ba-4c6c-b11d-696dd13ff495",
   "metadata": {},
   "outputs": [],
   "source": []
  },
  {
   "cell_type": "code",
   "execution_count": null,
   "id": "b598f07b-0423-46be-9d7e-aad230bf2558",
   "metadata": {},
   "outputs": [],
   "source": []
  },
  {
   "cell_type": "code",
   "execution_count": null,
   "id": "93ae2eb8-2317-4d6c-8d1c-0cdc04d43aef",
   "metadata": {},
   "outputs": [],
   "source": []
  },
  {
   "cell_type": "code",
   "execution_count": null,
   "id": "16ac2866-da86-4ee5-a83a-ed867d869d7d",
   "metadata": {},
   "outputs": [],
   "source": []
  }
 ],
 "metadata": {
  "kernelspec": {
   "display_name": "Python 3 (ipykernel)",
   "language": "python",
   "name": "python3"
  },
  "language_info": {
   "codemirror_mode": {
    "name": "ipython",
    "version": 3
   },
   "file_extension": ".py",
   "mimetype": "text/x-python",
   "name": "python",
   "nbconvert_exporter": "python",
   "pygments_lexer": "ipython3",
   "version": "3.9.7"
  }
 },
 "nbformat": 4,
 "nbformat_minor": 5
}
