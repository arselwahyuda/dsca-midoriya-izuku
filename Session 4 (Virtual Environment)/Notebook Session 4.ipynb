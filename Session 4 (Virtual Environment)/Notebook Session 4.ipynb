{
 "cells": [
  {
   "cell_type": "code",
   "execution_count": 1,
   "id": "3616a17a-6b8c-441b-b243-992bce46a7fe",
   "metadata": {},
   "outputs": [
    {
     "name": "stdout",
     "output_type": "stream",
     "text": [
      "Sudah masuk sesi class ke 4\n"
     ]
    }
   ],
   "source": [
    "selamat = \"Sudah masuk sesi class ke 4\"\n",
    "print(selamat)"
   ]
  },
  {
   "cell_type": "code",
   "execution_count": 4,
   "id": "4d746f30-5d59-48a1-b002-1ffce6181722",
   "metadata": {},
   "outputs": [],
   "source": [
    "def is_bounded(x, lower=0, upper= 10):\n",
    "    print(\"{} <= {}\".format(lower, x, upper))\n",
    "    return lower <= x <= upper"
   ]
  },
  {
   "cell_type": "code",
   "execution_count": 5,
   "id": "2c3e2a21-676e-4281-b146-c82994cc7906",
   "metadata": {},
   "outputs": [
    {
     "name": "stdout",
     "output_type": "stream",
     "text": [
      "0 <= 2\n"
     ]
    },
    {
     "data": {
      "text/plain": [
       "True"
      ]
     },
     "execution_count": 5,
     "metadata": {},
     "output_type": "execute_result"
    }
   ],
   "source": [
    "is_bounded(2)"
   ]
  },
  {
   "cell_type": "code",
   "execution_count": 14,
   "id": "04beb5bf-769d-427f-9ef5-2e27a0011364",
   "metadata": {},
   "outputs": [],
   "source": [
    "def do_mean(prefix, *data, suffix):\n",
    "    print(\"prefix:\", prefix)\n",
    "    print(\"suffix:\", suffix)\n",
    "\n",
    "    if len(data):\n",
    "        return sum(data) / len(data)\n",
    "    return \"no data provide\""
   ]
  },
  {
   "cell_type": "code",
   "execution_count": 15,
   "id": "cc39bd8b-cb9b-401e-9bb7-a9bb479e9511",
   "metadata": {},
   "outputs": [
    {
     "name": "stdout",
     "output_type": "stream",
     "text": [
      "prefix: 1\n",
      "suffix: 50\n"
     ]
    },
    {
     "data": {
      "text/plain": [
       "5.5"
      ]
     },
     "execution_count": 15,
     "metadata": {},
     "output_type": "execute_result"
    }
   ],
   "source": [
    "do_mean(1, 2, 3, 4, 5, 6, 7, 8, 9, suffix=50)"
   ]
  },
  {
   "cell_type": "code",
   "execution_count": 17,
   "id": "db977328-95fc-4dbc-acff-99ad3f52a89c",
   "metadata": {},
   "outputs": [
    {
     "name": "stdout",
     "output_type": "stream",
     "text": [
      "x: 1\n",
      "y: 2\n",
      "args: (3, 4, 5, 6, (9, 10))\n",
      "kwargs {'name': 'bitlabs', 'year': 2021}\n",
      "x: 10\n",
      "y: 100\n",
      "args: ()\n",
      "kwargs {}\n",
      "x: 110\n",
      "y: 100\n"
     ]
    }
   ],
   "source": [
    "def func(x, y, *args, **kwargs):\n",
    "    print(\"x:\", x)\n",
    "    print(\"y:\", y)\n",
    "    print(\"args:\", args)\n",
    "    print(\"kwargs\", kwargs)\n",
    "    \n",
    "func(1,2,3,4,5,6, (9, 10), name=\"bitlabs\", year=2021)\n",
    "\n",
    "x = 10\n",
    "y = 100\n",
    "\n",
    "func(x, y)\n",
    "\n",
    "x += y\n",
    "\n",
    "print(\"x:\", x)\n",
    "print(\"y:\", y)"
   ]
  },
  {
   "cell_type": "code",
   "execution_count": 23,
   "id": "52c8abfd-ffdb-4aea-81ba-cad8766b86da",
   "metadata": {},
   "outputs": [
    {
     "name": "stdout",
     "output_type": "stream",
     "text": [
      "total: 45\n"
     ]
    }
   ],
   "source": [
    "def scope(x,y):\n",
    "    zz = 10\n",
    "    z = x * y\n",
    "    \n",
    "    #def sum merupakan fuction diluar def scope.\n",
    "    def sum(x, y):\n",
    "        return x - y #hasilnya 5 - 10 = -5\n",
    "    \n",
    "    return z + sum(x,y) #Jadi z (5*10 = 50) + -5 (def sum)\n",
    "#Total: 50 + (-5) = 45\n",
    "total = scope(5,10)\n",
    "print(\"total:\", total)"
   ]
  },
  {
   "cell_type": "code",
   "execution_count": 24,
   "id": "d90e3e07-d7d1-46aa-8985-6a1a14df231b",
   "metadata": {},
   "outputs": [
    {
     "name": "stdout",
     "output_type": "stream",
     "text": [
      "Let's go to KFC for lunch\n"
     ]
    }
   ],
   "source": [
    "!python lunch.py"
   ]
  },
  {
   "cell_type": "code",
   "execution_count": 25,
   "id": "2c8a96b7-854a-4493-b5dd-74371d1bcb6c",
   "metadata": {},
   "outputs": [
    {
     "name": "stdout",
     "output_type": "stream",
     "text": [
      "Let's go to Burger King for lunch\n"
     ]
    }
   ],
   "source": [
    "!python lunch.py"
   ]
  },
  {
   "cell_type": "code",
   "execution_count": 32,
   "id": "742d2a22-f074-4684-bf21-e12c19917bd3",
   "metadata": {},
   "outputs": [
    {
     "name": "stdout",
     "output_type": "stream",
     "text": [
      "Let's go to Pizza Hut for lunch\n"
     ]
    }
   ],
   "source": [
    "!python lunch.py"
   ]
  },
  {
   "cell_type": "code",
   "execution_count": 35,
   "id": "f1fb3dc0-23a4-4d7a-bcee-a61c64e3c3f3",
   "metadata": {},
   "outputs": [
    {
     "data": {
      "text/plain": [
       "20.085536923187668"
      ]
     },
     "execution_count": 35,
     "metadata": {},
     "output_type": "execute_result"
    }
   ],
   "source": [
    "import math\n",
    "\n",
    "math.exp(3)"
   ]
  },
  {
   "cell_type": "code",
   "execution_count": null,
   "id": "1dbd06c0-5966-4bf9-a180-a5f8d647a250",
   "metadata": {},
   "outputs": [],
   "source": [
    "# Cobain datetime, random, math."
   ]
  },
  {
   "cell_type": "code",
   "execution_count": 38,
   "id": "abe32aa3-bba7-47d1-b63c-02500a80eaee",
   "metadata": {},
   "outputs": [
    {
     "name": "stdout",
     "output_type": "stream",
     "text": [
      "Let's go to Burger King for lunch!\n",
      "Should we take out? Yes!\n"
     ]
    }
   ],
   "source": [
    "!python questions.py"
   ]
  },
  {
   "cell_type": "code",
   "execution_count": 39,
   "id": "2d0954ca-bfe4-46aa-a6f0-bb2e5939f5a7",
   "metadata": {},
   "outputs": [
    {
     "name": "stdout",
     "output_type": "stream",
     "text": [
      "Let's go to Wendys for lunch!\n",
      "Should we take out? Sorry, what?\n"
     ]
    }
   ],
   "source": [
    "!python questions.py"
   ]
  },
  {
   "cell_type": "code",
   "execution_count": 40,
   "id": "ef5ad477-13b8-4bea-943a-63dc030e6e32",
   "metadata": {},
   "outputs": [
    {
     "name": "stdout",
     "output_type": "stream",
     "text": [
      "Let's go to Lawless for lunch!\n",
      "Should we take out? Let me think first\n"
     ]
    }
   ],
   "source": [
    "!python questions.py"
   ]
  },
  {
   "cell_type": "code",
   "execution_count": null,
   "id": "77fd0ced-381d-42b3-991a-3af462a8a311",
   "metadata": {},
   "outputs": [],
   "source": [
    "# package itu dalah folder.\n",
    "# word_list itu didalam package. (Kuis qlue)"
   ]
  },
  {
   "cell_type": "code",
   "execution_count": 18,
   "id": "89bac252-c5f2-4d29-bfe6-c8b6d2c9840b",
   "metadata": {},
   "outputs": [
    {
     "name": "stdout",
     "output_type": "stream",
     "text": [
      "sittingaliceinto\n"
     ]
    }
   ],
   "source": [
    "!python generate_password.py"
   ]
  },
  {
   "cell_type": "code",
   "execution_count": 20,
   "id": "eb29b489-8d99-40b2-97d7-b2ac8451d866",
   "metadata": {},
   "outputs": [
    {
     "data": {
      "text/plain": [
       "datetime.datetime(2021, 10, 7, 0, 0)"
      ]
     },
     "execution_count": 20,
     "metadata": {},
     "output_type": "execute_result"
    }
   ],
   "source": [
    "import datetime\n",
    "\n",
    "datetime.datetime(year=2021, month=10, day=7)"
   ]
  },
  {
   "cell_type": "code",
   "execution_count": 22,
   "id": "37a0c568-4e6f-4426-9d49-84d8193f7082",
   "metadata": {},
   "outputs": [
    {
     "name": "stdout",
     "output_type": "stream",
     "text": [
      "[-0.9613974918795568, 0.8509035245341184, 0.14987720966295234, 0.7451131604793488, 0.7625584504796027, -0.9880316240928618, 0.9017883476488092, -0.008851309290403876, -0.13235175009777303, -0.9880316240928618, 0.6502878401571168, 0.017701925105413577, -0.428182669496151, -0.9917788534431158, -0.26237485370392877, -0.8462204041751706, -0.6636338842129675, -0.6435381333569995, 0.9637953862840878, -0.5440211108893698, -0.404037645323065, 0.2963685787093853, 0.5514266812416906, -0.13235175009777303, 0.9906073556948704, -0.9537526527594719, -0.9999902065507035, -0.9537526527594719, -0.9537526527594719, -0.7509872467716762, -0.9537526527594719, 0.7451131604793488, 0.9017883476488092, 0.017701925105413577, -0.404037645323065, 0.2963685787093853, 0.5514266812416906, -0.9613974918795568, -0.5440211108893698, -0.404037645323065, -0.8317747426285983, 0.9017883476488092, -0.428182669496151, -0.5365729180004349, -0.9537526527594719, 0.9017883476488092, 0.8509035245341184, 0.5514266812416906, -0.8462204041751706, -0.5440211108893698]\n"
     ]
    }
   ],
   "source": [
    "import math\n",
    "\n",
    "numbers = [random.randint(10, 50) for _ in range(50)]\n",
    "numbers_sin = [math.sin(number) for number in numbers]\n",
    "print(numbers_sin)"
   ]
  },
  {
   "cell_type": "code",
   "execution_count": 2,
   "id": "234953d2-bd6d-451b-8f73-82551bb7e7af",
   "metadata": {},
   "outputs": [
    {
     "name": "stdout",
     "output_type": "stream",
     "text": [
      "thoughtbanktwice\n"
     ]
    }
   ],
   "source": [
    "!python generate_password.py"
   ]
  },
  {
   "cell_type": "code",
   "execution_count": 1,
   "id": "66a272c2-9e6f-4366-88c3-d488e997dad3",
   "metadata": {},
   "outputs": [
    {
     "data": {
      "text/plain": [
       "'Hello World'"
      ]
     },
     "execution_count": 1,
     "metadata": {},
     "output_type": "execute_result"
    }
   ],
   "source": [
    "\"Hello World\""
   ]
  },
  {
   "cell_type": "code",
   "execution_count": 2,
   "id": "7a1ebea2-e4c7-4106-b0e5-b29a72de6427",
   "metadata": {},
   "outputs": [
    {
     "data": {
      "text/plain": [
       "17"
      ]
     },
     "execution_count": 2,
     "metadata": {},
     "output_type": "execute_result"
    }
   ],
   "source": [
    "10+7"
   ]
  },
  {
   "cell_type": "code",
   "execution_count": null,
   "id": "3ca28258-8327-4e2c-a329-32b0be8cd749",
   "metadata": {},
   "outputs": [],
   "source": []
  },
  {
   "cell_type": "code",
   "execution_count": null,
   "id": "a16ffb41-c37d-429c-af27-c7be137b2e37",
   "metadata": {},
   "outputs": [],
   "source": []
  },
  {
   "cell_type": "code",
   "execution_count": null,
   "id": "f2120f98-7c87-41fe-9ad4-42931fbfb1ed",
   "metadata": {},
   "outputs": [],
   "source": []
  },
  {
   "cell_type": "code",
   "execution_count": null,
   "id": "29a0d7f3-984c-4b6a-affb-be58a1ced30c",
   "metadata": {},
   "outputs": [],
   "source": []
  }
 ],
 "metadata": {
  "kernelspec": {
   "display_name": "Python 3 (ipykernel)",
   "language": "python",
   "name": "python3"
  },
  "language_info": {
   "codemirror_mode": {
    "name": "ipython",
    "version": 3
   },
   "file_extension": ".py",
   "mimetype": "text/x-python",
   "name": "python",
   "nbconvert_exporter": "python",
   "pygments_lexer": "ipython3",
   "version": "3.9.7"
  }
 },
 "nbformat": 4,
 "nbformat_minor": 5
}
