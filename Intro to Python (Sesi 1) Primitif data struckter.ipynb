{
 "cells": [
  {
   "cell_type": "markdown",
   "id": "03df0350-504d-4abd-90ac-20142fb22455",
   "metadata": {},
   "source": [
    "Welcome to data science career acceleration:\n",
    "Sesi 1- Intro to Python"
   ]
  },
  {
   "cell_type": "code",
   "execution_count": 5,
   "id": "5ca7ab2d-d947-4dc2-99a6-818217f3245c",
   "metadata": {},
   "outputs": [
    {
     "name": "stdout",
     "output_type": "stream",
     "text": [
      "55\n"
     ]
    }
   ],
   "source": [
    "print(25 + 30)"
   ]
  },
  {
   "cell_type": "markdown",
   "id": "dccffa31-c9f9-4dd9-a706-7229d19d87ee",
   "metadata": {},
   "source": [
    "Sebagai pekerja lepas, pemasukan tiap bulan saya tidak tentu. Bulan Januari kemairn saya mendapat pemasukan sebesar 1 juta rupiah, Februari Rp 500.000,-, dan Rp 800.000,- di bulan Maret. Berapa rata-rata pendapatan saya pada kuartal pertama di tahun ini?"
   ]
  },
  {
   "cell_type": "code",
   "execution_count": 13,
   "id": "d3e9e9c3-a87e-4b7c-ac58-8814fa1c3e99",
   "metadata": {},
   "outputs": [
    {
     "name": "stdout",
     "output_type": "stream",
     "text": [
      "7.500000000000001e-06\n"
     ]
    }
   ],
   "source": [
    "print(1000000 + 500000 + 800000 * 3)"
   ]
  },
  {
   "cell_type": "code",
   "execution_count": null,
   "id": "fb485052-1017-4704-99b0-c04308a8712c",
   "metadata": {},
   "outputs": [],
   "source": []
  },
  {
   "cell_type": "code",
   "execution_count": null,
   "id": "ca10c8a4-265c-4867-9d6f-df5215335719",
   "metadata": {},
   "outputs": [],
   "source": []
  },
  {
   "cell_type": "code",
   "execution_count": null,
   "id": "5c709555-47af-4424-bbde-8bc698360228",
   "metadata": {},
   "outputs": [],
   "source": []
  },
  {
   "cell_type": "code",
   "execution_count": 67,
   "id": "bb60982e-623c-4de9-a829-838536cadd79",
   "metadata": {},
   "outputs": [
    {
     "name": "stdout",
     "output_type": "stream",
     "text": [
      "Apa mungkin, kita diam saja melihat ain diperlakukan seperti itu?, tanya usop. \n",
      "Ihsan pun diam, berpikir.\n"
     ]
    }
   ],
   "source": [
    "fix =\"\"\"Apa mungkin, kita diam saja melihat ain diperlakukan seperti itu?, tanya usop. \n",
    "Ihsan pun diam, berpikir.\"\"\"\n",
    "\n",
    "print(fix)"
   ]
  },
  {
   "cell_type": "code",
   "execution_count": 4,
   "id": "6096d879-de5b-4fe0-8f66-174252ec587b",
   "metadata": {},
   "outputs": [
    {
     "name": "stdout",
     "output_type": "stream",
     "text": [
      "30\n",
      "5\n"
     ]
    }
   ],
   "source": [
    "print (25 + 5)\n",
    "print (10 - 5)"
   ]
  },
  {
   "cell_type": "code",
   "execution_count": 38,
   "id": "9849bbe9-e6f9-495b-a36b-a371bb500935",
   "metadata": {},
   "outputs": [
    {
     "name": "stdout",
     "output_type": "stream",
     "text": [
      "2021\n",
      "2019\n"
     ]
    }
   ],
   "source": [
    "current_year = 2021\n",
    "last_year = 2019\n",
    "print (current_year)\n",
    "print (last_year)"
   ]
  },
  {
   "cell_type": "code",
   "execution_count": 9,
   "id": "86797f29-0fba-4852-89d1-3b34e808d95b",
   "metadata": {},
   "outputs": [
    {
     "name": "stdout",
     "output_type": "stream",
     "text": [
      "10\n",
      "7\n",
      "12\n",
      "10 7 12\n"
     ]
    }
   ],
   "source": [
    "x ,y ,z = 10, 7 ,12\n",
    "print (x)\n",
    "print (y)\n",
    "print (z)\n",
    "print (x, y, z)"
   ]
  },
  {
   "cell_type": "code",
   "execution_count": 16,
   "id": "fe2f550e-6402-4143-98ea-5f369f38e1c7",
   "metadata": {},
   "outputs": [
    {
     "name": "stdout",
     "output_type": "stream",
     "text": [
      "0\n"
     ]
    }
   ],
   "source": [
    "nama_peserta = 0\n",
    "print (nama_peserta)"
   ]
  },
  {
   "cell_type": "code",
   "execution_count": 17,
   "id": "f8c28214-883e-4cad-9ae1-b4b4383210fa",
   "metadata": {},
   "outputs": [
    {
     "name": "stdout",
     "output_type": "stream",
     "text": [
      "0\n"
     ]
    }
   ],
   "source": [
    "nama_peserta = 0\n",
    "print (nama_peserta)"
   ]
  },
  {
   "cell_type": "code",
   "execution_count": 19,
   "id": "90e0f3a9-d356-4e7c-8e8c-d23b517e610a",
   "metadata": {},
   "outputs": [
    {
     "name": "stdout",
     "output_type": "stream",
     "text": [
      "2022\n"
     ]
    }
   ],
   "source": [
    "current_year = current_year + 1\n",
    "last_year = 2022\n",
    "print (current_year)"
   ]
  },
  {
   "cell_type": "code",
   "execution_count": 21,
   "id": "db94b742-8b16-4aad-adba-3a96856585f5",
   "metadata": {},
   "outputs": [
    {
     "name": "stdout",
     "output_type": "stream",
     "text": [
      "2200000\n",
      "1100000.0\n",
      "1210000000000.0\n"
     ]
    }
   ],
   "source": [
    "my_population = 1200000\n",
    "my_population = my_population + 1000000\n",
    "print (my_population)\n",
    "\n",
    "my_population *= 0.5\n",
    "print (my_population)\n",
    "\n",
    "my_population **= 2\n",
    "print (my_population)"
   ]
  },
  {
   "cell_type": "code",
   "execution_count": 23,
   "id": "f8664066-1e5c-47ec-8678-d9b4673dcb02",
   "metadata": {},
   "outputs": [
    {
     "data": {
      "text/plain": [
       "False"
      ]
     },
     "execution_count": 23,
     "metadata": {},
     "output_type": "execute_result"
    }
   ],
   "source": [
    "3 == 5"
   ]
  },
  {
   "cell_type": "markdown",
   "id": "9c3e9469-ae67-4c03-bf54-beb13a99dcd0",
   "metadata": {},
   "source": [
    "Bahasan Operator - Operator. \n",
    "Penugasan Python menggunakan angka (Done)"
   ]
  },
  {
   "cell_type": "markdown",
   "id": "aa80d70e-4194-482d-bbe9-c037d38b4733",
   "metadata": {},
   "source": [
    "Tipe Data Numerik (int, bilangan bulat)\n",
    "(float, bilangan desimal) (Complex, nilai kompleks)"
   ]
  },
  {
   "cell_type": "code",
   "execution_count": 24,
   "id": "5d66fa94-f4c1-41d5-b084-607d8039fe7c",
   "metadata": {},
   "outputs": [
    {
     "name": "stdout",
     "output_type": "stream",
     "text": [
      "<class 'int'> <class 'int'>\n",
      "<class 'int'> <class 'int'>\n"
     ]
    }
   ],
   "source": [
    "print (type(10), type(0))\n",
    "print (type(1), type(-10))"
   ]
  },
  {
   "cell_type": "code",
   "execution_count": 37,
   "id": "8b8adf9e-2417-4f62-83bb-b5b9ddf2495e",
   "metadata": {},
   "outputs": [
    {
     "name": "stdout",
     "output_type": "stream",
     "text": [
      "tipe data dari 2021 : <class 'int'>\n",
      "tipe data dari 2019 : <class 'int'>\n"
     ]
    }
   ],
   "source": [
    "print(\"tipe data dari\", current_year, \":\", type(current_year))\n",
    "print(\"tipe data dari\", last_year, \":\", type(last_year))\n"
   ]
  },
  {
   "cell_type": "code",
   "execution_count": 30,
   "id": "fddd14d3-1469-4b2c-b155-dd33b8703c1c",
   "metadata": {},
   "outputs": [
    {
     "name": "stdout",
     "output_type": "stream",
     "text": [
      "10 3\n",
      "10.0 3.14\n",
      "3.14\n"
     ]
    }
   ],
   "source": [
    "x_int = 10\n",
    "y_float = 3.14\n",
    "\n",
    "x_float = float(x_int)\n",
    "y_int = int(y_float)\n",
    "\n",
    "print(x_int, y_int)\n",
    "print (x_float, y_float)\n",
    "print(float(y_float))"
   ]
  },
  {
   "cell_type": "code",
   "execution_count": 31,
   "id": "6c36f426-9d18-4757-ad4b-87609c257727",
   "metadata": {},
   "outputs": [
    {
     "name": "stdout",
     "output_type": "stream",
     "text": [
      "0 0.0\n",
      "True\n",
      "True\n"
     ]
    }
   ],
   "source": [
    "simple_int = int()\n",
    "simple_float = float()\n",
    "\n",
    "print(simple_int, simple_float)\n",
    "print(simple_int == 0)\n",
    "print(simple_float == 0.)"
   ]
  },
  {
   "cell_type": "code",
   "execution_count": 68,
   "id": "f30a229e-2472-486c-acb8-0c3e0c620b68",
   "metadata": {},
   "outputs": [
    {
     "name": "stdout",
     "output_type": "stream",
     "text": [
      "Selamat Datang di Bitlabs!\n",
      "Arif, cepat kesini!, ujar ibunya.\n",
      "Mungkin al'ad sudah tidak sanggup\n",
      "\n",
      "Tapi, apa mungkin?\n"
     ]
    }
   ],
   "source": [
    "bootcamp = \"Selamat Datang di Bitlabs!\"\n",
    "novel = \"\"\"Arif, cepat kesini!, ujar ibunya.\"\"\"\n",
    "text = \"\"\"Mungkin al'ad sudah tidak sanggup\n",
    "\n",
    "Tapi, apa mungkin?\"\"\"\n",
    "\n",
    "print(bootcamp)\n",
    "print(novel)\n",
    "print(text)"
   ]
  },
  {
   "cell_type": "code",
   "execution_count": 42,
   "id": "6451b27e-ecbb-41f1-a396-0b7e1f834296",
   "metadata": {},
   "outputs": [
    {
     "name": "stdout",
     "output_type": "stream",
     "text": [
      "10000\n",
      "12000\n"
     ]
    }
   ],
   "source": [
    "in_for_monthly_sales= 10000\n",
    "year_last_month= 12000\n",
    "print(in_for_monthly_sales)\n",
    "print(year_last_month)"
   ]
  },
  {
   "cell_type": "markdown",
   "id": "983512f6-ab98-4c50-b3bf-9e70a5e1fd10",
   "metadata": {},
   "source": [
    "Boolean. Nilai Boolean ada 2 jenis (True dan False) untuk numeriknya = 1 dan 0"
   ]
  },
  {
   "cell_type": "code",
   "execution_count": 43,
   "id": "88d16471-d82c-4ecc-ba12-c0068cb0c2d0",
   "metadata": {},
   "outputs": [
    {
     "name": "stdout",
     "output_type": "stream",
     "text": [
      "False\n",
      "True\n",
      "False\n",
      "False\n",
      "True\n",
      "False\n",
      "True\n",
      "False\n",
      "False\n"
     ]
    }
   ],
   "source": [
    "print(5 < 3)\n",
    "print(3 <= 5)\n",
    "print(5 != 5.)\n",
    "print(0 != 0.)\n",
    "print(\"bit\" == \"bit\")\n",
    "print(\"bit\" == \"Bit\")\n",
    "print(\"abjad\" > \"Abjad\")\n",
    "print(\"abjad\" > \"abjaf\")\n",
    "print(\"1\" >= \"10\")"
   ]
  },
  {
   "cell_type": "code",
   "execution_count": 45,
   "id": "95895ee5-9f3b-4176-a8bc-dd44a9ebb72c",
   "metadata": {},
   "outputs": [
    {
     "name": "stdout",
     "output_type": "stream",
     "text": [
      "False <class 'bool'>\n",
      "False <class 'bool'>\n"
     ]
    }
   ],
   "source": [
    "is_more = x > z\n",
    "print(is_more, type(is_more))\n",
    "\n",
    "is_x_more_z = x > z\n",
    "print(is_x_more_z, type(is_x_more_z))"
   ]
  },
  {
   "cell_type": "code",
   "execution_count": 49,
   "id": "f0232047-d228-4f8b-8cb1-f33efc78bec6",
   "metadata": {},
   "outputs": [
    {
     "name": "stdout",
     "output_type": "stream",
     "text": [
      "1 0\n",
      "1.0 0.0\n",
      "True False\n"
     ]
    }
   ],
   "source": [
    "print(int(True), int(False))\n",
    "print(float(True), float(False))\n",
    "      \n",
    "      \n",
    "print(bool(\"False\"), bool(\"\"))"
   ]
  },
  {
   "cell_type": "code",
   "execution_count": 72,
   "id": "2c2e7726-b2b3-447c-98cd-ea2f1f432524",
   "metadata": {},
   "outputs": [
    {
     "ename": "SyntaxError",
     "evalue": "invalid syntax (Temp/ipykernel_3872/3454153558.py, line 1)",
     "output_type": "error",
     "traceback": [
      "\u001b[1;36m  File \u001b[1;32m\"C:\\Users\\ASUS\\AppData\\Local\\Temp/ipykernel_3872/3454153558.py\"\u001b[1;36m, line \u001b[1;32m1\u001b[0m\n\u001b[1;33m    <table>\u001b[0m\n\u001b[1;37m    ^\u001b[0m\n\u001b[1;31mSyntaxError\u001b[0m\u001b[1;31m:\u001b[0m invalid syntax\n"
     ]
    }
   ],
   "source": []
  },
  {
   "cell_type": "code",
   "execution_count": 8,
   "id": "0cb4b793-a839-4001-856a-5dfa91d2b581",
   "metadata": {},
   "outputs": [],
   "source": [
    "p = q = 1\n",
    "p_and_notq = p and not q\n",
    "notp_and_q = not p and q\n",
    "p_or_notq = not q or p\n",
    "notp_or_q = not p or q\n",
    "notp_or_notq = not p or not q"
   ]
  },
  {
   "cell_type": "code",
   "execution_count": 9,
   "id": "a9a229c5-dc77-4106-97ac-4570d5745867",
   "metadata": {},
   "outputs": [
    {
     "name": "stdout",
     "output_type": "stream",
     "text": [
      "1 True\n",
      "1 True\n",
      "False\n",
      "1\n",
      "False\n"
     ]
    }
   ],
   "source": [
    "print(p, bool(p))\n",
    "print(q, bool(q))\n",
    "print(p_and_notq)\n",
    "print(notp_or_q)\n",
    "print(notp_or_notq)"
   ]
  },
  {
   "cell_type": "code",
   "execution_count": null,
   "id": "64a3df0c-5bac-440e-8205-298aa7f23d04",
   "metadata": {},
   "outputs": [],
   "source": []
  },
  {
   "cell_type": "code",
   "execution_count": null,
   "id": "7d8bd089-04c6-427f-9b8c-920b7c386f36",
   "metadata": {},
   "outputs": [],
   "source": []
  },
  {
   "cell_type": "code",
   "execution_count": null,
   "id": "8efeb8ab-c038-47a5-9675-d01b6f8c6437",
   "metadata": {},
   "outputs": [],
   "source": []
  },
  {
   "cell_type": "code",
   "execution_count": null,
   "id": "06494a30-4ad8-47f6-8216-ce5c24ae212e",
   "metadata": {},
   "outputs": [],
   "source": []
  },
  {
   "cell_type": "code",
   "execution_count": null,
   "id": "379dd87b-6220-48fb-b892-6e2bc8499f3f",
   "metadata": {},
   "outputs": [],
   "source": []
  },
  {
   "cell_type": "code",
   "execution_count": null,
   "id": "c68512ef-09fe-412b-ae80-fc1cd1d60391",
   "metadata": {},
   "outputs": [],
   "source": []
  },
  {
   "cell_type": "code",
   "execution_count": null,
   "id": "a29faac7-eed3-497e-9ac3-4bc1afc326c1",
   "metadata": {},
   "outputs": [],
   "source": []
  },
  {
   "cell_type": "code",
   "execution_count": null,
   "id": "3750d85f-8aae-439b-9f86-9be021c86c64",
   "metadata": {},
   "outputs": [],
   "source": []
  },
  {
   "cell_type": "code",
   "execution_count": null,
   "id": "eb24a3ab-9f52-494a-ac12-128ebfe66314",
   "metadata": {},
   "outputs": [],
   "source": []
  },
  {
   "cell_type": "code",
   "execution_count": null,
   "id": "230d732c-e00e-4d7d-b4b9-b81fd79bc53e",
   "metadata": {},
   "outputs": [],
   "source": []
  },
  {
   "cell_type": "code",
   "execution_count": null,
   "id": "4af11992-80a5-4c58-ab3a-d178272493a8",
   "metadata": {},
   "outputs": [],
   "source": []
  },
  {
   "cell_type": "code",
   "execution_count": null,
   "id": "d9002892-3335-49b1-b452-1bf1bf5d7f18",
   "metadata": {},
   "outputs": [],
   "source": []
  },
  {
   "cell_type": "code",
   "execution_count": null,
   "id": "c509f1e0-a97d-4e84-9a90-3d49f4d37f02",
   "metadata": {},
   "outputs": [],
   "source": []
  },
  {
   "cell_type": "code",
   "execution_count": null,
   "id": "e37ff364-7c02-4cbf-a1c7-65e3ea94f620",
   "metadata": {},
   "outputs": [],
   "source": []
  },
  {
   "cell_type": "code",
   "execution_count": null,
   "id": "c1d3046a-2fb5-4042-b762-1d80958676f9",
   "metadata": {},
   "outputs": [],
   "source": []
  },
  {
   "cell_type": "code",
   "execution_count": null,
   "id": "7c366e11-0b79-415b-aee9-5bde6b3244ab",
   "metadata": {},
   "outputs": [],
   "source": []
  },
  {
   "cell_type": "code",
   "execution_count": null,
   "id": "3a3efe89-cb90-4efe-9377-ec9206736380",
   "metadata": {},
   "outputs": [],
   "source": []
  },
  {
   "cell_type": "code",
   "execution_count": null,
   "id": "181d9e95-26c2-449a-a286-81c972157bc5",
   "metadata": {},
   "outputs": [],
   "source": []
  }
 ],
 "metadata": {
  "kernelspec": {
   "display_name": "Python 3 (ipykernel)",
   "language": "python",
   "name": "python3"
  },
  "language_info": {
   "codemirror_mode": {
    "name": "ipython",
    "version": 3
   },
   "file_extension": ".py",
   "mimetype": "text/x-python",
   "name": "python",
   "nbconvert_exporter": "python",
   "pygments_lexer": "ipython3",
   "version": "3.9.7"
  }
 },
 "nbformat": 4,
 "nbformat_minor": 5
}
