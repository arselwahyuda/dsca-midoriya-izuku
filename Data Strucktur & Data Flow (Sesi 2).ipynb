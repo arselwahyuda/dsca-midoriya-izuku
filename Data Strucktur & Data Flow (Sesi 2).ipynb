{
 "cells": [
  {
   "cell_type": "code",
   "execution_count": 4,
   "id": "cf7ee30b-36de-4446-bac5-41c765681b91",
   "metadata": {},
   "outputs": [
    {
     "name": "stdout",
     "output_type": "stream",
     "text": [
      "Hello World, I'm Arsel. Nice to meet you\n"
     ]
    }
   ],
   "source": [
    "intro = \"Hello World, \"\n",
    "myself = \"I'm Arsel. Nice to meet you\"\n",
    "print(intro + myself)"
   ]
  },
  {
   "cell_type": "code",
   "execution_count": 16,
   "id": "631e8833-ae08-431c-a1ad-6db0905b2299",
   "metadata": {},
   "outputs": [
    {
     "name": "stdout",
     "output_type": "stream",
     "text": [
      "[] <class 'list'>\n",
      "[1, 1, 2, 3] <class 'list'>\n"
     ]
    }
   ],
   "source": [
    "print([], type([]))\n",
    "print([1, 1, 2, 3], type([1, 1, 2, 3]))"
   ]
  },
  {
   "cell_type": "code",
   "execution_count": 11,
   "id": "67fa3c15-75a7-4302-8d3d-6e4f5b0e1713",
   "metadata": {},
   "outputs": [
    {
     "name": "stdout",
     "output_type": "stream",
     "text": [
      "lenght of empty_list var: 0 []\n",
      "lenght of last_5_years var: 5 [2016, 2017, 2018, 2019, 2020]\n",
      "lenght of list_mix var: 7 [100, 3.14, 'bitlabs', True, -9, (7+2j), -1.0]\n"
     ]
    }
   ],
   "source": [
    "# define lists\n",
    "empty_list = []\n",
    "last_5_years = [2016, 2017, 2018, 2019, 2020]\n",
    "list_mix = [100, 3.14, \"bitlabs\", True, -9, 7+2j, -1.]\n",
    "\n",
    "print(\"lenght of empty_list var:\", len(empty_list), empty_list)\n",
    "print(\"lenght of last_5_years var:\", len(last_5_years), last_5_years)\n",
    "print(\"lenght of list_mix var:\", len(list_mix), list_mix)"
   ]
  },
  {
   "cell_type": "code",
   "execution_count": 1,
   "id": "d51b9615-8cde-40ff-822b-082bc922fb78",
   "metadata": {},
   "outputs": [
    {
     "name": "stdout",
     "output_type": "stream",
     "text": [
      "lenght of empty_list var: 0 []\n",
      "lenght of last_5_years var: 5 [2016, 2017, 2018, 2019, 2020]\n",
      "lenght of list_mix var: 7 [100, 3.14, 'Bitlabs', True, -9, (7+2j), -1.0]\n"
     ]
    }
   ],
   "source": [
    "empty_list = []\n",
    "last_5_years = [2016, 2017, 2018, 2019, 2020]\n",
    "list_mix = [100, 3.14, \"Bitlabs\", True, -9, 7+2j, -1.]\n",
    "\n",
    "print(\"lenght of empty_list var:\", len(empty_list), empty_list)\n",
    "print(\"lenght of last_5_years var:\", len(last_5_years), last_5_years)\n",
    "print(\"lenght of list_mix var:\", len(list_mix), list_mix)"
   ]
  },
  {
   "cell_type": "code",
   "execution_count": null,
   "id": "3f15f581-28f6-4813-b984-cd30a765c017",
   "metadata": {},
   "outputs": [],
   "source": []
  },
  {
   "cell_type": "code",
   "execution_count": 17,
   "id": "014dcacf-3acf-4ef1-bbae-9c6106d4e1a3",
   "metadata": {},
   "outputs": [
    {
     "name": "stdout",
     "output_type": "stream",
     "text": [
      "numbers less than ten ['0', '1', '2', '3', '4', '5', '6', '7', '8', '9']\n",
      "biggest to smallest number: ['9', '8', '7', '6', '5', '4', '3', '2', '1', '0']\n",
      "0bit 1bit 2bit 3bit 4bit 5bit 6bit 7bit 8bit 9\n"
     ]
    }
   ],
   "source": [
    "#Kuis\n",
    "less_than_ten = [\"0\", \"1\", \"2\", \"3\", \"4\", \"5\", \"6\", \"7\", \"8\", \"9\"]\n",
    "print(\"numbers less than ten\", less_than_ten)\n",
    "\n",
    "reverse_less_than_ten = sorted(less_than_ten, reverse=True)\n",
    "print(\"biggest to smallest number:\", reverse_less_than_ten)\n",
    "\n",
    "# Join\n",
    "text_bit = \"bit \"\n",
    "text_bit_ten = text_bit.join(less_than_ten)\n",
    "print(text_bit_ten)"
   ]
  },
  {
   "cell_type": "code",
   "execution_count": 24,
   "id": "b4caeb1f-0e98-42ce-9046-f0201f7bacab",
   "metadata": {},
   "outputs": [
    {
     "name": "stdout",
     "output_type": "stream",
     "text": [
      "names[0]: John\n",
      "names[1]: Andrew\n",
      "names[2]: Sebastian\n",
      "names[3]: Josh\n",
      "\n",
      "names[-4]: John\n",
      "names[-3]: Andrew\n",
      "names[-2]: Sebastian\n",
      "names[-1]: Josh\n",
      "\n",
      "first name: John John\n",
      "last name: Josh Josh\n"
     ]
    }
   ],
   "source": [
    "# Indexing and Slicing\n",
    "# Penomoran awal index dalam list yaitu 0, 1, 2. dst.\n",
    "\n",
    "names = [\"John\", \"Andrew\", \"Sebastian\", \"Josh\"]\n",
    "n_names = len(names)\n",
    "\n",
    "print(\"names[0]:\", names[0])\n",
    "print(\"names[1]:\", names[1])\n",
    "print(\"names[2]:\", names[2])\n",
    "print(\"names[3]:\", names[3])\n",
    "print()\n",
    "print(\"names[-4]:\", names[-4])\n",
    "print(\"names[-3]:\", names[-3])\n",
    "print(\"names[-2]:\", names[-2])\n",
    "print(\"names[-1]:\", names[-1])\n",
    "print()\n",
    "print(\"first name:\", names[0], names[-n_names])\n",
    "print(\"last name:\", names[n_names-1], names[-1])"
   ]
  },
  {
   "cell_type": "code",
   "execution_count": null,
   "id": "b8fc7355-e47f-4953-ba80-54a99f8e65c3",
   "metadata": {},
   "outputs": [],
   "source": [
    "# Kuis random_dates\n",
    "\n",
    "random_dates = ['June 21, 2001', 'December 4, 2002', 'August 23,']"
   ]
  },
  {
   "cell_type": "code",
   "execution_count": 26,
   "id": "e232427c-6d1b-4301-9605-389fdfe8592b",
   "metadata": {},
   "outputs": [
    {
     "name": "stdout",
     "output_type": "stream",
     "text": [
      "<class 'list'>\n",
      "<class 'list'>\n"
     ]
    }
   ],
   "source": [
    "# Tuple\n",
    "# Penggunaan Tuple untuk dalam penggunaan list, misalnya:\n",
    "# Ketika tidak ingin mengubah elemen (update, dll anti ribet)\n",
    "# Kekurangan Tuple tidak bisa diubah atau diganti.\n",
    "print(type([10]))\n",
    "print(type([10,]))"
   ]
  },
  {
   "cell_type": "code",
   "execution_count": null,
   "id": "26c6f9a5-7bd4-4ba9-a3e8-518b6bd06d4d",
   "metadata": {},
   "outputs": [],
   "source": [
    "empty_tuple : ()\n",
    "print(empty_tuple, type(empty_tuple))\n",
    "\n",
    "ceo = (\"Mark\",\"elon\")\n",
    "print(ceo, type(ceo))\n",
    "\n",
    "same_ceo = \"Mark\", \"elon\"\n",
    "print(ceo, type(same_ceo))\n",
    "\n",
    "bootcamp = \"Bitlabs\"\n",
    "print(bootcamp, type(bootcamp))\n",
    "\n",
    "str_bootcamp ="
   ]
  },
  {
   "cell_type": "code",
   "execution_count": 31,
   "id": "8f535ab7-22fc-4a48-bc8b-003e9dda0ef3",
   "metadata": {},
   "outputs": [
    {
     "name": "stdout",
     "output_type": "stream",
     "text": [
      "(-6172882812192, 108.2162119)\n",
      "-6172882812192 108.2162119\n"
     ]
    }
   ],
   "source": [
    "location = -6172882812192, 108.2162119\n",
    "print(location)\n",
    "\n",
    "longitude, latitude = location\n",
    "print(longitude, latitude)"
   ]
  },
  {
   "cell_type": "code",
   "execution_count": null,
   "id": "d1ec31c9-6f46-46d5-925a-56f0cb2b67ef",
   "metadata": {},
   "outputs": [],
   "source": [
    "first_quarter_months = [\"January\", \"February\", \"March\"]\n",
    "\n",
    "print(first_quarter_months), type(tuple(first_quarter_months))"
   ]
  },
  {
   "cell_type": "code",
   "execution_count": null,
   "id": "24b3af90-0649-4b08-92fd-51409a1d77fd",
   "metadata": {},
   "outputs": [],
   "source": [
    "# Kegunaan Set (Kegunaanya untuk mengindetifikasi hal yang double atau terduplikat)"
   ]
  },
  {
   "cell_type": "code",
   "execution_count": 32,
   "id": "27d41dbc-183f-44f5-bb49-95bd04bcee3e",
   "metadata": {},
   "outputs": [
    {
     "name": "stdout",
     "output_type": "stream",
     "text": [
      "[1, 2, 3, 4, 5, 1]\n",
      "{1, 2, 3, 4, 5, 'Stuart'} <class 'set'>\n",
      "{3, 'Stuart', 'Bob', 'Michael'} <class 'set'>\n"
     ]
    }
   ],
   "source": [
    "set_is_unique = {1, 2, 3, 4, 5, 1, \"Stuart\"} # Akan menghasilkan {1, 2, 3, 4, 5}\n",
    "list_isnt_unique = [1, 2, 3, 4, 5, 1]\n",
    "string_in_set = {\"Bob\", \"Michael\", \"Stuart\", \"Bob\", \"Stuart\", 3}\n",
    "\n",
    "print(list_isnt_unique)\n",
    "print(set_is_unique, type(set_is_unique))\n",
    "print(string_in_set, type(string_in_set))"
   ]
  },
  {
   "cell_type": "code",
   "execution_count": 40,
   "id": "551dc858-e27b-48fd-ad21-08fc10d5b67c",
   "metadata": {},
   "outputs": [
    {
     "name": "stdout",
     "output_type": "stream",
     "text": [
      "Book Now\n"
     ]
    }
   ],
   "source": [
    "price = 20000\n",
    "if price == 20000: #Kenapa harus pakai simbol >= sembagai logika saja jika uang user lebih atau kurang dari value\n",
    "   print(\"Book Now\")"
   ]
  },
  {
   "cell_type": "code",
   "execution_count": 3,
   "id": "602e9e1b-301d-45ab-8df1-58e3d6f72eed",
   "metadata": {},
   "outputs": [
    {
     "name": "stdout",
     "output_type": "stream",
     "text": [
      "125\n",
      "15\n",
      "45\n"
     ]
    }
   ],
   "source": [
    "print(5**3)\n",
    "print(5*3)\n",
    "print(5*3 + 5*3 + 5*3)"
   ]
  },
  {
   "cell_type": "code",
   "execution_count": 6,
   "id": "7d1e5ef7-3d82-4e49-9b5c-d68d8bb20af4",
   "metadata": {},
   "outputs": [
    {
     "name": "stdout",
     "output_type": "stream",
     "text": [
      "1766666.6666666667\n",
      "3900000\n"
     ]
    }
   ],
   "source": [
    "print(1000000 + 500000 + 800000 / 3)\n",
    "print(1000000 + 500000 + 800000 * 3)"
   ]
  },
  {
   "cell_type": "code",
   "execution_count": 14,
   "id": "10ccd0eb-5869-4772-92c2-48d1b8b54b6e",
   "metadata": {},
   "outputs": [
    {
     "name": "stdout",
     "output_type": "stream",
     "text": [
      "{'Jakarata': 20.8, 'Surabaya': 18.2, 'Bandung': 15.1, 'Semarang': 12.3} <class 'dict'>\n"
     ]
    }
   ],
   "source": [
    "# keys\tvalue Jakarta\t20.8 Surabaya\t18.2 Bandung\t15.1 Semarang\t12.3\n",
    "\n",
    "# Cara Mendefinisikan Dict, Keys and values\n",
    "# height = {\"john\": 166, \"stuart\": 169, \"kevin\": 171}\n",
    "\n",
    "# empty_dict = dict()\n",
    "# dict_keys(['john', 'stuart', 'kevin', 'Kevin'])\n",
    "# dict_values([190, 169, 180, 167])\n",
    "\n",
    "population = {\"Jakarata\": 20.8, \"Surabaya\": 18.2, \"Bandung\": 15.1, \"Semarang\": 12.3}\n",
    "print(population, type(population))"
   ]
  },
  {
   "cell_type": "code",
   "execution_count": 16,
   "id": "b122ecf8-753a-46bd-a44a-7abca8a76dac",
   "metadata": {},
   "outputs": [
    {
     "name": "stdout",
     "output_type": "stream",
     "text": [
      "15.1\n",
      "18.2\n",
      "12.3\n"
     ]
    }
   ],
   "source": [
    "print(population[\"Bandung\"])\n",
    "print(population[\"Surabaya\"])\n",
    "print(population[\"Semarang\"])"
   ]
  },
  {
   "cell_type": "code",
   "execution_count": 23,
   "id": "1a7809ae-bff5-444e-8f3f-6a3dc128217f",
   "metadata": {},
   "outputs": [
    {
     "name": "stdout",
     "output_type": "stream",
     "text": [
      "female names: {'Kate', 'Lee', 'Mary', 'Sue'}\n",
      "male names: {'Lee', 'Tom', 'Eric', 'Adam'}\n",
      "all unique names: {'Eric', 'Kate', 'Mary', 'Adam', 'Lee', 'Tom', 'Sue'}\n",
      "{'Lee'}\n",
      "Only female name only {'Kate', 'Mary', 'Sue'}\n"
     ]
    }
   ],
   "source": [
    "female_names = {\"Sue\", \"Mary\", \"Kate\", \"Lee\"}\n",
    "male_names = {\"Eric\", \"Lee\", \"Tom\", \"Adam\"}\n",
    "print(\"female names:\", female_names)\n",
    "print(\"male names:\", male_names)\n",
    "\n",
    "all_names = female_names.union(male_names)\n",
    "print(\"all unique names:\", all_names)\n",
    "\n",
    "female_male_names = female_names.intersection(male_names)\n",
    "print(female_male_names)\n",
    "\n",
    "only_female = female_names.difference(male_names)\n",
    "only_male = male_names.difference(female_names)\n",
    "\n",
    "print(\"Only female name only\", only_female)"
   ]
  },
  {
   "cell_type": "code",
   "execution_count": null,
   "id": "7af28e38-4deb-4632-bff6-4fbace1b9ccf",
   "metadata": {},
   "outputs": [],
   "source": [
    "random_dates : ['June 21, 2001', 'December 4, 2002', 'August 23, 2003', 'March 29, 2004', 'August 1, 2005', 'July 22, 2006', 'July 11, 2007', 'November 13, 2008', 'March 20, 2009', 'March 9, 2010']\n",
    "\n",
    "even_dates = random_dates [1::2]\n",
    "print(even_dates)\n",
    "\n",
    "odd_dates = random_dates [0::2]\n",
    "print(odd_dates)"
   ]
  },
  {
   "cell_type": "code",
   "execution_count": null,
   "id": "63a5301f-3cd1-4fb2-8a8d-cb27843414e8",
   "metadata": {},
   "outputs": [],
   "source": [
    "# Kuis:\n",
    "# Dengan menggunakan pernyataan kondisional, /\n",
    "# coba implementasikan beberapa kemungkinan untuk memenangkan doorprize seperti pada tabel di bawah.\n",
    "# points\tprize\n",
    "# 1 - 50\twooden rabbit\n",
    "# 51 - 150\tno prize\n",
    "# 151 - 180\twafer-thin mint\n",
    "# 181 - 200\tpenguin \n",
    "\n",
    "# 2.Misalkan kita ingin mengecek apakah suatu list memiliki elemen atau tidak. \n",
    "# Jika tidak ada, maka tampilkan \"Sayang sekali, tidak ada elemen di sini\". Jika ada, tampilkan \"Untung ada elemennya!\"."
   ]
  },
  {
   "cell_type": "code",
   "execution_count": 1,
   "id": "8a51924f-0d70-4633-a4a0-62849f9dc77b",
   "metadata": {},
   "outputs": [
    {
     "name": "stdout",
     "output_type": "stream",
     "text": [
      "let's buy a brand new novel\n"
     ]
    }
   ],
   "source": [
    "# Contoh:\n",
    "money = 80000\n",
    "\n",
    "if (money >= 20000) and (money < 75000):\n",
    "    print(\"let's buy a comic\")\n",
    "elif (money >= 75000) and (money < 100000):\n",
    "    print(\"let's buy a brand new novel\")\n",
    "elif money >= 100000:\n",
    "    print(\"Yup! let's buy the expensive magazine\")\n",
    "else:\n",
    "    print(\"let's go home and collect more money\")"
   ]
  },
  {
   "cell_type": "code",
   "execution_count": 13,
   "id": "ff042e71-0e23-4346-88f4-0510efe23526",
   "metadata": {},
   "outputs": [
    {
     "name": "stdout",
     "output_type": "stream",
     "text": [
      "Congratulation you got Penguin\n",
      "Untung ada elemennya!\n"
     ]
    }
   ],
   "source": [
    "# Kuis if, elif, else.\n",
    "\n",
    "# Soal nomor 1.\n",
    "points = 183\n",
    "\n",
    "if (points >= 1) and (points < 51):\n",
    "    print(\"Wooden Rabbit\")\n",
    "elif (points >= 51) and (points < 151):\n",
    "    print(\"Sorry no Prize, Try next time!\")\n",
    "elif (points >= 151) and (points < 180):\n",
    "    print(\"You Got it wafer-thin mint\")\n",
    "elif (points >= 181) and (points < 200):\n",
    "    print(\"Congratulation you got Penguin\")\n",
    "else:\n",
    "    print(\"Try Again\")\n",
    "\n",
    "# Soal nomor 2\n",
    "# Misalkan kita ingin mengecek \n",
    "# apakah suatu list memiliki elemen atau tidak. \n",
    "# Jika tidak ada, maka tampilkan \"Sayang sekali, tidak ada elemen di sini\". \n",
    "# Jika ada, tampilkan \"Untung ada elemennya!\".\n",
    "\n",
    "elemen = [5,4,3,2,1]\n",
    "number = 4\n",
    "\n",
    "if number in elemen :\n",
    "    print(\"Untung ada elemennya!\")\n",
    "else : \n",
    "    print(\"Sayang sekali, tidak ada elemen di sini\")"
   ]
  },
  {
   "cell_type": "code",
   "execution_count": 10,
   "id": "8f8e518a-4ebf-4413-9bc9-2a32aca13bf1",
   "metadata": {},
   "outputs": [
    {
     "name": "stdout",
     "output_type": "stream",
     "text": [
      "Found 2120 in DSCA012120. DSCA012120 is valid!\n"
     ]
    }
   ],
   "source": [
    "# Method format hanya bisa digunakan untuk \"strings\"\n",
    "# Contoh dibawah:\n",
    "\n",
    "ids = \"DSCA012120\"\n",
    "batch_prefix = \"2120\"\n",
    "if batch_prefix in ids:\n",
    "    print(\"Found {} in {}. {} is valid!\".format(batch_prefix, ids, ids))\n",
    "else:\n",
    "    print(\"Not found {}. {} is not valid!\".format(batch_prefix, ids))"
   ]
  },
  {
   "cell_type": "code",
   "execution_count": null,
   "id": "cecbe9d2-0b7d-411a-a004-5d17fe9d79a1",
   "metadata": {},
   "outputs": [],
   "source": []
  },
  {
   "cell_type": "code",
   "execution_count": null,
   "id": "62e05212-bb84-4eff-a905-599d5e258c0c",
   "metadata": {},
   "outputs": [],
   "source": []
  },
  {
   "cell_type": "code",
   "execution_count": null,
   "id": "c29f1cb6-5fe8-4905-a49c-f8add5996282",
   "metadata": {},
   "outputs": [],
   "source": []
  },
  {
   "cell_type": "code",
   "execution_count": null,
   "id": "6464a17e-247c-4601-83bf-7a1778f892d4",
   "metadata": {},
   "outputs": [],
   "source": []
  },
  {
   "cell_type": "code",
   "execution_count": null,
   "id": "bb46c9fb-f686-498a-8bed-c212eebb41c5",
   "metadata": {},
   "outputs": [],
   "source": []
  },
  {
   "cell_type": "code",
   "execution_count": null,
   "id": "dd8e1b7c-bfa9-425d-8d87-0bd5870adb29",
   "metadata": {},
   "outputs": [],
   "source": []
  },
  {
   "cell_type": "code",
   "execution_count": null,
   "id": "383fec4d-a2e3-46aa-adc1-0425ecbab299",
   "metadata": {},
   "outputs": [],
   "source": []
  },
  {
   "cell_type": "code",
   "execution_count": null,
   "id": "a9fdec6c-a6d7-4467-9cee-a70b3d094010",
   "metadata": {},
   "outputs": [],
   "source": []
  },
  {
   "cell_type": "code",
   "execution_count": null,
   "id": "7eecdc3c-44e5-4519-ba39-74f62c3b6b03",
   "metadata": {},
   "outputs": [],
   "source": []
  },
  {
   "cell_type": "code",
   "execution_count": null,
   "id": "338c0bfa-e0de-4a25-8d5d-1c83e2f34989",
   "metadata": {},
   "outputs": [],
   "source": []
  },
  {
   "cell_type": "code",
   "execution_count": null,
   "id": "99b2e3a6-abfc-488d-ace1-468a0338acc9",
   "metadata": {},
   "outputs": [],
   "source": []
  },
  {
   "cell_type": "code",
   "execution_count": null,
   "id": "d9ad59d1-b8bc-4003-b6cf-17b571ba823e",
   "metadata": {},
   "outputs": [],
   "source": []
  },
  {
   "cell_type": "code",
   "execution_count": null,
   "id": "c974d279-a684-4949-95cb-3ab65b093246",
   "metadata": {},
   "outputs": [],
   "source": []
  },
  {
   "cell_type": "code",
   "execution_count": null,
   "id": "19ba6234-8637-4564-b999-38f5fe58f93e",
   "metadata": {},
   "outputs": [],
   "source": []
  },
  {
   "cell_type": "code",
   "execution_count": null,
   "id": "dc83e69b-220e-41cb-9589-b6da6782d13a",
   "metadata": {},
   "outputs": [],
   "source": []
  },
  {
   "cell_type": "code",
   "execution_count": null,
   "id": "1de43317-ffda-4a2f-bedb-78458411998d",
   "metadata": {},
   "outputs": [],
   "source": []
  },
  {
   "cell_type": "code",
   "execution_count": null,
   "id": "8dd25227-ba99-4faf-b00a-6d61267fc5be",
   "metadata": {},
   "outputs": [],
   "source": []
  },
  {
   "cell_type": "code",
   "execution_count": null,
   "id": "aaf96c49-20ee-4953-9c85-71b4777bfe9b",
   "metadata": {},
   "outputs": [],
   "source": []
  },
  {
   "cell_type": "code",
   "execution_count": null,
   "id": "d86240e6-3b7a-4b71-bd90-843c9b111d43",
   "metadata": {},
   "outputs": [],
   "source": []
  },
  {
   "cell_type": "code",
   "execution_count": null,
   "id": "187bb667-ef4e-4a8d-8c06-279be4d20e34",
   "metadata": {},
   "outputs": [],
   "source": []
  },
  {
   "cell_type": "code",
   "execution_count": null,
   "id": "2be55995-ace7-481b-a373-355b4a1f5b0f",
   "metadata": {},
   "outputs": [],
   "source": []
  },
  {
   "cell_type": "code",
   "execution_count": null,
   "id": "b2636262-fd3a-46f4-83eb-583e241125c0",
   "metadata": {},
   "outputs": [],
   "source": []
  },
  {
   "cell_type": "code",
   "execution_count": null,
   "id": "5d32103d-58ed-49e9-a5a5-69a268d006ec",
   "metadata": {},
   "outputs": [],
   "source": []
  },
  {
   "cell_type": "code",
   "execution_count": null,
   "id": "5282362d-c4a0-449b-a85f-d2faad62555b",
   "metadata": {},
   "outputs": [],
   "source": []
  },
  {
   "cell_type": "code",
   "execution_count": null,
   "id": "4c6d7a44-b13f-49b7-a057-db44c6ecb104",
   "metadata": {},
   "outputs": [],
   "source": []
  },
  {
   "cell_type": "code",
   "execution_count": null,
   "id": "484e49c7-5432-431f-8dc4-c2737161c916",
   "metadata": {},
   "outputs": [],
   "source": []
  },
  {
   "cell_type": "code",
   "execution_count": null,
   "id": "ba15360c-3afd-49a3-aeb7-ebc4239c2321",
   "metadata": {},
   "outputs": [],
   "source": []
  },
  {
   "cell_type": "code",
   "execution_count": null,
   "id": "6453bcf5-9e6d-4a27-bc71-5caa980b4316",
   "metadata": {},
   "outputs": [],
   "source": []
  },
  {
   "cell_type": "code",
   "execution_count": null,
   "id": "2662c3ff-6982-4109-8bc9-a3234907660b",
   "metadata": {},
   "outputs": [],
   "source": []
  },
  {
   "cell_type": "code",
   "execution_count": null,
   "id": "7c0044a7-b538-4d6a-80ce-48e444ed73c0",
   "metadata": {},
   "outputs": [],
   "source": []
  },
  {
   "cell_type": "code",
   "execution_count": null,
   "id": "b59cbd9d-b303-4fb4-a718-e60cce923a13",
   "metadata": {},
   "outputs": [],
   "source": []
  },
  {
   "cell_type": "code",
   "execution_count": null,
   "id": "c6c44021-26fb-4c18-ab62-df62f974b09b",
   "metadata": {},
   "outputs": [],
   "source": []
  },
  {
   "cell_type": "code",
   "execution_count": null,
   "id": "7dda8521-a497-4a94-9cda-6ccaed8a994b",
   "metadata": {},
   "outputs": [],
   "source": []
  },
  {
   "cell_type": "code",
   "execution_count": null,
   "id": "538daa7b-7d0e-412a-a9a6-52c684913396",
   "metadata": {},
   "outputs": [],
   "source": []
  },
  {
   "cell_type": "code",
   "execution_count": null,
   "id": "676bc45b-3fe4-4ba5-9aad-e0a3a4a6f7d4",
   "metadata": {},
   "outputs": [],
   "source": []
  },
  {
   "cell_type": "code",
   "execution_count": null,
   "id": "6a392fcf-3ea8-4a1e-8823-a855f59c41bc",
   "metadata": {},
   "outputs": [],
   "source": []
  }
 ],
 "metadata": {
  "kernelspec": {
   "display_name": "Python 3 (ipykernel)",
   "language": "python",
   "name": "python3"
  },
  "language_info": {
   "codemirror_mode": {
    "name": "ipython",
    "version": 3
   },
   "file_extension": ".py",
   "mimetype": "text/x-python",
   "name": "python",
   "nbconvert_exporter": "python",
   "pygments_lexer": "ipython3",
   "version": "3.9.7"
  }
 },
 "nbformat": 4,
 "nbformat_minor": 5
}
